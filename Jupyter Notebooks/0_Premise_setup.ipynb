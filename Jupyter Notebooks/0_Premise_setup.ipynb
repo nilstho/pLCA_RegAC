{
 "cells": [
  {
   "cell_type": "markdown",
   "id": "0e3e5b6f-67bd-4b7e-a4d0-de80647de224",
   "metadata": {},
   "source": [
    "# 0 Premise setup\n",
    "Setting up the database needed for the prospective LCA in pLCA_RegAC. Code is partially reused by the example provided by the [premise developers](https://premise.readthedocs.io/en/latest/introduction.html)\n",
    "\n",
    "## Loading libaries, clearing cache, and setting databases"
   ]
  },
  {
   "cell_type": "code",
   "execution_count": 1,
   "id": "189acc7d-91d3-4474-b4e7-771bfdf6a6c8",
   "metadata": {},
   "outputs": [
    {
     "ename": "ModuleNotFoundError",
     "evalue": "No module named 'cryptography'",
     "output_type": "error",
     "traceback": [
      "\u001b[1;31m---------------------------------------------------------------------------\u001b[0m",
      "\u001b[1;31mModuleNotFoundError\u001b[0m                       Traceback (most recent call last)",
      "Cell \u001b[1;32mIn[1], line 1\u001b[0m\n\u001b[1;32m----> 1\u001b[0m \u001b[38;5;28;01mfrom\u001b[39;00m \u001b[38;5;21;01mpremise\u001b[39;00m \u001b[38;5;28;01mimport\u001b[39;00m \u001b[38;5;241m*\u001b[39m\n\u001b[0;32m      2\u001b[0m \u001b[38;5;28;01mimport\u001b[39;00m \u001b[38;5;21;01mbrightway2\u001b[39;00m \u001b[38;5;28;01mas\u001b[39;00m \u001b[38;5;21;01mbw\u001b[39;00m\n",
      "File \u001b[1;32m~\\Anaconda3\\envs\\bw2\\lib\\site-packages\\premise\\__init__.py:9\u001b[0m\n\u001b[0;32m      6\u001b[0m DATA_DIR \u001b[38;5;241m=\u001b[39m Path(\u001b[38;5;18m__file__\u001b[39m)\u001b[38;5;241m.\u001b[39mresolve()\u001b[38;5;241m.\u001b[39mparent \u001b[38;5;241m/\u001b[39m \u001b[38;5;124m\"\u001b[39m\u001b[38;5;124mdata\u001b[39m\u001b[38;5;124m\"\u001b[39m\n\u001b[0;32m      7\u001b[0m INVENTORY_DIR \u001b[38;5;241m=\u001b[39m Path(\u001b[38;5;18m__file__\u001b[39m)\u001b[38;5;241m.\u001b[39mresolve()\u001b[38;5;241m.\u001b[39mparent \u001b[38;5;241m/\u001b[39m \u001b[38;5;124m\"\u001b[39m\u001b[38;5;124mdata\u001b[39m\u001b[38;5;124m\"\u001b[39m \u001b[38;5;241m/\u001b[39m \u001b[38;5;124m\"\u001b[39m\u001b[38;5;124madditional_inventories\u001b[39m\u001b[38;5;124m\"\u001b[39m\n\u001b[1;32m----> 9\u001b[0m \u001b[38;5;28;01mfrom\u001b[39;00m \u001b[38;5;21;01m.\u001b[39;00m\u001b[38;5;21;01mecoinvent_modification\u001b[39;00m \u001b[38;5;28;01mimport\u001b[39;00m NewDatabase\n\u001b[0;32m     10\u001b[0m \u001b[38;5;28;01mfrom\u001b[39;00m \u001b[38;5;21;01m.\u001b[39;00m\u001b[38;5;21;01mutils\u001b[39;00m \u001b[38;5;28;01mimport\u001b[39;00m clear_cache, get_regions_definition\n",
      "File \u001b[1;32m~\\Anaconda3\\envs\\bw2\\lib\\site-packages\\premise\\ecoinvent_modification.py:18\u001b[0m\n\u001b[0;32m     15\u001b[0m \u001b[38;5;28;01mimport\u001b[39;00m \u001b[38;5;21;01myaml\u001b[39;00m\n\u001b[0;32m     17\u001b[0m \u001b[38;5;28;01mfrom\u001b[39;00m \u001b[38;5;21;01m.\u001b[39;00m \u001b[38;5;28;01mimport\u001b[39;00m DATA_DIR, INVENTORY_DIR\n\u001b[1;32m---> 18\u001b[0m \u001b[38;5;28;01mfrom\u001b[39;00m \u001b[38;5;21;01m.\u001b[39;00m\u001b[38;5;21;01mcement\u001b[39;00m \u001b[38;5;28;01mimport\u001b[39;00m Cement\n\u001b[0;32m     19\u001b[0m \u001b[38;5;28;01mfrom\u001b[39;00m \u001b[38;5;21;01m.\u001b[39;00m\u001b[38;5;21;01mclean_datasets\u001b[39;00m \u001b[38;5;28;01mimport\u001b[39;00m DatabaseCleaner\n\u001b[0;32m     20\u001b[0m \u001b[38;5;28;01mfrom\u001b[39;00m \u001b[38;5;21;01m.\u001b[39;00m\u001b[38;5;21;01mdata_collection\u001b[39;00m \u001b[38;5;28;01mimport\u001b[39;00m IAMDataCollection\n",
      "File \u001b[1;32m~\\Anaconda3\\envs\\bw2\\lib\\site-packages\\premise\\cement.py:15\u001b[0m\n\u001b[0;32m     12\u001b[0m \u001b[38;5;28;01mfrom\u001b[39;00m \u001b[38;5;21;01mdatetime\u001b[39;00m \u001b[38;5;28;01mimport\u001b[39;00m date\n\u001b[0;32m     13\u001b[0m \u001b[38;5;28;01mfrom\u001b[39;00m \u001b[38;5;21;01mpathlib\u001b[39;00m \u001b[38;5;28;01mimport\u001b[39;00m Path\n\u001b[1;32m---> 15\u001b[0m \u001b[38;5;28;01mfrom\u001b[39;00m \u001b[38;5;21;01m.\u001b[39;00m\u001b[38;5;21;01mtransformation\u001b[39;00m \u001b[38;5;28;01mimport\u001b[39;00m (\n\u001b[0;32m     16\u001b[0m     BaseTransformation,\n\u001b[0;32m     17\u001b[0m     Dict,\n\u001b[0;32m     18\u001b[0m     IAMDataCollection,\n\u001b[0;32m     19\u001b[0m     List,\n\u001b[0;32m     20\u001b[0m     get_shares_from_production_volume,\n\u001b[0;32m     21\u001b[0m     get_suppliers_of_a_region,\n\u001b[0;32m     22\u001b[0m     np,\n\u001b[0;32m     23\u001b[0m     remove_exchanges,\n\u001b[0;32m     24\u001b[0m     ws,\n\u001b[0;32m     25\u001b[0m )\n\u001b[0;32m     26\u001b[0m \u001b[38;5;28;01mfrom\u001b[39;00m \u001b[38;5;21;01m.\u001b[39;00m\u001b[38;5;21;01mutils\u001b[39;00m \u001b[38;5;28;01mimport\u001b[39;00m DATA_DIR, get_clinker_ratio_ecoinvent, get_clinker_ratio_remind\n\u001b[0;32m     29\u001b[0m \u001b[38;5;28;01mclass\u001b[39;00m \u001b[38;5;21;01mCement\u001b[39;00m(BaseTransformation):\n",
      "File \u001b[1;32m~\\Anaconda3\\envs\\bw2\\lib\\site-packages\\premise\\transformation.py:19\u001b[0m\n\u001b[0;32m     16\u001b[0m \u001b[38;5;28;01mfrom\u001b[39;00m \u001b[38;5;21;01mwurst\u001b[39;00m \u001b[38;5;28;01mimport\u001b[39;00m transformations \u001b[38;5;28;01mas\u001b[39;00m wt\n\u001b[0;32m     18\u001b[0m \u001b[38;5;28;01mfrom\u001b[39;00m \u001b[38;5;21;01m.\u001b[39;00m\u001b[38;5;21;01mactivity_maps\u001b[39;00m \u001b[38;5;28;01mimport\u001b[39;00m InventorySet, get_gains_to_ecoinvent_emissions\n\u001b[1;32m---> 19\u001b[0m \u001b[38;5;28;01mfrom\u001b[39;00m \u001b[38;5;21;01m.\u001b[39;00m\u001b[38;5;21;01mdata_collection\u001b[39;00m \u001b[38;5;28;01mimport\u001b[39;00m IAMDataCollection\n\u001b[0;32m     20\u001b[0m \u001b[38;5;28;01mfrom\u001b[39;00m \u001b[38;5;21;01m.\u001b[39;00m\u001b[38;5;21;01mgeomap\u001b[39;00m \u001b[38;5;28;01mimport\u001b[39;00m Geomap\n\u001b[0;32m     21\u001b[0m \u001b[38;5;28;01mfrom\u001b[39;00m \u001b[38;5;21;01m.\u001b[39;00m\u001b[38;5;21;01mutils\u001b[39;00m \u001b[38;5;28;01mimport\u001b[39;00m get_fuel_properties, relink_technosphere_exchanges\n",
      "File \u001b[1;32m~\\Anaconda3\\envs\\bw2\\lib\\site-packages\\premise\\data_collection.py:20\u001b[0m\n\u001b[0;32m     18\u001b[0m \u001b[38;5;28;01mimport\u001b[39;00m \u001b[38;5;21;01mxarray\u001b[39;00m \u001b[38;5;28;01mas\u001b[39;00m \u001b[38;5;21;01mxr\u001b[39;00m\n\u001b[0;32m     19\u001b[0m \u001b[38;5;28;01mimport\u001b[39;00m \u001b[38;5;21;01myaml\u001b[39;00m\n\u001b[1;32m---> 20\u001b[0m \u001b[38;5;28;01mfrom\u001b[39;00m \u001b[38;5;21;01mcryptography\u001b[39;00m\u001b[38;5;21;01m.\u001b[39;00m\u001b[38;5;21;01mfernet\u001b[39;00m \u001b[38;5;28;01mimport\u001b[39;00m Fernet\n\u001b[0;32m     22\u001b[0m \u001b[38;5;28;01mfrom\u001b[39;00m \u001b[38;5;21;01m.\u001b[39;00m \u001b[38;5;28;01mimport\u001b[39;00m DATA_DIR\n\u001b[0;32m     24\u001b[0m IAM_ELEC_VARS \u001b[38;5;241m=\u001b[39m DATA_DIR \u001b[38;5;241m/\u001b[39m \u001b[38;5;124m\"\u001b[39m\u001b[38;5;124melectricity\u001b[39m\u001b[38;5;124m\"\u001b[39m \u001b[38;5;241m/\u001b[39m \u001b[38;5;124m\"\u001b[39m\u001b[38;5;124melectricity_tech_vars.yml\u001b[39m\u001b[38;5;124m\"\u001b[39m\n",
      "\u001b[1;31mModuleNotFoundError\u001b[0m: No module named 'cryptography'"
     ]
    }
   ],
   "source": [
    "from premise import *\n",
    "import brightway2 as bw"
   ]
  },
  {
   "cell_type": "code",
   "execution_count": 2,
   "id": "17423357-5f71-4b26-8634-63f61907adab",
   "metadata": {},
   "outputs": [
    {
     "ename": "NameError",
     "evalue": "name 'clear_cache' is not defined",
     "output_type": "error",
     "traceback": [
      "\u001b[1;31m---------------------------------------------------------------------------\u001b[0m",
      "\u001b[1;31mNameError\u001b[0m                                 Traceback (most recent call last)",
      "Cell \u001b[1;32mIn[2], line 1\u001b[0m\n\u001b[1;32m----> 1\u001b[0m \u001b[43mclear_cache\u001b[49m()\n",
      "\u001b[1;31mNameError\u001b[0m: name 'clear_cache' is not defined"
     ]
    }
   ],
   "source": [
    "clear_cache()"
   ]
  },
  {
   "cell_type": "code",
   "execution_count": null,
   "id": "2af21ddb-cae7-47d0-958a-16f4880034ae",
   "metadata": {},
   "outputs": [],
   "source": [
    "# Set the current project to \"premise\" within the brightway2\n",
    "bw.projects.set_current(\"premise\")\n",
    "\n",
    "# Attempting to access a list of databases within the current project.\n",
    "bw.databases"
   ]
  },
  {
   "cell_type": "markdown",
   "id": "269f94c8-5325-4f97-999c-2fab1c4ebdc4",
   "metadata": {},
   "source": [
    "## Setup biosphere and ecoinvent database"
   ]
  },
  {
   "cell_type": "code",
   "execution_count": null,
   "id": "b9a98266-f5c4-401e-b151-88dcbc4a7df0",
   "metadata": {},
   "outputs": [],
   "source": [
    "# Import the biosphere3 database\n",
    "bw.bw2setup()  # This will take some time"
   ]
  },
  {
   "cell_type": "code",
   "execution_count": null,
   "id": "3b06eac2-396d-49fa-948a-a04c3aa0abab",
   "metadata": {},
   "outputs": [],
   "source": [
    "# Import ecoinvent\n",
    "\n",
    "# You need to change the line below with the directory where you have saved ecoinvent\n",
    "ei38dir = \"ecoinvent 3.8_cutoff_ecoSpold02/datasets\"\n",
    "\n",
    "if 'ecoinvent 3.8 cutoff' in bw.databases:\n",
    "    print(\"Database has already been imported\")\n",
    "else:\n",
    "    ei38 = bw.SingleOutputEcospold2Importer(ei38dir, 'ecoinvent 3.8 cutoff') # You can give it another name of course\n",
    "    ei38.apply_strategies()\n",
    "    ei38.statistics()\n",
    "    ei38.write_database() # This will take some time."
   ]
  },
  {
   "cell_type": "markdown",
   "id": "6d3a2147-9729-4148-b349-0ec1f837a605",
   "metadata": {},
   "source": [
    "## Setup premise LCI databases with remind IAM scenarios (SSP2-NDC, SSP2-Base, and SSP2-PkBudg500) for the years 2030, 2040, and 2050"
   ]
  },
  {
   "cell_type": "code",
   "execution_count": null,
   "id": "4bd84450-680a-440e-a95a-32f054d5d5dd",
   "metadata": {},
   "outputs": [],
   "source": [
    "# Create new databases using the NewDatabase class.\n",
    "# This database will contain various scenarios with different models (here remind IAM), pathways (here SSP2-NDC, SSP2-Base, and SSP2-PkBudg500), and years (here 2030, 2040, and 2050).\n",
    "ndb = NewDatabase(\n",
    "    scenarios=[\n",
    "        {\"model\": \"remind\", \"pathway\": \"SSP2-NDC\", \"year\": 2030},\n",
    "        {\"model\": \"remind\", \"pathway\": \"SSP2-PkBudg500\", \"year\": 2030},\n",
    "        {\"model\": \"remind\", \"pathway\": \"SSP2-NDC\", \"year\": 2040},\n",
    "        {\"model\": \"remind\", \"pathway\": \"SSP2-PkBudg500\", \"year\": 2040},\n",
    "        {\"model\": \"remind\", \"pathway\": \"SSP2-NDC\", \"year\": 2050},\n",
    "        {\"model\": \"remind\", \"pathway\": \"SSP2-PkBudg500\", \"year\": 2050},\n",
    "        {\"model\": \"remind\", \"pathway\": \"SSP2-Base\", \"year\": 2030},\n",
    "        {\"model\": \"remind\", \"pathway\": \"SSP2-Base\", \"year\": 2040},\n",
    "        {\"model\": \"remind\", \"pathway\": \"SSP2-Base\", \"year\": 2050}\n",
    "    ],\n",
    "    source_db=\"ecoinvent 3.8 cutoff\",  # Name of the source database in the BW2 project. Must be a string and here \"ecoinvent 3.8 cutoff\".\n",
    "    source_version=\"3.8\",  # Version of ecoinvent. Can be \"3.5\", \"3.6\", \"3.7\" or \"3.8\". Must be a string.\n",
    "    key=''  # Decryption key obtained from library maintainers.\n",
    "    # Request this key if you want to use default scenarios included in `premise`.\n",
    ")"
   ]
  },
  {
   "cell_type": "code",
   "execution_count": null,
   "id": "9878689b-9966-432b-b1f5-6aa73fda6aab",
   "metadata": {},
   "outputs": [],
   "source": [
    "# Update all scenarios and data in the NewDatabase instance (ndb).\n",
    "# This method call triggers an update process that fetches and integrates the latest data for each scenario.\n",
    "ndb.update_all()"
   ]
  },
  {
   "cell_type": "code",
   "execution_count": null,
   "id": "a443a01c-f59f-4450-8bd2-f4afcdca3fc4",
   "metadata": {},
   "outputs": [],
   "source": [
    "# Write the contents of the NewDatabase (ndb) to a Brightway database.\n",
    "# This step involves transferring the scenario data and information to the Brightway framework.\n",
    "ndb.write_db_to_brightway()"
   ]
  },
  {
   "cell_type": "code",
   "execution_count": null,
   "id": "0c9aa626-8143-46f0-83d7-62724d32b6ea",
   "metadata": {},
   "outputs": [],
   "source": [
    "# Export various ecoinvent_remind databases for different scenarios and years using BW2Package.\n",
    "# Each line exports a specific database to a file, providing a unique name for the export.\n",
    "# This process enables creating separate export files for different scenarios and years.\n",
    "bw.BW2Package.export_obj(bw.Database('ecoinvent_remind_SSP2-NDC_2030'), 'ecoinvent_remind_SSP2-NDC_2030')\n",
    "bw.BW2Package.export_obj(bw.Database('ecoinvent_remind_SSP2-NDC_2040'), 'ecoinvent_remind_SSP2-NDC_2040')\n",
    "bw.BW2Package.export_obj(bw.Database('ecoinvent_remind_SSP2-NDC_2050'), 'ecoinvent_remind_SSP2-NDC_2050')\n",
    "bw.BW2Package.export_obj(bw.Database('ecoinvent_remind_SSP2-PkBudg500_2030'), 'ecoinvent_remind_SSP2-PkBudg500_2030')\n",
    "bw.BW2Package.export_obj(bw.Database('ecoinvent_remind_SSP2-PkBudg500_2040'), 'ecoinvent_remind_SSP2-PkBudg500_2040')\n",
    "bw.BW2Package.export_obj(bw.Database('ecoinvent_remind_SSP2-PkBudg500_2050'), 'ecoinvent_remind_SSP2-PkBudg500_2050')\n",
    "bw.BW2Package.export_obj(bw.Database('ecoinvent_remind_SSP2-Base_2030'), 'ecoinvent_remind_SSP2-Base_2030')\n",
    "bw.BW2Package.export_obj(bw.Database('ecoinvent_remind_SSP2-Base_2040'), 'ecoinvent_remind_SSP2-Base_2040')\n",
    "bw.BW2Package.export_obj(bw.Database('ecoinvent_remind_SSP2-Base_2050'), 'ecoinvent_remind_SSP2-Base_2050')"
   ]
  },
  {
   "cell_type": "markdown",
   "id": "b808f227-4caa-4e19-9594-e4805c3b6c9b",
   "metadata": {},
   "source": [
    "To continue and using this files please consult the Jupyter Notebook \"1_Projects_and_DA_setups\" in pLCA_RegAC"
   ]
  },
  {
   "cell_type": "code",
   "execution_count": null,
   "id": "48c43ff7-a2a9-4b53-a2bd-802725b7024b",
   "metadata": {},
   "outputs": [],
   "source": []
  }
 ],
 "metadata": {
  "kernelspec": {
   "display_name": "Python 3 (ipykernel)",
   "language": "python",
   "name": "python3"
  },
  "language_info": {
   "codemirror_mode": {
    "name": "ipython",
    "version": 3
   },
   "file_extension": ".py",
   "mimetype": "text/x-python",
   "name": "python",
   "nbconvert_exporter": "python",
   "pygments_lexer": "ipython3",
   "version": "3.9.16"
  }
 },
 "nbformat": 4,
 "nbformat_minor": 5
}
