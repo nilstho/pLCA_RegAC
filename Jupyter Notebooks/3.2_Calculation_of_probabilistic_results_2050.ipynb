{
 "cells": [
  {
   "cell_type": "markdown",
   "id": "883b5ad6",
   "metadata": {
    "tags": []
   },
   "source": [
    "# 3.3 Calculation of probabilistic results (2050)"
   ]
  },
  {
   "cell_type": "markdown",
   "id": "38dacd5c-5968-4d42-a396-1b1b9470b3db",
   "metadata": {
    "jp-MarkdownHeadingCollapsed": true,
    "tags": []
   },
   "source": [
    "## Importing libraries"
   ]
  },
  {
   "cell_type": "code",
   "execution_count": null,
   "id": "22f30af3",
   "metadata": {},
   "outputs": [],
   "source": [
    "from brightway2 import *\n",
    "import os               # to use \"operating system dependent functionality\"\n",
    "import numpy as np      # \"the fundamental package for scientific computing with Python\"\n",
    "import pandas as pd     # \"high-performance, easy-to-use data structures and data analysis tools\" for Python\n",
    "\n",
    "import matplotlib.pyplot as plt\n",
    "from scipy.stats import rankdata\n",
    "import string\n",
    "import pickle\n",
    "%matplotlib inline"
   ]
  },
  {
   "cell_type": "markdown",
   "id": "e8a9e3c3-f364-470f-95cd-3a2b7925d6ee",
   "metadata": {
    "jp-MarkdownHeadingCollapsed": true,
    "tags": []
   },
   "source": [
    "## Project setting"
   ]
  },
  {
   "cell_type": "code",
   "execution_count": null,
   "id": "bfa596d6",
   "metadata": {},
   "outputs": [],
   "source": [
    "projects.set_current('pLCA_RegAC_2050')"
   ]
  },
  {
   "cell_type": "markdown",
   "id": "82539d98-45b8-4662-bef0-632bf35229c1",
   "metadata": {
    "jp-MarkdownHeadingCollapsed": true,
    "tags": []
   },
   "source": [
    "## ImpactWorld+ import"
   ]
  },
  {
   "cell_type": "code",
   "execution_count": null,
   "id": "19f43e35-d280-4e83-af87-2382645a0c96",
   "metadata": {},
   "outputs": [],
   "source": [
    "# Import the specified BW2Package for the LCIA method IMPACTWorld+ file from the given path or import it to the same file location as this notebook\n",
    "BW2Package.import_file(\"Brightway_IW_damage_1_46_and_midpoint_1_28.bw2package\")\n",
    "\n",
    "# The water use method needs to be updated due to the fact that it was wrongly created.\n",
    "# Filter the methods list to find the desired method for 'IMPACTWorld+ (Default_Recommended_Midpoint 1.28)'.\n",
    "# Then, load the method and its characterization factors into the WS_lst variable.\n",
    "IWP_mid = [m for m in methods if 'IMPACTWorld+ (Default_Recommended_Midpoint 1.28)' in m[0]]\n",
    "WS = Method(IWP_mid[9])\n",
    "WS_lst = WS.load()\n",
    "\n",
    "# Define and remove certain characterization factors (CF) from the WS_lst.\n",
    "ex_CF = (('biosphere3', '2404b41a-2eed-4e9d-8ab6-783946fdf5d6'), -42.95353086694035)\n",
    "ex_CF_ocean = (('biosphere3', '4f0f15b3-b227-4cdc-b0b3-6412d55695d5'), 0)\n",
    "WS_lst.remove(ex_CF)\n",
    "WS_lst.remove(ex_CF_ocean)\n",
    "\n",
    "# Define a new characterization factor and add it to the WS_lst.\n",
    "new_CF = (('biosphere3', '8c1494a5-4987-4715-aa2d-1908c495f4eb'), 42.95353086694035)\n",
    "WS_lst.append(new_CF)\n",
    "\n",
    "# Create a new Method instance for the updated 'Water scarcity' method.\n",
    "# Register the new method and write the updated characterization factors to it.\n",
    "new_WS = Method(('IMPACTWorld+ (Default_Recommended_Midpoint 1.28)', 'Water scarcity'))\n",
    "new_WS.register()\n",
    "new_WS.write(WS_lst)"
   ]
  },
  {
   "cell_type": "markdown",
   "id": "163fd2c0-72fe-4390-91cf-d9efd40c8a87",
   "metadata": {},
   "source": [
    "Assigning methods and units required for axis labels in visualisations"
   ]
  },
  {
   "cell_type": "code",
   "execution_count": null,
   "id": "d6cbe50e-ad3f-44e2-aa54-4c1f4d5a7f99",
   "metadata": {
    "tags": []
   },
   "outputs": [],
   "source": [
    "IWP_mid = [m for m in methods if 'IMPACTWorld+ (Default_Recommended_Midpoint 1.28)' in m[0]]\n",
    "units_IWP_mid=['kg CO2eq.','kg CO2eq.','MJ dep.','kg dep.', 'kg NMVOCeq.','kg CFC-11eq.','CTUe','CTUh','CTUh','m3eq.','kg SO2eq.','kg SO2eq.','kg PO4eq.','kg Neq.', 'm2eq.', 'm2eq*yr.', 'kg PM2.5eq.', 'Bq C14eq.']"
   ]
  },
  {
   "cell_type": "code",
   "execution_count": null,
   "id": "49ab457c-2d84-4c84-b6be-f299578df55d",
   "metadata": {
    "tags": []
   },
   "outputs": [],
   "source": [
    "IWP_end = [m for m in methods if 'IMPACTWorld+ (Default_Recommended_Damage 1.46)' in m[0]]"
   ]
  },
  {
   "cell_type": "markdown",
   "id": "b9452e62-883f-4cf4-aa4c-58d61501e294",
   "metadata": {
    "jp-MarkdownHeadingCollapsed": true,
    "tags": []
   },
   "source": [
    "## Selection of processes for the configurations"
   ]
  },
  {
   "cell_type": "markdown",
   "id": "3ad1bed2-beb0-4daa-896e-f50d69de8ac7",
   "metadata": {},
   "source": [
    "Defining the 'use of aircraft' processes for all configurations, SSP scenarios and fuels from the imported LCI databases"
   ]
  },
  {
   "cell_type": "code",
   "execution_count": null,
   "id": "a5d62240-6f16-422d-8332-7e8de77002fe",
   "metadata": {},
   "outputs": [],
   "source": [
    "#Aircraft use processes for the typical mission (200 nmi)\n",
    "\n",
    "#KERSOSENE FUELED AIRCRAFT\n",
    "#conventional \n",
    "typ_aircraft_conv_kero_NDC = Database('GENESIS_2050_conventional_NDC').get('17D40CF28F3748DD8B56ED861593DA72')\n",
    "typ_aircraft_conv_kero_Base = Database(\"GENESIS_2050_conventional_Base\").get('17D40CF28F3748DD8B56ED861593DA72')\n",
    "typ_aircraft_conv_kero_PkBudg500 = Database(\"GENESIS_2050_conventional_PkBudg500\").get('17D40CF28F3748DD8B56ED861593DA72')\n",
    "\n",
    "#AAF FUELED AIRCRAFT\n",
    "#Conventional\n",
    "typ_aircraft_conv_AAF_NDC = Database(\"GENESIS_2050_conventional_NDC\").get('70E4280FBBC24DC09EB5512226D396F6')\n",
    "typ_aircraft_conv_AAF_Base = Database(\"GENESIS_2050_conventional_Base\").get('70E4280FBBC24DC09EB5512226D396F6')\n",
    "typ_aircraft_conv_AAF_PkBudg500 = Database(\"GENESIS_2050_conventional_PkBudg500\").get('70E4280FBBC24DC09EB5512226D396F6')\n",
    "typ_aircraft_conv_ILUC_NDC = Database(\"GENESIS_2050_conventional_NDC_ILUC\").get('70E4280FBBC24DC09EB5512226D396F6')\n",
    "\n",
    "#HYDROGEN FUELED AIRCRAFT\n",
    "#SOFC-bat\n",
    "typ_aircraft_SOFC_bat_NDC = Database(\"GENESIS_2050_SOFC-bat_NDC\").get('17D40CF28F3748DD8B56ED861593DA72')\n",
    "typ_aircraft_SOFC_bat_Base = Database(\"GENESIS_2050_SOFC-bat_Base\").get('17D40CF28F3748DD8B56ED861593DA72')\n",
    "typ_aircraft_SOFC_bat_PkBudg500 = Database(\"GENESIS_2050_SOFC-bat_PkBudg500\").get('17D40CF28F3748DD8B56ED861593DA72')\n",
    "\n",
    "#PEMFC-BAT\n",
    "typ_aircraft_PEMFC_bat_NDC = Database('GENESIS_2050_PEMFC-bat_NDC').get('17D40CF28F3748DD8B56ED861593DA72')\n",
    "typ_aircraft_PEMFC_bat_Base = Database(\"GENESIS_2050_PEMFC-bat_Base\").get('17D40CF28F3748DD8B56ED861593DA72')\n",
    "typ_aircraft_PEMFC_bat_PkBudg500 = Database(\"GENESIS_2050_PEMFC-bat_PkBudg500\").get('17D40CF28F3748DD8B56ED861593DA72')"
   ]
  },
  {
   "cell_type": "code",
   "execution_count": null,
   "id": "a1e0122e-2042-4ee6-824d-beff92d55346",
   "metadata": {},
   "outputs": [],
   "source": [
    "#Aircraft use processes for the design mission (600 nmi)\n",
    "\n",
    "#KERSOSENE FUELED AIRCRAFT\n",
    "#Conventional\n",
    "des_aircraft_conv_kero_NDC = Database('GENESIS_2050_conventional_NDC').get('0808F060E0F94D1BB0380DFA4A9065F5')\n",
    "des_aircraft_conv_kero_Base = Database(\"GENESIS_2050_conventional_Base\").get('0808F060E0F94D1BB0380DFA4A9065F5')\n",
    "des_aircraft_conv_kero_PkBudg500 = Database(\"GENESIS_2050_conventional_PkBudg500\").get('0808F060E0F94D1BB0380DFA4A9065F5')\n",
    "\n",
    "#AAF FUELED AIRCRAFT\n",
    "#Conventional\n",
    "des_aircraft_conv_AAF_NDC = Database(\"GENESIS_2050_conventional_NDC\").get('E60BCC7BBBB44E729CCC8156F32F7793')\n",
    "des_aircraft_conv_AAF_Base = Database(\"GENESIS_2050_conventional_Base\").get('E60BCC7BBBB44E729CCC8156F32F7793')\n",
    "des_aircraft_conv_AAF_PkBudg500 = Database(\"GENESIS_2050_conventional_PkBudg500\").get('E60BCC7BBBB44E729CCC8156F32F7793')\n",
    "des_aircraft_conv_ILUC_NDC = Database(\"GENESIS_2050_conventional_NDC_ILUC\").get('E60BCC7BBBB44E729CCC8156F32F7793')\n",
    "\n",
    "#HYDROGEN FUELED AIRCRAFT\n",
    "#SOFC-bat\n",
    "des_aircraft_SOFC_bat_NDC = Database(\"GENESIS_2050_SOFC-bat_NDC\").get('0808F060E0F94D1BB0380DFA4A9065F5')\n",
    "des_aircraft_SOFC_bat_Base = Database(\"GENESIS_2050_SOFC-bat_Base\").get('0808F060E0F94D1BB0380DFA4A9065F5')\n",
    "des_aircraft_SOFC_bat_PkBudg500 = Database(\"GENESIS_2050_SOFC-bat_PkBudg500\").get('0808F060E0F94D1BB0380DFA4A9065F5')\n",
    "\n",
    "#PEMFC-BAT\n",
    "des_aircraft_PEMFC_bat_NDC = Database('GENESIS_2050_PEMFC-bat_NDC').get('0808F060E0F94D1BB0380DFA4A9065F5')\n",
    "des_aircraft_PEMFC_bat_Base = Database(\"GENESIS_2050_PEMFC-bat_Base\").get('0808F060E0F94D1BB0380DFA4A9065F5')\n",
    "des_aircraft_PEMFC_bat_PkBudg500 = Database(\"GENESIS_2050_PEMFC-bat_PkBudg500\").get('0808F060E0F94D1BB0380DFA4A9065F5')"
   ]
  },
  {
   "cell_type": "markdown",
   "id": "7be755fb-592a-4ee9-9b43-1c8f7d6307ea",
   "metadata": {
    "jp-MarkdownHeadingCollapsed": true,
    "tags": []
   },
   "source": [
    "## Monte Carlo Calculation (500 runs, seed=35)"
   ]
  },
  {
   "cell_type": "markdown",
   "id": "e225a18b-fd48-48ce-ad02-7ebbcae451e7",
   "metadata": {},
   "source": [
    "Definition of function for Monte Carlo simulations, with a seed number of 35. The code in the next cell is based on the work of Chris Mutel and Pascal Lesage https://github.com/PoutineAndRosti/Brightway-Seminar-2017/blob/master/Day%201%20PM/Brightway%20and%20uncertainty.ipynb"
   ]
  },
  {
   "cell_type": "code",
   "execution_count": null,
   "id": "18589323-7181-411a-81fc-b4646e6a4492",
   "metadata": {},
   "outputs": [],
   "source": [
    "def multiImpactMonteCarloLCA(functional_unit, list_methods, iterations):\n",
    "    \n",
    "    # Step 1 Create a MonteCarloLCA object with some functional unit but no method, set seed\n",
    "    MC_lca = MonteCarloLCA(functional_unit, seed=35)\n",
    "    #run .lci to build the A and B matrices \n",
    "    MC_lca.lci()\n",
    "    \n",
    "    # Step 2 Create an empty 'C_matrices' dictionary, that will collect characterization factor matrices (C matrices). \n",
    "    #Keys will be the tuple representing the method name, and the values will be the actual matrices.\n",
    "    C_matrices = {}\n",
    "    \n",
    "    # Step 3 for loop that iterates over a list of method names and stores the method_name:C_matrix in the dictionary\n",
    "    for method in list_methods:\n",
    "        MC_lca.switch_method(method)\n",
    "        #add the C matrix for the method in question to the C_matrices dictionary\n",
    "        C_matrices[method] = MC_lca.characterization_matrix \n",
    "\n",
    "    # Step 4 empty array (np.empty) of dimension equal to the number of methods that will be considered (rows) by the number of iterations required (columns).\n",
    "    results = np.empty((len(list_methods), iterations)) \n",
    "    \n",
    "    # Step 5 Populating the array using a for loop over the number of MonteCarlo iterations required (use next to rebuild the A and B matrices). \n",
    "    for iteration in range(iterations):\n",
    "        next(MC_lca)\n",
    "        for method_index, method in enumerate(list_methods):\n",
    "            results[method_index, iteration] = (C_matrices[method]*MC_lca.inventory).sum()\n",
    "    return results"
   ]
  },
  {
   "cell_type": "markdown",
   "id": "26f8fc77-e283-40df-9800-e509e73346b3",
   "metadata": {},
   "source": [
    "Setting up ImpactWorld+ for midpoint LCIA method"
   ]
  },
  {
   "cell_type": "code",
   "execution_count": null,
   "id": "fafc0970-3350-4c80-aad0-8fda590a7598",
   "metadata": {},
   "outputs": [],
   "source": [
    "IWP_mid = [m for m in methods if 'IMPACTWorld+ (Default_Recommended_Midpoint 1.28)' in m[0]]\n",
    "units_IWP_mid=['[kg CO2eq.]','[kg CO2eq.]','[MJ dep.]','[kg dep.]', '[kg NMVOCeq.]','[kg CFC-11eq.]','[CTUe]','[CTUh]','[CTUh]','[m3eq.]','[kg SO2eq.]','[kg SO2eq.]','[kg PO4eq.]','[kg Neq.]', '[m2eq.]', '[m2eq*yr.]', '[kg PM2.5eq.]', '[Bq C14eq.]']"
   ]
  },
  {
   "cell_type": "markdown",
   "id": "69da4f59-bf68-4400-8092-afdda6fac4b8",
   "metadata": {},
   "source": [
    "Setting up ImpactWorld+ for endpoint LCIA method"
   ]
  },
  {
   "cell_type": "code",
   "execution_count": null,
   "id": "e4cfe2b4-4249-43c0-b289-d9939e38042e",
   "metadata": {},
   "outputs": [],
   "source": [
    "IWP_end= [m for m in methods if 'IMPACTWorld+ (Default_Recommended_Damage 1.46)' in m[0]]"
   ]
  },
  {
   "cell_type": "markdown",
   "id": "5a8207e2-f731-480e-bcf1-4a5a67885c1f",
   "metadata": {
    "tags": []
   },
   "source": [
    "### Design mission"
   ]
  },
  {
   "cell_type": "markdown",
   "id": "8dd7f5d7-b226-47d0-82bb-9a5de149b328",
   "metadata": {
    "tags": []
   },
   "source": [
    "#### Endpoint"
   ]
  },
  {
   "cell_type": "markdown",
   "id": "597a96bb-f28d-46c6-8314-b4fa0553634b",
   "metadata": {},
   "source": [
    "Running the Monte Carlo simulations for the design mission configurations defined above (endpoint). Each configuration takes around 2.5 hours."
   ]
  },
  {
   "cell_type": "code",
   "execution_count": null,
   "id": "a9c5542a-6ddd-4ae8-84e7-6eae56aae887",
   "metadata": {
    "tags": []
   },
   "outputs": [],
   "source": [
    "r_des_aircraft_conv_kero_NDC=multiImpactMonteCarloLCA({des_aircraft_conv_kero_NDC:1}, IWP_end, 500) \n",
    "r_des_aircraft_conv_kero_Base= multiImpactMonteCarloLCA({des_aircraft_conv_kero_Base:1}, IWP_end, 500) \n",
    "r_des_aircraft_conv_kero_PkBudg500=multiImpactMonteCarloLCA({des_aircraft_conv_kero_PkBudg500:1}, IWP_end, 500)\n",
    "r_des_aircraft_conv_AAF_NDC = multiImpactMonteCarloLCA({des_aircraft_conv_AAF_NDC:1}, IWP_end, 500) \n",
    "r_des_aircraft_conv_AAF_Base = multiImpactMonteCarloLCA({des_aircraft_conv_AAF_Base:1}, IWP_end, 500) \n",
    "r_des_aircraft_conv_AAF_PkBudg500 = multiImpactMonteCarloLCA({des_aircraft_conv_AAF_PkBudg500:1}, IWP_end, 500) \n",
    "r_des_aircraft_PEMFC_bat_NDC = multiImpactMonteCarloLCA({des_aircraft_PEMFC_bat_NDC:1}, IWP_end, 500) \n",
    "r_des_aircraft_PEMFC_bat_Base = multiImpactMonteCarloLCA({des_aircraft_PEMFC_bat_Base:1}, IWP_end, 500) \n",
    "r_des_aircraft_PEMFC_bat_PkBudg500 = multiImpactMonteCarloLCA({des_aircraft_PEMFC_bat_PkBudg500:1}, IWP_end, 500) \n",
    "r_des_aircraft_SOFC_bat_NDC = multiImpactMonteCarloLCA({des_aircraft_SOFC_bat_NDC:1}, IWP_end, 500) \n",
    "r_des_aircraft_SOFC_bat_Base = multiImpactMonteCarloLCA({des_aircraft_SOFC_bat_Base:1}, IWP_end, 500) \n",
    "r_des_aircraft_SOFC_bat_PkBudg500 = multiImpactMonteCarloLCA({des_aircraft_SOFC_bat_PkBudg500:1}, IWP_end, 500) \n",
    "r_des_aircraft_conv_ILUC_NDC = multiImpactMonteCarloLCA({des_aircraft_conv_ILUC_NDC:1}, IWP_end, 500) \n",
    "\n",
    "var_design_endpoint_2050 = [r_des_aircraft_conv_kero_NDC,\n",
    "                       r_des_aircraft_conv_kero_Base,\n",
    "                       r_des_aircraft_conv_kero_PkBudg500,\n",
    "                       r_des_aircraft_conv_AAF_NDC,\n",
    "                       r_des_aircraft_conv_AAF_Base,\n",
    "                       r_des_aircraft_conv_AAF_PkBudg500,\n",
    "                       r_des_aircraft_PEMFC_bat_NDC,\n",
    "                       r_des_aircraft_PEMFC_bat_Base,\n",
    "                       r_des_aircraft_PEMFC_bat_PkBudg500,\n",
    "                       r_des_aircraft_SOFC_bat_NDC,\n",
    "                       r_des_aircraft_SOFC_bat_Base,\n",
    "                       r_des_aircraft_SOFC_bat_PkBudg500,\n",
    "                       r_des_aircraft_conv_ILUC_NDC]\n",
    "\n",
    "with open(f\"MC_design_endpoint_2050.pkl\", \"wb+\") as f:\n",
    "        pickle.dump(var_design_endpoint_2050, f)"
   ]
  },
  {
   "cell_type": "markdown",
   "id": "71163679-9a7e-4d69-9ea0-a4cc0b201cb7",
   "metadata": {
    "jp-MarkdownHeadingCollapsed": true,
    "tags": []
   },
   "source": [
    "#### Midpoint"
   ]
  },
  {
   "cell_type": "markdown",
   "id": "4aa12d00-ac8e-432c-a647-5bc7b5b2b131",
   "metadata": {},
   "source": [
    "Running the Monte Carlo simulations for the design mission configurations defined above (midpoint). Each configuration takes around 2.5 hours."
   ]
  },
  {
   "cell_type": "code",
   "execution_count": null,
   "id": "80c76101-0705-4cbc-8946-52b61c106883",
   "metadata": {
    "tags": []
   },
   "outputs": [],
   "source": [
    "r_des_aircraft_conv_kero_NDC=multiImpactMonteCarloLCA({des_aircraft_conv_kero_NDC:1}, IWP_mid, 500) \n",
    "r_des_aircraft_conv_kero_Base= multiImpactMonteCarloLCA({des_aircraft_conv_kero_Base:1}, IWP_mid, 500) \n",
    "r_des_aircraft_conv_kero_PkBudg500=multiImpactMonteCarloLCA({des_aircraft_conv_kero_PkBudg500:1}, IWP_mid, 500)\n",
    "r_des_aircraft_conv_AAF_NDC = multiImpactMonteCarloLCA({des_aircraft_conv_AAF_NDC:1}, IWP_mid, 500) \n",
    "r_des_aircraft_conv_AAF_Base = multiImpactMonteCarloLCA({des_aircraft_conv_AAF_Base:1}, IWP_mid, 500) \n",
    "r_des_aircraft_conv_AAF_PkBudg500 = multiImpactMonteCarloLCA({des_aircraft_conv_AAF_PkBudg500:1}, IWP_mid, 500) \n",
    "r_des_aircraft_PEMFC_bat_NDC = multiImpactMonteCarloLCA({des_aircraft_PEMFC_bat_NDC:1}, IWP_mid, 500) \n",
    "r_des_aircraft_PEMFC_bat_Base = multiImpactMonteCarloLCA({des_aircraft_PEMFC_bat_Base:1}, IWP_mid, 500) \n",
    "r_des_aircraft_PEMFC_bat_PkBudg500 = multiImpactMonteCarloLCA({des_aircraft_PEMFC_bat_PkBudg500:1}, IWP_mid, 500) \n",
    "r_des_aircraft_SOFC_bat_NDC = multiImpactMonteCarloLCA({des_aircraft_SOFC_bat_NDC:1}, IWP_mid, 500) \n",
    "r_des_aircraft_SOFC_bat_Base = multiImpactMonteCarloLCA({des_aircraft_SOFC_bat_Base:1}, IWP_mid, 500) \n",
    "r_des_aircraft_SOFC_bat_PkBudg500 = multiImpactMonteCarloLCA({des_aircraft_SOFC_bat_PkBudg500:1}, IWP_mid, 500) \n",
    "r_typ_aircraft_conv_ILUC_NDC = multiImpactMonteCarloLCA({typ_aircraft_conv_ILUC_NDC:1}, IWP_mid, 500) \n",
    "\n",
    "var_design_midpoint_2050 = [r_des_aircraft_conv_kero_NDC,\n",
    "                       r_des_aircraft_conv_kero_Base,\n",
    "                       r_des_aircraft_conv_kero_PkBudg500,\n",
    "                       r_des_aircraft_conv_AAF_NDC,\n",
    "                       r_des_aircraft_conv_AAF_Base,\n",
    "                       r_des_aircraft_conv_AAF_PkBudg500,\n",
    "                       r_des_aircraft_PEMFC_bat_NDC,\n",
    "                       r_des_aircraft_PEMFC_bat_Base,\n",
    "                       r_des_aircraft_PEMFC_bat_PkBudg500,\n",
    "                       r_des_aircraft_SOFC_bat_NDC,\n",
    "                       r_des_aircraft_SOFC_bat_Base,\n",
    "                       r_des_aircraft_SOFC_bat_PkBudg500,\n",
    "                       r_typ_aircraft_conv_ILUC_NDC]\n",
    "\n",
    "with open(f\"MC_design_midpoint_2050.pkl\", \"wb+\") as f:\n",
    "        pickle.dump(var_design_midpoint_2050, f)"
   ]
  },
  {
   "cell_type": "markdown",
   "id": "a464609d-de99-444a-961c-5c42cdb69526",
   "metadata": {
    "jp-MarkdownHeadingCollapsed": true,
    "tags": []
   },
   "source": [
    "### Typical mission"
   ]
  },
  {
   "cell_type": "markdown",
   "id": "e4dd7df2-ce86-4f53-8ef1-42de2651bf8e",
   "metadata": {
    "jp-MarkdownHeadingCollapsed": true,
    "tags": []
   },
   "source": [
    "#### Endpoint"
   ]
  },
  {
   "cell_type": "markdown",
   "id": "9aa0369a-517b-4f8f-8461-8e0545905ade",
   "metadata": {},
   "source": [
    "Running the Monte Carlo simulations for the typical mission configurations defined above (endpoint). Each configuration takes around 2.5 hours."
   ]
  },
  {
   "cell_type": "code",
   "execution_count": null,
   "id": "b02b4210-005f-46c9-a40b-4e72f0efad76",
   "metadata": {
    "tags": []
   },
   "outputs": [],
   "source": [
    "\n",
    "r_typ_aircraft_conv_kero_NDC=multiImpactMonteCarloLCA({typ_aircraft_conv_kero_NDC:1}, IWP_end, 500) \n",
    "r_typ_aircraft_conv_kero_Base= multiImpactMonteCarloLCA({typ_aircraft_conv_kero_Base:1}, IWP_end, 500) \n",
    "r_typ_aircraft_conv_kero_PkBudg500=multiImpactMonteCarloLCA({typ_aircraft_conv_kero_PkBudg500:1}, IWP_end, 500)\n",
    "r_typ_aircraft_conv_AAF_NDC = multiImpactMonteCarloLCA({typ_aircraft_conv_AAF_NDC:1}, IWP_end, 500) \n",
    "r_typ_aircraft_conv_AAF_Base = multiImpactMonteCarloLCA({typ_aircraft_conv_AAF_Base:1}, IWP_end, 500) \n",
    "r_typ_aircraft_conv_AAF_PkBudg500 = multiImpactMonteCarloLCA({typ_aircraft_conv_AAF_PkBudg500:1}, IWP_end, 500) \n",
    "r_typ_aircraft_PEMFC_bat_NDC = multiImpactMonteCarloLCA({typ_aircraft_PEMFC_bat_NDC:1}, IWP_end, 500) \n",
    "r_typ_aircraft_PEMFC_bat_Base = multiImpactMonteCarloLCA({typ_aircraft_PEMFC_bat_Base:1}, IWP_end, 500) \n",
    "r_typ_aircraft_PEMFC_bat_PkBudg500 = multiImpactMonteCarloLCA({typ_aircraft_PEMFC_bat_PkBudg500:1}, IWP_end, 500) \n",
    "r_typ_aircraft_SOFC_bat_NDC = multiImpactMonteCarloLCA({typ_aircraft_SOFC_bat_NDC:1}, IWP_end, 500) \n",
    "r_typ_aircraft_SOFC_bat_Base = multiImpactMonteCarloLCA({typ_aircraft_SOFC_bat_Base:1}, IWP_end, 500) \n",
    "r_typ_aircraft_SOFC_bat_PkBudg500 = multiImpactMonteCarloLCA({typ_aircraft_SOFC_bat_PkBudg500:1}, IWP_end, 500) \n",
    "r_typ_aircraft_conv_ILUC_NDC = multiImpactMonteCarloLCA({typ_aircraft_conv_ILUC_NDC:1}, IWP_end, 500) \n",
    "\n",
    "\n",
    "var_typical_endpoint_2050 = [r_typ_aircraft_conv_kero_NDC,\n",
    "                       r_typ_aircraft_conv_kero_Base,\n",
    "                       r_typ_aircraft_conv_kero_PkBudg500,\n",
    "                       r_typ_aircraft_conv_AAF_NDC,\n",
    "                       r_typ_aircraft_conv_AAF_Base,\n",
    "                       r_typ_aircraft_conv_AAF_PkBudg500,\n",
    "                       r_typ_aircraft_PEMFC_bat_NDC,\n",
    "                       r_typ_aircraft_PEMFC_bat_Base,\n",
    "                       r_typ_aircraft_PEMFC_bat_PkBudg500,\n",
    "                       r_typ_aircraft_SOFC_bat_NDC,\n",
    "                       r_typ_aircraft_SOFC_bat_Base,\n",
    "                       r_typ_aircraft_SOFC_bat_PkBudg500,\n",
    "                       r_typ_aircraft_conv_ILUC_NDC]\n",
    "\n",
    "with open(f\"MC_typical_endpoint_2050.pkl\", \"wb+\") as f:\n",
    "        pickle.dump(var_typical_endpoint_2050, f)"
   ]
  },
  {
   "cell_type": "markdown",
   "id": "499b9be4-f044-476a-b3ed-5adce7e88930",
   "metadata": {
    "jp-MarkdownHeadingCollapsed": true,
    "tags": []
   },
   "source": [
    "#### Midpoint"
   ]
  },
  {
   "cell_type": "markdown",
   "id": "f1555e94-d20d-43b2-8a1e-5cbe3fe54568",
   "metadata": {},
   "source": [
    "Running the Monte Carlo simulations for the typical mission configurations defined above (midpoint). Each configuration takes around 2.5 hours."
   ]
  },
  {
   "cell_type": "code",
   "execution_count": null,
   "id": "7557aa35-727f-4e4c-9b5f-439e4455a075",
   "metadata": {
    "tags": []
   },
   "outputs": [],
   "source": [
    "r_typ_aircraft_conv_kero_NDC=multiImpactMonteCarloLCA({typ_aircraft_conv_kero_NDC:1}, IWP_mid, 500) \n",
    "r_typ_aircraft_conv_kero_Base= multiImpactMonteCarloLCA({typ_aircraft_conv_kero_Base:1}, IWP_mid, 500) \n",
    "r_typ_aircraft_conv_kero_PkBudg500=multiImpactMonteCarloLCA({typ_aircraft_conv_kero_PkBudg500:1}, IWP_mid, 500)\n",
    "r_typ_aircraft_conv_AAF_NDC = multiImpactMonteCarloLCA({typ_aircraft_conv_AAF_NDC:1}, IWP_mid, 500) \n",
    "r_typ_aircraft_conv_AAF_Base = multiImpactMonteCarloLCA({typ_aircraft_conv_AAF_Base:1}, IWP_mid, 500) \n",
    "r_typ_aircraft_conv_AAF_PkBudg500 = multiImpactMonteCarloLCA({typ_aircraft_conv_AAF_PkBudg500:1}, IWP_mid, 500) \n",
    "r_typ_aircraft_PEMFC_bat_NDC = multiImpactMonteCarloLCA({typ_aircraft_PEMFC_bat_NDC:1}, IWP_mid, 500) \n",
    "r_typ_aircraft_PEMFC_bat_Base = multiImpactMonteCarloLCA({typ_aircraft_PEMFC_bat_Base:1}, IWP_mid, 500) \n",
    "r_typ_aircraft_PEMFC_bat_PkBudg500 = multiImpactMonteCarloLCA({typ_aircraft_PEMFC_bat_PkBudg500:1}, IWP_mid, 500) \n",
    "r_typ_aircraft_SOFC_bat_NDC = multiImpactMonteCarloLCA({typ_aircraft_SOFC_bat_NDC:1}, IWP_mid, 500) \n",
    "r_typ_aircraft_SOFC_bat_Base = multiImpactMonteCarloLCA({typ_aircraft_SOFC_bat_Base:1}, IWP_mid, 500) \n",
    "r_typ_aircraft_SOFC_bat_PkBudg500 = multiImpactMonteCarloLCA({typ_aircraft_SOFC_bat_PkBudg500:1}, IWP_mid, 500) \n",
    "r_typ_aircraft_conv_ILUC_NDC = multiImpactMonteCarloLCA({typ_aircraft_conv_ILUC_NDC:1}, IWP_mid, 500) \n",
    "\n",
    "\n",
    "var_typical_midpoint_2050 = [r_typ_aircraft_conv_kero_NDC,\n",
    "                       r_typ_aircraft_conv_kero_Base,\n",
    "                       r_typ_aircraft_conv_kero_PkBudg500,\n",
    "                       r_typ_aircraft_conv_AAF_NDC,\n",
    "                       r_typ_aircraft_conv_AAF_Base,\n",
    "                       r_typ_aircraft_conv_AAF_PkBudg500,\n",
    "                       r_typ_aircraft_PEMFC_bat_NDC,\n",
    "                       r_typ_aircraft_PEMFC_bat_Base,\n",
    "                       r_typ_aircraft_PEMFC_bat_PkBudg500,\n",
    "                       r_typ_aircraft_SOFC_bat_NDC,\n",
    "                       r_typ_aircraft_SOFC_bat_Base,\n",
    "                       r_typ_aircraft_SOFC_bat_PkBudg500,\n",
    "                       r_typ_aircraft_conv_ILUC_NDC]\n",
    "\n",
    "with open(f\"MC_typical_midpoint_2050.pkl\", \"wb+\") as f:\n",
    "        pickle.dump(var_typical_midpoint_2050, f)\n",
    "\n"
   ]
  }
 ],
 "metadata": {
  "kernelspec": {
   "display_name": "Python 3 (ipykernel)",
   "language": "python",
   "name": "python3"
  },
  "language_info": {
   "codemirror_mode": {
    "name": "ipython",
    "version": 3
   },
   "file_extension": ".py",
   "mimetype": "text/x-python",
   "name": "python",
   "nbconvert_exporter": "python",
   "pygments_lexer": "ipython3",
   "version": "3.10.9"
  }
 },
 "nbformat": 4,
 "nbformat_minor": 5
}
