{
 "cells": [
  {
   "cell_type": "markdown",
   "id": "c6e71a26-7cd0-48b2-99ae-53e8a36006ba",
   "metadata": {},
   "source": [
    "# 2.1 Calculation of deterministic results (2030)"
   ]
  },
  {
   "cell_type": "markdown",
   "id": "883b5ad6",
   "metadata": {
    "jp-MarkdownHeadingCollapsed": true,
    "tags": []
   },
   "source": [
    "## Importing libraries"
   ]
  },
  {
   "cell_type": "code",
   "execution_count": null,
   "id": "22f30af3",
   "metadata": {},
   "outputs": [],
   "source": [
    "from brightway2 import *\n",
    "import os     \n",
    "import numpy as np     \n",
    "import pandas as pd     \n",
    "import numpy as np\n",
    "import matplotlib.pyplot as plt\n",
    "from scipy.stats import rankdata\n",
    "import string\n",
    "import pickle\n",
    "%matplotlib inline"
   ]
  },
  {
   "cell_type": "markdown",
   "id": "e8a9e3c3-f364-470f-95cd-3a2b7925d6ee",
   "metadata": {
    "jp-MarkdownHeadingCollapsed": true,
    "tags": []
   },
   "source": [
    "## Projects setting"
   ]
  },
  {
   "cell_type": "code",
   "execution_count": null,
   "id": "d670e8ee-7944-4b61-a1f9-adb391162ad8",
   "metadata": {},
   "outputs": [],
   "source": [
    "projects.set_current('pLCA_RegAC_2030')"
   ]
  },
  {
   "cell_type": "markdown",
   "id": "e38109f6-162a-4b75-9466-8f64c69d98cf",
   "metadata": {
    "jp-MarkdownHeadingCollapsed": true,
    "tags": []
   },
   "source": [
    "## ImpactWorld+ import"
   ]
  },
  {
   "cell_type": "code",
   "execution_count": null,
   "id": "3e4cc709-c1aa-4b96-92c5-1faaa54fd1f8",
   "metadata": {},
   "outputs": [],
   "source": [
    "# Import the specified BW2Package for the LCIA method IMPACTWorld+ file from the given path or import it to the same file location as this notebook\n",
    "BW2Package.import_file(\"Brightway_IW_damage_1_46_and_midpoint_1_28.bw2package\")\n",
    "\n",
    "# The water use method needs to be updated due to the fact that it was wrongly created.\n",
    "# Filter the methods list to find the desired method for 'IMPACTWorld+ (Default_Recommended_Midpoint 1.28)'.\n",
    "# Then, load the method and its characterization factors into the WS_lst variable.\n",
    "IWP_mid = [m for m in methods if 'IMPACTWorld+ (Default_Recommended_Midpoint 1.28)' in m[0]]\n",
    "WS = Method(IWP_mid[9])\n",
    "WS_lst = WS.load()\n",
    "\n",
    "# Define and remove certain characterization factors (CF) from the WS_lst.\n",
    "ex_CF = (('biosphere3', '2404b41a-2eed-4e9d-8ab6-783946fdf5d6'), -42.95353086694035)\n",
    "ex_CF_ocean = (('biosphere3', '4f0f15b3-b227-4cdc-b0b3-6412d55695d5'), 0)\n",
    "WS_lst.remove(ex_CF)\n",
    "WS_lst.remove(ex_CF_ocean)\n",
    "\n",
    "# Define a new characterization factor and add it to the WS_lst.\n",
    "new_CF = (('biosphere3', '8c1494a5-4987-4715-aa2d-1908c495f4eb'), 42.95353086694035)\n",
    "WS_lst.append(new_CF)\n",
    "\n",
    "# Create a new Method instance for the updated 'Water scarcity' method.\n",
    "# Register the new method and write the updated characterization factors to it.\n",
    "new_WS = Method(('IMPACTWorld+ (Default_Recommended_Midpoint 1.28)', 'Water scarcity'))\n",
    "new_WS.register()\n",
    "new_WS.write(WS_lst)"
   ]
  },
  {
   "cell_type": "markdown",
   "id": "122ff2b1-9e88-4308-aebf-3e265ee223f7",
   "metadata": {},
   "source": [
    "Assigning methods and units required for axis labels in visualisations"
   ]
  },
  {
   "cell_type": "code",
   "execution_count": null,
   "id": "7d26a2ff-d6ed-4d96-b2f0-7d00dcfadeaa",
   "metadata": {
    "tags": []
   },
   "outputs": [],
   "source": [
    "IWP_mid = [m for m in methods if 'IMPACTWorld+ (Default_Recommended_Midpoint 1.28)' in m[0]]\n",
    "units_IWP_mid=['kg CO2eq.','kg CO2eq.','MJ dep.','kg dep.', 'kg NMVOCeq.','kg CFC-11eq.','CTUe','CTUh','CTUh','m3eq.','kg SO2eq.','kg SO2eq.','kg PO4eq.','kg Neq.', 'm2eq.', 'm2eq*yr.', 'kg PM2.5eq.', 'Bq C14eq.']"
   ]
  },
  {
   "cell_type": "code",
   "execution_count": null,
   "id": "69cc04bf-0a60-4ed2-ba4e-4e86e7b9698e",
   "metadata": {
    "tags": []
   },
   "outputs": [],
   "source": [
    "IWP_end = [m for m in methods if 'IMPACTWorld+ (Default_Recommended_Damage 1.46)' in m[0]]"
   ]
  },
  {
   "cell_type": "markdown",
   "id": "c39cda4c-c081-4908-9e7c-f33bf878c5e9",
   "metadata": {
    "jp-MarkdownHeadingCollapsed": true,
    "tags": []
   },
   "source": [
    "## Selection of processes for the configurations"
   ]
  },
  {
   "cell_type": "markdown",
   "id": "406a817b-f264-40e1-ac32-8b0aec8ee1ea",
   "metadata": {},
   "source": [
    "Defining the 'use of aircraft' processes for all configurations, SSP scenarios and fuels from the imported LCI databases"
   ]
  },
  {
   "cell_type": "code",
   "execution_count": null,
   "id": "72ee5de2-fd92-479b-8d84-d37919e429ea",
   "metadata": {
    "tags": []
   },
   "outputs": [],
   "source": [
    "#Aircraft use processes for the typical mission (200 nmi)\n",
    "\n",
    "#KERSOSENE FUELED AIRCRAFT\n",
    "#conventional \n",
    "typ_aircraft_conv_kero_NDC = Database('GENESIS_2030_conventional_NDC').get('F2FEAAE907F648A69BFB501E91366D35')\n",
    "typ_aircraft_conv_kero_Base = Database(\"GENESIS_2030_conventional_Base\").get('F2FEAAE907F648A69BFB501E91366D35')\n",
    "typ_aircraft_conv_kero_PkBudg500 = Database(\"GENESIS_2030_conventional_PkBudg500\").get('F2FEAAE907F648A69BFB501E91366D35')\n",
    "\n",
    "#Gt-bat \n",
    "typ_aircraft_GT_bat_kero_NDC = Database(\"GENESIS_2030_GT-bat_NDC\").get('6F97863F6BEF4DE383907C08DE912E6D')\n",
    "typ_aircraft_GT_bat_kero_Base = Database(\"GENESIS_2030_GT-bat_Base\").get('6F97863F6BEF4DE383907C08DE912E6D')\n",
    "typ_aircraft_GT_bat_kero_PkBudg500 = Database(\"GENESIS_2030_GT-bat_PkBudg500\").get('6F97863F6BEF4DE383907C08DE912E6D')\n",
    "\n",
    "\n",
    "#AAF FUELED AIRCRAFT\n",
    "#Conventional\n",
    "typ_aircraft_conv_AAF_NDC = Database(\"GENESIS_2030_conventional_NDC\").get('BE40C283116D46E986C246F2B77A86D7')\n",
    "typ_aircraft_conv_AAF_Base = Database(\"GENESIS_2030_conventional_Base\").get('BE40C283116D46E986C246F2B77A86D7')\n",
    "typ_aircraft_conv_AAF_PkBudg500 = Database(\"GENESIS_2030_conventional_PkBudg500\").get('BE40C283116D46E986C246F2B77A86D7')\n",
    "typ_aircraft_conv_ILUC_NDC = Database(\"GENESIS_2030_conventional_NDC_ILUC\").get('BE40C283116D46E986C246F2B77A86D7')\n",
    "\n",
    "#Gt-bat\n",
    "typ_aircraft_GT_bat_AAF_NDC = Database(\"GENESIS_2030_GT-bat_NDC\").get('DFDABF367DB344E4AFEF072D2A7634F3')\n",
    "typ_aircraft_GT_bat_AAF_Base = Database(\"GENESIS_2030_GT-bat_Base\").get('DFDABF367DB344E4AFEF072D2A7634F3')\n",
    "typ_aircraft_GT_bat_AAF_PkBudg500 = Database(\"GENESIS_2030_GT-bat_PkBudg500\").get('DFDABF367DB344E4AFEF072D2A7634F3')\n",
    "typ_aircraft_GT_bat_ILUC_NDC = Database(\"GENESIS_2030_GT-bat_NDC_ILUC\").get('DFDABF367DB344E4AFEF072D2A7634F3')\n"
   ]
  },
  {
   "cell_type": "code",
   "execution_count": null,
   "id": "21da1237-3f72-4bb9-9382-016130a9db22",
   "metadata": {},
   "outputs": [],
   "source": [
    "#Aircraft use processes for the design mission (600 nmi)\n",
    "\n",
    "#KERSOSENE FUELED AIRCRAFT\n",
    "#conventional\n",
    "des_aircraft_conv_kero_NDC = Database('GENESIS_2030_conventional_NDC').get('0808F060E0F94D1BB0380DFA4A9065F5')\n",
    "des_aircraft_conv_kero_Base = Database(\"GENESIS_2030_conventional_Base\").get('0808F060E0F94D1BB0380DFA4A9065F5')\n",
    "des_aircraft_conv_kero_PkBudg500 = Database(\"GENESIS_2030_conventional_PkBudg500\").get('0808F060E0F94D1BB0380DFA4A9065F5')\n",
    "\n",
    "#Gt-bat\n",
    "des_aircraft_GT_bat_kero_NDC = Database(\"GENESIS_2030_GT-bat_NDC\").get('3FCE85DD88EF4504A6F7D6326303F33D')\n",
    "des_aircraft_GT_bat_kero_Base = Database(\"GENESIS_2030_GT-bat_Base\").get('3FCE85DD88EF4504A6F7D6326303F33D')\n",
    "des_aircraft_GT_bat_kero_PkBudg500 = Database(\"GENESIS_2030_GT-bat_PkBudg500\").get('3FCE85DD88EF4504A6F7D6326303F33D')\n",
    "\n",
    "#AAF FUELED AIRCRAFT\n",
    "#Conventional\n",
    "des_aircraft_conv_AAF_NDC = Database(\"GENESIS_2030_conventional_NDC\").get('BA3B99FBFBDA4677867DD3202F1BD7CC')\n",
    "des_aircraft_conv_AAF_Base = Database(\"GENESIS_2030_conventional_Base\").get('BA3B99FBFBDA4677867DD3202F1BD7CC')\n",
    "des_aircraft_conv_AAF_PkBudg500 = Database(\"GENESIS_2030_conventional_PkBudg500\").get('BA3B99FBFBDA4677867DD3202F1BD7CC')\n",
    "des_aircraft_conv_ILUC_NDC = Database(\"GENESIS_2030_conventional_NDC_ILUC\").get('BA3B99FBFBDA4677867DD3202F1BD7CC')\n",
    "\n",
    "#Gt-bat\n",
    "des_aircraft_GT_bat_AAF_NDC = Database(\"GENESIS_2030_GT-bat_NDC\").get('8C441EC088644DCAA1FF915F3E9AF97F')\n",
    "des_aircraft_GT_bat_AAF_Base = Database(\"GENESIS_2030_GT-bat_Base\").get('8C441EC088644DCAA1FF915F3E9AF97F')\n",
    "des_aircraft_GT_bat_AAF_PkBudg500 = Database(\"GENESIS_2030_GT-bat_PkBudg500\").get('8C441EC088644DCAA1FF915F3E9AF97F')\n",
    "des_aircraft_GT_bat_ILUC_NDC = Database(\"GENESIS_2030_GT-bat_NDC_ILUC\").get('8C441EC088644DCAA1FF915F3E9AF97F')\n",
    "\n"
   ]
  },
  {
   "cell_type": "markdown",
   "id": "a81dc780-a858-4985-b42b-d39a21fea9c7",
   "metadata": {},
   "source": [
    "Setting up dictionary with all 2030 typical mission configurations and SSP scenarios"
   ]
  },
  {
   "cell_type": "code",
   "execution_count": null,
   "id": "738e8229-c720-49fd-8591-c0f4fb3ec5e0",
   "metadata": {},
   "outputs": [],
   "source": [
    "configurations_typ = {\n",
    "    'typ_aircraft_conv_kero_Base': typ_aircraft_conv_kero_Base,\n",
    "    'typ_aircraft_conv_kero_NDC': typ_aircraft_conv_kero_NDC,\n",
    "    'typ_aircraft_conv_kero_PkBudg500': typ_aircraft_conv_kero_PkBudg500,\n",
    "    'typ_aircraft_GT_bat_kero_Base': typ_aircraft_GT_bat_kero_Base,\n",
    "    'typ_aircraft_GT_bat_kero_NDC': typ_aircraft_GT_bat_kero_NDC,\n",
    "    'typ_aircraft_GT_bat_kero_PkBudg500': typ_aircraft_GT_bat_kero_PkBudg500,\n",
    "    'typ_aircraft_conv_AAF_Base': typ_aircraft_conv_AAF_Base,\n",
    "    'typ_aircraft_conv_AAF_NDC': typ_aircraft_conv_AAF_NDC,\n",
    "    'typ_aircraft_conv_AAF_PkBudg500': typ_aircraft_conv_AAF_PkBudg500,\n",
    "    'typ_aircraft_GT_bat_AAF_Base': typ_aircraft_GT_bat_AAF_Base,\n",
    "    'typ_aircraft_GT_bat_AAF_NDC': typ_aircraft_GT_bat_AAF_NDC,\n",
    "    'typ_aircraft_GT_bat_AAF_PkBudg500': typ_aircraft_GT_bat_AAF_PkBudg500,\n",
    "    'typ_aircraft_GT_bat_ILUC_NDC':typ_aircraft_GT_bat_ILUC_NDC,\n",
    "    'typ_aircraft_conv_ILUC_NDC':typ_aircraft_conv_ILUC_NDC}"
   ]
  },
  {
   "cell_type": "markdown",
   "id": "44558e7e-b100-438a-86f9-56889c7190a5",
   "metadata": {},
   "source": [
    "Setting up dictionary with all 2030 design mission configurations and SSP scenarios"
   ]
  },
  {
   "cell_type": "code",
   "execution_count": null,
   "id": "1d0aec3b-4816-4f7b-b20b-4f03f9059b6e",
   "metadata": {},
   "outputs": [],
   "source": [
    "configurations_des= {\n",
    "    'des_aircraft_conv_kero_Base': des_aircraft_conv_kero_Base,\n",
    "    'des_aircraft_conv_kero_NDC': des_aircraft_conv_kero_NDC,\n",
    "    'des_aircraft_conv_kero_PkBudg500': des_aircraft_conv_kero_PkBudg500,\n",
    "    'des_aircraft_GT_bat_kero_Base': des_aircraft_GT_bat_kero_Base,\n",
    "    'des_aircraft_GT_bat_kero_NDC': des_aircraft_GT_bat_kero_NDC,\n",
    "    'des_aircraft_GT_bat_kero_PkBudg500': des_aircraft_GT_bat_kero_PkBudg500,\n",
    "    'des_aircraft_conv_AAF_Base': des_aircraft_conv_AAF_Base,\n",
    "    'des_aircraft_conv_AAF_NDC': des_aircraft_conv_AAF_NDC,\n",
    "    'des_aircraft_conv_AAF_PkBudg500': des_aircraft_conv_AAF_PkBudg500,\n",
    "    'des_aircraft_GT_bat_AAF_Base': des_aircraft_GT_bat_AAF_Base,\n",
    "    'des_aircraft_GT_bat_AAF_NDC': des_aircraft_GT_bat_AAF_NDC,\n",
    "    'des_aircraft_GT_bat_AAF_PkBudg500': des_aircraft_GT_bat_AAF_PkBudg500,\n",
    "    'des_aircraft_GT_bat_ILUC_NDC':des_aircraft_GT_bat_ILUC_NDC,\n",
    "    'des_aircraft_conv_ILUC_NDC':des_aircraft_conv_ILUC_NDC}"
   ]
  },
  {
   "cell_type": "markdown",
   "id": "90eea27a-8926-4152-b5a3-2495fb37d9ee",
   "metadata": {
    "jp-MarkdownHeadingCollapsed": true,
    "tags": []
   },
   "source": [
    "## Deterministic results"
   ]
  },
  {
   "cell_type": "markdown",
   "id": "519b6da4-0197-4f5f-8b9e-86ec7f82595d",
   "metadata": {
    "jp-MarkdownHeadingCollapsed": true,
    "tags": []
   },
   "source": [
    "### Midpoint"
   ]
  },
  {
   "cell_type": "markdown",
   "id": "1f7d24b5-911f-4375-8b20-7171a75cea23",
   "metadata": {},
   "source": [
    "Setting up ImpactWorld+ as midpoint LCIA method "
   ]
  },
  {
   "cell_type": "code",
   "execution_count": null,
   "id": "db6988b5-df27-4bf4-bb43-59c16dd32a39",
   "metadata": {},
   "outputs": [],
   "source": [
    "IWP_mid = [m for m in methods if 'IMPACTWorld+ (Default_Recommended_Midpoint 1.28)' in m[0]]"
   ]
  },
  {
   "cell_type": "markdown",
   "id": "3196c5c2-f2fa-4a84-b2a4-91db0aca29db",
   "metadata": {
    "jp-MarkdownHeadingCollapsed": true,
    "tags": []
   },
   "source": [
    "#### Typical mission"
   ]
  },
  {
   "cell_type": "markdown",
   "id": "6bd3ac30-f240-418c-8624-66e4256c67a6",
   "metadata": {},
   "source": [
    "Setting up empty dataframe for midpoint results"
   ]
  },
  {
   "cell_type": "code",
   "execution_count": null,
   "id": "004a7ec6-2ba0-4f6d-8217-587ff3ef56ab",
   "metadata": {},
   "outputs": [],
   "source": [
    "deterministic_mid_typ = pd.DataFrame(columns=[col[1] for col in IWP_mid], index=list(configurations_typ.keys()))"
   ]
  },
  {
   "cell_type": "markdown",
   "id": "2b53ea9b-e752-4c3c-b7b2-13579def4cdf",
   "metadata": {},
   "source": [
    "Generating midpoint results for all configurations with the typical mission with ImpactWorld+ and saving them in a pickle format"
   ]
  },
  {
   "cell_type": "code",
   "execution_count": null,
   "id": "bb74ba5d-3f32-4c13-8d32-6c73d273e444",
   "metadata": {},
   "outputs": [],
   "source": [
    "# generating midpoint results for 18 categories, for all 14 configurations\n",
    "\n",
    "for j in range(18):\n",
    "    for i in range(14):\n",
    "        test=configurations_typ[deterministic_mid_typ.index[i]]\n",
    "        E=[test]\n",
    "        fu={E[0]:1}\n",
    "        lca = LCA(fu, IWP_mid[j])\n",
    "        lca.lci()\n",
    "        lca.lcia()\n",
    "\n",
    "        #storing the midpoints in a dataframe\n",
    "        deterministic_mid_typ.loc[deterministic_mid_typ.index[i],deterministic_mid_typ.columns[j]]=lca.score\n",
    "display(deterministic_mid_typ)\n",
    "\n",
    "#saving the dataframe as a pickle file\n",
    "with open(f\"deterministic_midpoint_typ_2030.pkl\", \"wb+\") as f:\n",
    "        pickle.dump(deterministic_mid_typ, f)"
   ]
  },
  {
   "cell_type": "markdown",
   "id": "b5f44de7-8d7d-46bf-9382-5fa44e2b562f",
   "metadata": {
    "jp-MarkdownHeadingCollapsed": true,
    "tags": []
   },
   "source": [
    "#### Design mission"
   ]
  },
  {
   "cell_type": "markdown",
   "id": "5ffc43c2-7472-4bf2-923b-2cacf6fa9e4b",
   "metadata": {},
   "source": [
    "Setting up empty dataframe for midpoint results"
   ]
  },
  {
   "cell_type": "code",
   "execution_count": null,
   "id": "ecd6d821-3466-4413-9acd-aa9e4ab1d900",
   "metadata": {},
   "outputs": [],
   "source": [
    "deterministic_mid_des = pd.DataFrame(columns=[col[1] for col in IWP_mid], index=list(configurations_des.keys()))"
   ]
  },
  {
   "cell_type": "markdown",
   "id": "7b6c3e8a-750d-475d-a9b7-339e8a1d20d5",
   "metadata": {},
   "source": [
    "Generating midpoint results for all configurations with the design mission with ImpactWorld+ and saving them in a pickle format"
   ]
  },
  {
   "cell_type": "code",
   "execution_count": null,
   "id": "c22d566f-c2ff-4141-97ee-83763d9fcb34",
   "metadata": {},
   "outputs": [],
   "source": [
    "# generating midpoint results for 18 categories, for all 14 configurations\n",
    "\n",
    "for j in range(18):\n",
    "    for i in range(14):\n",
    "        test=configurations_des[deterministic_mid_des.index[i]]\n",
    "        E=[test]\n",
    "        fu={E[0]:1}\n",
    "        lca = LCA(fu, IWP_mid[j])\n",
    "        lca.lci()\n",
    "        lca.lcia()\n",
    "\n",
    "        #storing the midpoints in a dataframe\n",
    "        deterministic_mid_des.loc[deterministic_mid_des.index[i],deterministic_mid_des.columns[j]]=lca.score\n",
    "display(deterministic_mid_des)\n",
    "\n",
    "#saving the dataframe as a pickle file\n",
    "with open(f\"deterministic_midpoint_des_2030.pkl\", \"wb+\") as f:\n",
    "        pickle.dump(deterministic_mid_des, f)"
   ]
  },
  {
   "cell_type": "markdown",
   "id": "872689d4-d445-43b3-af82-2c10a66d0459",
   "metadata": {
    "jp-MarkdownHeadingCollapsed": true,
    "tags": []
   },
   "source": [
    "### Endpoint"
   ]
  },
  {
   "cell_type": "markdown",
   "id": "5add133e-f6f3-4d42-8d8a-5dc8d0709d47",
   "metadata": {},
   "source": [
    "Setting up ImpactWorld+ as endpoint LCIA method "
   ]
  },
  {
   "cell_type": "code",
   "execution_count": null,
   "id": "7840d274-13c2-47dc-9d52-7801fab63bcf",
   "metadata": {},
   "outputs": [],
   "source": [
    "IWP_end = [m for m in methods if 'IMPACTWorld+ (Default_Recommended_Damage 1.46)' in m[0]]"
   ]
  },
  {
   "cell_type": "markdown",
   "id": "8c0cd883-6e02-4908-9268-7ec7c44270bb",
   "metadata": {
    "jp-MarkdownHeadingCollapsed": true,
    "tags": []
   },
   "source": [
    "#### Typical mission"
   ]
  },
  {
   "cell_type": "markdown",
   "id": "559bd2a8-ee11-47d9-9dc4-3ca4080e78fd",
   "metadata": {},
   "source": [
    "Setting up empty dataframe for endpoint results"
   ]
  },
  {
   "cell_type": "code",
   "execution_count": null,
   "id": "60bb5b89-a203-460b-98b3-d6c346250152",
   "metadata": {},
   "outputs": [],
   "source": [
    "deterministic_end_typ = pd.DataFrame(columns=[col[1] for col in IWP_end], index=list(configurations_typ.keys()))"
   ]
  },
  {
   "cell_type": "markdown",
   "id": "64403d24-7f64-4c82-873f-d169ea3ea14c",
   "metadata": {},
   "source": [
    "Generating endpoint results for all configurations with ImpactWorld+ and saving them in a pickle format"
   ]
  },
  {
   "cell_type": "code",
   "execution_count": null,
   "id": "3c9a8af1-480f-4cc6-bb2d-fefbff8cae29",
   "metadata": {},
   "outputs": [],
   "source": [
    "# generating endpoint results for 27 categories, for all 14 configurations\n",
    "\n",
    "for j in range(27):\n",
    "    for i in range(14):\n",
    "        test=configurations_typ[deterministic_end_typ.index[i]]\n",
    "        E=[test]\n",
    "        fu={E[0]:1}\n",
    "        lca = LCA(fu, IWP_end[j])\n",
    "        lca.lci()\n",
    "        lca.lcia()\n",
    "\n",
    "         #storing the endpoints in a dataframe\n",
    "        deterministic_end_typ.loc[deterministic_end_typ.index[i],deterministic_end_typ.columns[j]]=lca.score\n",
    "display(deterministic_end_typ)\n",
    "\n",
    "#saving the dataframe as a pickle file\n",
    "with open(f\"deterministic_endpoint_typ_2030.pkl\", \"wb+\") as f:\n",
    "        pickle.dump(deterministic_end_typ, f)"
   ]
  },
  {
   "cell_type": "markdown",
   "id": "27d0e041-daa2-4eea-ae1d-6fb45f90b2ee",
   "metadata": {
    "jp-MarkdownHeadingCollapsed": true,
    "tags": []
   },
   "source": [
    "#### Design mission"
   ]
  },
  {
   "cell_type": "markdown",
   "id": "bd5c4fdd-60d6-496b-a212-4deff97e2103",
   "metadata": {},
   "source": [
    "Setting up empty dataframe for endpoint results"
   ]
  },
  {
   "cell_type": "code",
   "execution_count": null,
   "id": "b013daab-2741-4608-b613-67f66d06634a",
   "metadata": {},
   "outputs": [],
   "source": [
    "deterministic_end_des = pd.DataFrame(columns=[col[1] for col in IWP_end], index=list(configurations_des.keys()))"
   ]
  },
  {
   "cell_type": "markdown",
   "id": "88fe3771-8432-4d39-abcf-954209446db1",
   "metadata": {},
   "source": [
    "Generating endpoint results for all configurations with ImpactWorld+ and saving them in a pickle format"
   ]
  },
  {
   "cell_type": "code",
   "execution_count": null,
   "id": "ea5caadf-5cf3-4d8c-9193-0db0ab11b4ee",
   "metadata": {},
   "outputs": [],
   "source": [
    "# generating endpoint results for 27 categories, for all 14 configurations\n",
    "\n",
    "for j in range(27):\n",
    "    for i in range(14):\n",
    "        test=configurations_des[deterministic_end_des.index[i]]\n",
    "        E=[test]\n",
    "        fu={E[0]:1}\n",
    "        lca = LCA(fu, IWP_end[j])\n",
    "        lca.lci()\n",
    "        lca.lcia()\n",
    "\n",
    "         #storing the endpoints in a dataframe\n",
    "        deterministic_end_des.loc[deterministic_end_des.index[i],deterministic_end_des.columns[j]]=lca.score\n",
    "display(deterministic_end_des)\n",
    "\n",
    "#saving the dataframe as a pickle file\n",
    "with open(f\"deterministic_endpoint_des_2030.pkl\", \"wb+\") as f:\n",
    "        pickle.dump(deterministic_end_des, f)"
   ]
  },
  {
   "cell_type": "markdown",
   "id": "422ca48c-05f1-4d86-b4b1-cb9d3e46b7e6",
   "metadata": {
    "jp-MarkdownHeadingCollapsed": true,
    "tags": []
   },
   "source": [
    "## Contribution of life cycle stages "
   ]
  },
  {
   "cell_type": "markdown",
   "id": "7de12bef-c7cf-403e-9726-e2f945a509c0",
   "metadata": {},
   "source": [
    "The contribution of life cycle stages is only performed within the NDC scenario for endpoint."
   ]
  },
  {
   "cell_type": "markdown",
   "id": "e29c5ec0-2a5e-4745-86b4-539de41ccaf5",
   "metadata": {},
   "source": [
    "Retrieving all 'aircraft usage' proces codes from the NDC databases"
   ]
  },
  {
   "cell_type": "code",
   "execution_count": null,
   "id": "b98f9849-83a0-433c-a8a2-d0a4a66617ea",
   "metadata": {},
   "outputs": [],
   "source": [
    "acts_conv_2030 = [act['code'] for act in Database('GENESIS_2030_conventional_NDC') if act['name'].startswith('aircraft usage')]\n",
    "acts_GT_bat_2030 = [act['code'] for act in Database('GENESIS_2030_GT-bat_NDC') if act['name'].startswith('aircraft usage')]"
   ]
  },
  {
   "cell_type": "markdown",
   "id": "767c10e7-108b-4b00-980f-5f50998660ee",
   "metadata": {},
   "source": [
    "Set up function for contributiona analysis calculation"
   ]
  },
  {
   "cell_type": "code",
   "execution_count": null,
   "id": "31a77530-9951-44f0-a20f-0359de40c901",
   "metadata": {},
   "outputs": [],
   "source": [
    "def ca_calc(act_list, database, method):\n",
    "    ca_dict = {}\n",
    "    for act in act_list:\n",
    "        test = database.get(act)\n",
    "        E = [test]\n",
    "        fu = {E[0]: 1}\n",
    "        lca = LCA(fu, method)\n",
    "        lca.lci()\n",
    "        lca.lcia()\n",
    "        ca_list = []\n",
    "        ca_list.append(('Combustion', lca.characterized_inventory[:,lca.activity_dict.get(test.key)].sum()))\n",
    "        for exc in test.technosphere():\n",
    "            lca.redo_lcia({exc.input: exc['amount']})\n",
    "            ca_list.append((exc.input['name'], lca.score))\n",
    "            ca_dict[test['name']] = ca_list\n",
    "    return ca_dict"
   ]
  },
  {
   "cell_type": "markdown",
   "id": "d6840954-b7ea-42fb-9136-a1745f7c39a2",
   "metadata": {},
   "source": [
    "Selection of relevant endpoint methods. For the climate change, human toxicity, marine acidification and freshwater ecotoxicicty damages, the impacts are only considered over the short-term time span (from t=0 to t=100 years). See  world impact+ article from Bulle et al.(2019)"
   ]
  },
  {
   "cell_type": "code",
   "execution_count": null,
   "id": "50fb8594-207a-4dae-b483-d7737fffdc8e",
   "metadata": {},
   "outputs": [],
   "source": [
    "HH= [IWP_end[2], IWP_end[7], IWP_end[11],IWP_end[12],IWP_end[13],IWP_end[16],IWP_end[18],IWP_end[25]]\n",
    "EQ=[IWP_end[0], IWP_end[4], IWP_end[6],IWP_end[8],IWP_end[9],IWP_end[10],IWP_end[14],IWP_end[20],IWP_end[21],IWP_end[22],IWP_end[23],IWP_end[24],IWP_end[26]]"
   ]
  },
  {
   "cell_type": "markdown",
   "id": "fb793e12-e826-4b7e-9fcf-0e0419117b24",
   "metadata": {
    "jp-MarkdownHeadingCollapsed": true,
    "tags": []
   },
   "source": [
    "### Human Health"
   ]
  },
  {
   "cell_type": "code",
   "execution_count": null,
   "id": "a4517e16-16ee-4c85-bb14-7babde904be1",
   "metadata": {},
   "outputs": [],
   "source": [
    "#creating dataframe\n",
    "summed_df =pd.DataFrame()\n",
    "\n",
    "#running the life cycle stages contribution for all categories that contribute to the human health area of concern. \n",
    "for IC in HH:\n",
    "    ca = ca_calc(acts_GT_bat_2030, Database('GENESIS_2030_GT-bat_NDC'), IC) | ca_calc(acts_conv_2030, Database('GENESIS_2030_conventional_NDC'), IC)\n",
    "    ca_data = [[k, *v] for k, lst in ca.items() for v in lst]\n",
    "\n",
    "    #setting up dataframe\n",
    "    df = pd.DataFrame(ca_data, columns=['Configuration', 'Stage',  str(IC)])\n",
    "    df = df.groupby(['Configuration','Stage'])[ str(IC)].sum().unstack().fillna(0)\n",
    "    df['production of aircraft, GT-bat'] = df['production of aircraft, GT-bat'] + df['production of aircraft, conventional']\n",
    "    df = df.drop(columns='production of aircraft, conventional')\n",
    "    df = df.rename(columns={'SAF production, biodiesel proxy': 'SAF production',\n",
    "                            'airport use': 'Airport use',\n",
    "                            'market for kerosene': 'Kerosene production',\n",
    "                            'market group for electricity, low voltage': 'Electricity production',\n",
    "                            'production of aircraft, GT-bat': 'Aircraft production'})\n",
    "    df.index = pd.MultiIndex.from_tuples(df.index.str.split(', ').tolist())\n",
    "    df = df.reset_index(names=['LC', 'Mission', 'Configuration', 'Fuel']).drop(columns=['LC']).fillna(value='Kerosene')\n",
    "    df = df.rename_axis(None, axis=1)\n",
    "    df['Configuration'] = df['Configuration'].replace('conventional', 'Conventional')\n",
    "    if not summed_df.empty:\n",
    "          summed_df[['Combustion','SAF production', 'Airport use', 'Kerosene production', 'Electricity production', 'Aircraft production']] = summed_df[['Combustion','SAF production', 'Airport use', 'Kerosene production', 'Electricity production', 'Aircraft production']] + df[['Combustion','SAF production', 'Airport use', 'Kerosene production', 'Electricity production', 'Aircraft production']]\n",
    "    else:\n",
    "          summed_df = df\n",
    "            \n",
    "display(summed_df)       \n",
    "\n",
    "#saving dataframe as pickle file\n",
    "with open(f\"endpoint_stages_contribution_HH_2030.pkl\", \"wb+\") as f:\n",
    "        pickle.dump(summed_df, f)"
   ]
  },
  {
   "cell_type": "markdown",
   "id": "37e720c6-1831-4327-bcee-8a31c030861e",
   "metadata": {
    "jp-MarkdownHeadingCollapsed": true,
    "tags": []
   },
   "source": [
    "### Ecosystem Quality"
   ]
  },
  {
   "cell_type": "code",
   "execution_count": null,
   "id": "23f6195b-f246-4f53-8855-1f6a75007538",
   "metadata": {},
   "outputs": [],
   "source": [
    "#creating dataframe\n",
    "summed_df =pd.DataFrame()\n",
    "\n",
    "#running the life cycle stages contribution for all categories that contribute to the ecosystem quality area of concern. \n",
    "for IC in EQ:\n",
    "    ca = ca_calc(acts_GT_bat_2030, Database('GENESIS_2030_GT-bat_NDC'), IC) | ca_calc(acts_conv_2030, Database('GENESIS_2030_conventional_NDC'), IC)\n",
    "    ca_data = [[k, *v] for k, lst in ca.items() for v in lst]\n",
    "\n",
    "    #setting up dataframe\n",
    "    df = pd.DataFrame(ca_data, columns=['Configuration', 'Stage', str(IC)])\n",
    "    df = df.groupby(['Configuration','Stage'])[str(IC)].sum().unstack().fillna(0)\n",
    "    df['production of aircraft, GT-bat'] = df['production of aircraft, GT-bat'] + df['production of aircraft, conventional']\n",
    "    df = df.drop(columns='production of aircraft, conventional')\n",
    "    df = df.rename(columns={'SAF production, biodiesel proxy': 'SAF production',\n",
    "                            'airport use': 'Airport use',\n",
    "                            'market for kerosene': 'Kerosene production',\n",
    "                            'market group for electricity, low voltage': 'Electricity production',\n",
    "                            'production of aircraft, GT-bat': 'Aircraft production'})\n",
    "    df.index = pd.MultiIndex.from_tuples(df.index.str.split(', ').tolist())\n",
    "    df = df.reset_index(names=['LC', 'Mission', 'Configuration', 'Fuel']).drop(columns=['LC']).fillna(value='Kerosene')\n",
    "    df = df.rename_axis(None, axis=1)\n",
    "    df['Configuration'] = df['Configuration'].replace('conventional', 'Conventional')\n",
    "    if not summed_df.empty:\n",
    "          summed_df[['Combustion','SAF production', 'Airport use', 'Kerosene production', 'Electricity production', 'Aircraft production']] = summed_df[['Combustion','SAF production', 'Airport use', 'Kerosene production', 'Electricity production', 'Aircraft production']] + df[['Combustion','SAF production', 'Airport use', 'Kerosene production', 'Electricity production', 'Aircraft production']]\n",
    "    else:\n",
    "          summed_df = df\n",
    "            \n",
    "display(summed_df)\n",
    "\n",
    "#saving dataframe as pickle file\n",
    "with open(f\"endpoint_stages_contribution_EQ_2030.pkl\", \"wb+\") as f:\n",
    "        pickle.dump(summed_df, f)"
   ]
  }
 ],
 "metadata": {
  "kernelspec": {
   "display_name": "Python 3 (ipykernel)",
   "language": "python",
   "name": "python3"
  },
  "language_info": {
   "codemirror_mode": {
    "name": "ipython",
    "version": 3
   },
   "file_extension": ".py",
   "mimetype": "text/x-python",
   "name": "python",
   "nbconvert_exporter": "python",
   "pygments_lexer": "ipython3",
   "version": "3.10.9"
  }
 },
 "nbformat": 4,
 "nbformat_minor": 5
}
