{
 "cells": [
  {
   "cell_type": "markdown",
   "id": "ec99899d-5ca2-440e-b39b-4ccf262c272b",
   "metadata": {},
   "source": [
    "# 1 Projects and DB setups\n",
    "In this notebook everything needed for the calcucations in pLCA_RegAC will be set up."
   ]
  },
  {
   "cell_type": "code",
   "execution_count": 2,
   "id": "da482758-1956-43e1-8d4c-eeb8de0e3357",
   "metadata": {},
   "outputs": [],
   "source": [
    "from brightway2 import *"
   ]
  },
  {
   "cell_type": "markdown",
   "id": "c0c22d9e-32c7-4a7f-838b-00c60dbc8d10",
   "metadata": {
    "tags": []
   },
   "source": [
    "## 2030 timeframe\n",
    "### Project setup"
   ]
  },
  {
   "cell_type": "code",
   "execution_count": null,
   "id": "e0cd3e67-f8bb-4d21-a7db-6d49c028583d",
   "metadata": {
    "tags": []
   },
   "outputs": [],
   "source": [
    "# Set the current project to 'pLCA_RegAC_2030'.\n",
    "# This command changes the active project within the context of the projects framework.\n",
    "projects.set_current('pLCA_RegAC_2030')"
   ]
  },
  {
   "cell_type": "markdown",
   "id": "c5b65435-fd83-469d-a74d-37b70f1824b4",
   "metadata": {},
   "source": [
    "### Database setup"
   ]
  },
  {
   "cell_type": "code",
   "execution_count": null,
   "id": "26e62767-d108-4b21-9c2a-d789ed4b043f",
   "metadata": {},
   "outputs": [],
   "source": [
    "# Import the biosphere3 database\n",
    "bw2setup()  # This will take some time"
   ]
  },
  {
   "cell_type": "code",
   "execution_count": null,
   "id": "81c45e63-25c9-498d-b4c3-f3e01916af10",
   "metadata": {},
   "outputs": [],
   "source": [
    "#Import premise databases\n",
    "\n",
    "#Import SSP2-Base_2030 database\n",
    "if 'ecoinvent_remind_SSP2-Base_2030' in databases:\n",
    "    print(\"Database has already been imported\")\n",
    "else:\n",
    "    #you need to change that part to to path were you stored the created database with premise\n",
    "    BW2Package.import_file(\"ecoinvent_remind_SSP2-Base_2030.db57fc1191e9de724753c59cb107676b.bw2package\")\n",
    "\n",
    "#Import SSP2-NDC_2030 database\n",
    "if 'ecoinvent_remind_SSP2-NDC_2030' in databases:\n",
    "    print(\"Database has already been imported\")\n",
    "else:\n",
    "    #you need to change that part to to path were you stored the created database with premise\n",
    "    BW2Package.import_file(\"ecoinvent_remind_SSP2-NDC_2030.7388904fd66f11d074570ee84ee6dea7.bw2package\")\n",
    "\n",
    "#Import SSP2-SSP2-PkBudg500_2030 database\n",
    "if 'ecoinvent_remind_SSP2-PkBudg500_2030' in databases:\n",
    "    print(\"Database has already been imported\")\n",
    "else:\n",
    "    #you need to change that part to to path were you stored the created database with premise\n",
    "    BW2Package.import_file(\"ecoinvent_remind_SSP2-PkBudg500_2030.de3d2914845c628ce6a2c689dd8f7bb9.bw2package\")"
   ]
  },
  {
   "cell_type": "markdown",
   "id": "460b6d05-a244-4a1a-91dd-8b494b96c389",
   "metadata": {},
   "source": [
    "#### Deleting all uncertainty data from Premise databases\n",
    "In premise all uncertainty data is supposed to be empty (it was not in this version). The idea behind premise is that uncertainty should be evaluated mostly based on the foreground database (in our case the one we import from our LCI excel pedigree matrices), where as the uncertainty of the background database (premise) can be taken into account by comparing results from different  IAM scenarios. The next steps takes a very long time!"
   ]
  },
  {
   "cell_type": "code",
   "execution_count": null,
   "id": "8d44b0a8-85ca-4075-8a59-e3f3cf353bab",
   "metadata": {},
   "outputs": [],
   "source": [
    "ei_remind_2030_Base = Database('ecoinvent_remind_SSP2-Base_2030')\n",
    "ei_remind_2030_NDC = Database('ecoinvent_remind_SSP2-NDC_2030')\n",
    "ei_remind_2030_PkBudg = Database('ecoinvent_remind_SSP2-PkBudg500_2030')\n",
    "\n",
    "db_lst_2030 = [ei_remind_2030_Base,\n",
    "               ei_remind_2030_NDC,\n",
    "               ei_remind_2030_PkBudg]"
   ]
  },
  {
   "cell_type": "code",
   "execution_count": null,
   "id": "06f12340-570d-40f0-b443-296248bea8f8",
   "metadata": {},
   "outputs": [],
   "source": [
    "#replace all uncertainty types in background db\n",
    "for db in db_lst_2030:\n",
    "    for act in db:\n",
    "        for exc in list(act.exchanges()):\n",
    "            exc.pop('uncertainty type', None)\n",
    "            exc.pop('scale', None)\n",
    "            exc.pop('loc', None)\n",
    "            exc.pop('scale without pedigree', None)\n",
    "            exc.pop('pedigree', None)\n",
    "            exc.pop('shape', None)\n",
    "            exc.pop('minimum', None)\n",
    "            exc.pop('maximum', None)\n",
    "            exc.save()"
   ]
  },
  {
   "cell_type": "markdown",
   "id": "593cebb0-d80e-4a4a-b5a8-6a01f0de0313",
   "metadata": {
    "tags": []
   },
   "source": [
    "#### pLCA Reg AC database\n",
    "Two different options exist:\n",
    "1. Use LCI Excel files\n",
    "2. Use BW2 import files"
   ]
  },
  {
   "cell_type": "markdown",
   "id": "4e04fc4c-745d-4b03-a629-4f4932de0a54",
   "metadata": {
    "tags": []
   },
   "source": [
    "##### LCI Excel files\n",
    "Conventional NDC"
   ]
  },
  {
   "cell_type": "code",
   "execution_count": 27,
   "id": "bb56fd14-a371-448d-9b28-70f6146c9ccb",
   "metadata": {
    "tags": []
   },
   "outputs": [
    {
     "name": "stdout",
     "output_type": "stream",
     "text": [
      "Extracted 15 worksheets in 0.23 seconds\n",
      "Applying strategy: csv_restore_tuples\n",
      "Applying strategy: csv_restore_booleans\n",
      "Applying strategy: csv_numerize\n",
      "Applying strategy: csv_drop_unknown\n",
      "Applying strategy: csv_add_missing_exchanges_section\n",
      "Applying strategy: normalize_units\n",
      "Applying strategy: normalize_biosphere_categories\n",
      "Applying strategy: normalize_biosphere_names\n",
      "Applying strategy: strip_biosphere_exc_locations\n",
      "Applying strategy: set_code_by_activity_hash\n",
      "Applying strategy: link_iterable_by_fields\n",
      "Applying strategy: assign_only_product_as_production\n",
      "Applying strategy: link_technosphere_by_activity_hash\n",
      "Applying strategy: drop_falsey_uncertainty_fields_but_keep_zeros\n",
      "Applying strategy: convert_uncertainty_types_to_integers\n",
      "Applying strategy: convert_activity_parameters_to_list\n",
      "Applied 16 strategies in 17.86 seconds\n",
      "Applying strategy: link_iterable_by_fields\n",
      "Applying strategy: link_iterable_by_fields\n",
      "Applying strategy: link_iterable_by_fields\n",
      "92 datasets\n",
      "691 exchanges\n",
      "0 unlinked exchanges\n",
      "  \n"
     ]
    },
    {
     "data": {
      "text/plain": [
       "(92, 691, 0)"
      ]
     },
     "execution_count": 27,
     "metadata": {},
     "output_type": "execute_result"
    }
   ],
   "source": [
    "imp = ExcelImporter(os.path.join(\"GENESIS_Complete_short-term_conventional_NDC.xlsx\")) #you need to change that part to to path were you stored the created file\n",
    "imp.apply_strategies()\n",
    "imp.match_database(\"ecoinvent_remind_SSP2-NDC_2030\", fields=('name', 'unit', 'location', 'reference product'))\n",
    "imp.match_database(\"ecoinvent_remind_SSP2-NDC_2030\", fields=('name', 'unit', 'location'))\n",
    "imp.match_database(fields=('name', 'unit', 'location'))\n",
    "imp.statistics()\n",
    "imp.write_database()"
   ]
  },
  {
   "cell_type": "markdown",
   "id": "77429726-8ec8-49a5-a67a-e0c162499e50",
   "metadata": {},
   "source": [
    "GT-bat NDC"
   ]
  },
  {
   "cell_type": "code",
   "execution_count": 29,
   "id": "581562de-0acf-4626-ad7b-092a34cdff1f",
   "metadata": {
    "collapsed": true,
    "jupyter": {
     "outputs_hidden": true
    },
    "tags": []
   },
   "outputs": [
    {
     "name": "stdout",
     "output_type": "stream",
     "text": [
      "Extracted 67 worksheets in 56.12 seconds\n",
      "Applying strategy: csv_restore_tuples\n",
      "Applying strategy: csv_restore_booleans\n",
      "Applying strategy: csv_numerize\n",
      "Applying strategy: csv_drop_unknown\n",
      "Applying strategy: csv_add_missing_exchanges_section\n",
      "Applying strategy: normalize_units\n",
      "Applying strategy: normalize_biosphere_categories\n",
      "Applying strategy: normalize_biosphere_names\n",
      "Applying strategy: strip_biosphere_exc_locations\n",
      "Applying strategy: set_code_by_activity_hash\n",
      "Applying strategy: link_iterable_by_fields\n",
      "Applying strategy: assign_only_product_as_production\n",
      "Applying strategy: link_technosphere_by_activity_hash\n",
      "Applying strategy: drop_falsey_uncertainty_fields_but_keep_zeros\n",
      "Applying strategy: convert_uncertainty_types_to_integers\n",
      "Applying strategy: convert_activity_parameters_to_list\n",
      "Applied 16 strategies in 22.08 seconds\n",
      "Applying strategy: link_iterable_by_fields\n",
      "Applying strategy: link_iterable_by_fields\n",
      "Applying strategy: link_iterable_by_fields\n",
      "418 datasets\n",
      "2791 exchanges\n",
      "0 unlinked exchanges\n",
      "  \n"
     ]
    },
    {
     "data": {
      "text/plain": [
       "(418, 2791, 0)"
      ]
     },
     "execution_count": 29,
     "metadata": {},
     "output_type": "execute_result"
    }
   ],
   "source": [
    "imp = ExcelImporter(os.path.join(\"GENESIS_complete_GT-bat_short-term_NDC.xlsx\")) #you need to change that part to to path were you stored the created file\n",
    "imp.apply_strategies()\n",
    "imp.match_database(\"ecoinvent_remind_SSP2-NDC_2030\", fields=('name', 'unit', 'location', 'reference product'))\n",
    "imp.match_database(\"ecoinvent_remind_SSP2-NDC_2030\", fields=('name', 'unit', 'location'))\n",
    "imp.match_database(fields=('name', 'unit', 'location'))\n",
    "imp.statistics()\n",
    "imp.write_database()"
   ]
  },
  {
   "cell_type": "markdown",
   "id": "54290047-0790-4285-80f6-aeb5c05f36a6",
   "metadata": {},
   "source": [
    "Conventional Base"
   ]
  },
  {
   "cell_type": "code",
   "execution_count": 31,
   "id": "2d36c9c3-7b07-45f8-8fdc-aae141c8cc34",
   "metadata": {
    "collapsed": true,
    "jupyter": {
     "outputs_hidden": true
    },
    "tags": []
   },
   "outputs": [
    {
     "name": "stdout",
     "output_type": "stream",
     "text": [
      "Extracted 15 worksheets in 0.22 seconds\n",
      "Applying strategy: csv_restore_tuples\n",
      "Applying strategy: csv_restore_booleans\n",
      "Applying strategy: csv_numerize\n",
      "Applying strategy: csv_drop_unknown\n",
      "Applying strategy: csv_add_missing_exchanges_section\n",
      "Applying strategy: normalize_units\n",
      "Applying strategy: normalize_biosphere_categories\n",
      "Applying strategy: normalize_biosphere_names\n",
      "Applying strategy: strip_biosphere_exc_locations\n",
      "Applying strategy: set_code_by_activity_hash\n",
      "Applying strategy: link_iterable_by_fields\n",
      "Applying strategy: assign_only_product_as_production\n",
      "Applying strategy: link_technosphere_by_activity_hash\n",
      "Applying strategy: drop_falsey_uncertainty_fields_but_keep_zeros\n",
      "Applying strategy: convert_uncertainty_types_to_integers\n",
      "Applying strategy: convert_activity_parameters_to_list\n",
      "Applied 16 strategies in 17.45 seconds\n",
      "Applying strategy: link_iterable_by_fields\n",
      "Applying strategy: link_iterable_by_fields\n",
      "Applying strategy: link_iterable_by_fields\n",
      "92 datasets\n",
      "691 exchanges\n",
      "0 unlinked exchanges\n",
      "  \n"
     ]
    },
    {
     "data": {
      "text/plain": [
       "(92, 691, 0)"
      ]
     },
     "execution_count": 31,
     "metadata": {},
     "output_type": "execute_result"
    }
   ],
   "source": [
    "imp = ExcelImporter(os.path.join(\"GENESIS_Complete_short-term_conventional_Base.xlsx\")) #you need to change that part to to path were you stored the created file\n",
    "imp.apply_strategies()\n",
    "imp.match_database(\"ecoinvent_remind_SSP2-Base_2030\", fields=('name', 'unit', 'location', 'reference product'))\n",
    "imp.match_database(\"ecoinvent_remind_SSP2-Base_2030\", fields=('name', 'unit', 'location'))\n",
    "imp.match_database(fields=('name', 'unit', 'location'))\n",
    "imp.statistics()\n",
    "imp.write_database()"
   ]
  },
  {
   "cell_type": "markdown",
   "id": "c6030547-a34b-4658-9133-336ba2926f91",
   "metadata": {},
   "source": [
    "GT-bat Bas"
   ]
  },
  {
   "cell_type": "code",
   "execution_count": 33,
   "id": "bccd702d-55ba-4173-af76-b6787d23bce7",
   "metadata": {},
   "outputs": [
    {
     "name": "stdout",
     "output_type": "stream",
     "text": [
      "Extracted 67 worksheets in 0.94 seconds\n",
      "Applying strategy: csv_restore_tuples\n",
      "Applying strategy: csv_restore_booleans\n",
      "Applying strategy: csv_numerize\n",
      "Applying strategy: csv_drop_unknown\n",
      "Applying strategy: csv_add_missing_exchanges_section\n",
      "Applying strategy: normalize_units\n",
      "Applying strategy: normalize_biosphere_categories\n",
      "Applying strategy: normalize_biosphere_names\n",
      "Applying strategy: strip_biosphere_exc_locations\n",
      "Applying strategy: set_code_by_activity_hash\n",
      "Applying strategy: link_iterable_by_fields\n",
      "Applying strategy: assign_only_product_as_production\n",
      "Applying strategy: link_technosphere_by_activity_hash\n",
      "Applying strategy: drop_falsey_uncertainty_fields_but_keep_zeros\n",
      "Applying strategy: convert_uncertainty_types_to_integers\n",
      "Applying strategy: convert_activity_parameters_to_list\n",
      "Applied 16 strategies in 17.34 seconds\n",
      "Applying strategy: link_iterable_by_fields\n",
      "Applying strategy: link_iterable_by_fields\n",
      "Applying strategy: link_iterable_by_fields\n",
      "418 datasets\n",
      "2791 exchanges\n",
      "0 unlinked exchanges\n",
      "  \n"
     ]
    },
    {
     "data": {
      "text/plain": [
       "(418, 2791, 0)"
      ]
     },
     "execution_count": 33,
     "metadata": {},
     "output_type": "execute_result"
    }
   ],
   "source": [
    "imp = ExcelImporter(os.path.join(\"GENESIS_complete_GT-bat_short-term_Base.xlsx\")) #you need to change that part to to path were you stored the created file\n",
    "imp.apply_strategies()\n",
    "imp.match_database(\"ecoinvent_remind_SSP2-Base_2030\", fields=('name', 'unit', 'location', 'reference product'))\n",
    "imp.match_database(\"ecoinvent_remind_SSP2-Base_2030\", fields=('name', 'unit', 'location'))\n",
    "imp.match_database(fields=('name', 'unit', 'location'))\n",
    "imp.statistics()\n",
    "imp.write_database()"
   ]
  },
  {
   "cell_type": "markdown",
   "id": "690fdf52-7f9b-4b11-8f74-ebd028ea7ca1",
   "metadata": {},
   "source": [
    "Conventional PkBudg500"
   ]
  },
  {
   "cell_type": "code",
   "execution_count": 35,
   "id": "c641d30f-4113-4048-8409-7179a2a01c66",
   "metadata": {},
   "outputs": [
    {
     "name": "stdout",
     "output_type": "stream",
     "text": [
      "Extracted 15 worksheets in 0.25 seconds\n",
      "Applying strategy: csv_restore_tuples\n",
      "Applying strategy: csv_restore_booleans\n",
      "Applying strategy: csv_numerize\n",
      "Applying strategy: csv_drop_unknown\n",
      "Applying strategy: csv_add_missing_exchanges_section\n",
      "Applying strategy: normalize_units\n",
      "Applying strategy: normalize_biosphere_categories\n",
      "Applying strategy: normalize_biosphere_names\n",
      "Applying strategy: strip_biosphere_exc_locations\n",
      "Applying strategy: set_code_by_activity_hash\n",
      "Applying strategy: link_iterable_by_fields\n",
      "Applying strategy: assign_only_product_as_production\n",
      "Applying strategy: link_technosphere_by_activity_hash\n",
      "Applying strategy: drop_falsey_uncertainty_fields_but_keep_zeros\n",
      "Applying strategy: convert_uncertainty_types_to_integers\n",
      "Applying strategy: convert_activity_parameters_to_list\n",
      "Applied 16 strategies in 19.53 seconds\n",
      "Applying strategy: link_iterable_by_fields\n",
      "Applying strategy: link_iterable_by_fields\n",
      "Applying strategy: link_iterable_by_fields\n",
      "92 datasets\n",
      "691 exchanges\n",
      "0 unlinked exchanges\n",
      "  \n"
     ]
    },
    {
     "data": {
      "text/plain": [
       "(92, 691, 0)"
      ]
     },
     "execution_count": 35,
     "metadata": {},
     "output_type": "execute_result"
    }
   ],
   "source": [
    "imp = ExcelImporter(os.path.join(\"GENESIS_Complete_short-term_conventional_PkBudg500.xlsx\")) #you need to change that part to to path were you stored the created file\n",
    "imp.apply_strategies()\n",
    "imp.match_database(\"ecoinvent_remind_SSP2-PkBudg500_2030\", fields=('name', 'unit', 'location', 'reference product'))\n",
    "imp.match_database(\"ecoinvent_remind_SSP2-PkBudg500_2030\", fields=('name', 'unit', 'location'))\n",
    "imp.match_database(fields=('name', 'unit', 'location'))\n",
    "imp.statistics()\n",
    "imp.write_database()"
   ]
  },
  {
   "cell_type": "markdown",
   "id": "6ec6f1f1-fa65-4cb5-8ba6-73519c132f2f",
   "metadata": {},
   "source": [
    "GT-bat PkBudg500"
   ]
  },
  {
   "cell_type": "code",
   "execution_count": 37,
   "id": "146c60bf-d89e-40c0-83ca-e86750e2a1de",
   "metadata": {},
   "outputs": [
    {
     "name": "stdout",
     "output_type": "stream",
     "text": [
      "Extracted 67 worksheets in 0.98 seconds\n",
      "Applying strategy: csv_restore_tuples\n",
      "Applying strategy: csv_restore_booleans\n",
      "Applying strategy: csv_numerize\n",
      "Applying strategy: csv_drop_unknown\n",
      "Applying strategy: csv_add_missing_exchanges_section\n",
      "Applying strategy: normalize_units\n",
      "Applying strategy: normalize_biosphere_categories\n",
      "Applying strategy: normalize_biosphere_names\n",
      "Applying strategy: strip_biosphere_exc_locations\n",
      "Applying strategy: set_code_by_activity_hash\n",
      "Applying strategy: link_iterable_by_fields\n",
      "Applying strategy: assign_only_product_as_production\n",
      "Applying strategy: link_technosphere_by_activity_hash\n",
      "Applying strategy: drop_falsey_uncertainty_fields_but_keep_zeros\n",
      "Applying strategy: convert_uncertainty_types_to_integers\n",
      "Applying strategy: convert_activity_parameters_to_list\n",
      "Applied 16 strategies in 17.58 seconds\n",
      "Applying strategy: link_iterable_by_fields\n",
      "Applying strategy: link_iterable_by_fields\n",
      "Applying strategy: link_iterable_by_fields\n",
      "418 datasets\n",
      "2791 exchanges\n",
      "0 unlinked exchanges\n",
      "  \n"
     ]
    },
    {
     "data": {
      "text/plain": [
       "(418, 2791, 0)"
      ]
     },
     "execution_count": 37,
     "metadata": {},
     "output_type": "execute_result"
    }
   ],
   "source": [
    "imp = ExcelImporter(os.path.join(\"GENESIS_complete_GT-bat_short-term_PkBudg500.xlsx\")) #you need to change that part to to path were you stored the created file\n",
    "imp.apply_strategies()\n",
    "imp.match_database(\"ecoinvent_remind_SSP2-PkBudg500_2030\", fields=('name', 'unit', 'location', 'reference product'))\n",
    "imp.match_database(\"ecoinvent_remind_SSP2-PkBudg500_2030\", fields=('name', 'unit', 'location'))\n",
    "imp.match_database(fields=('name', 'unit', 'location'))\n",
    "imp.statistics()\n",
    "imp.write_database()"
   ]
  },
  {
   "cell_type": "markdown",
   "id": "a9b25c68-0111-4997-baa8-5e50a33b82fc",
   "metadata": {},
   "source": [
    "##### BW2 import files"
   ]
  },
  {
   "cell_type": "markdown",
   "id": "d3f73342-329a-4b62-92cb-99eaa908857f",
   "metadata": {},
   "source": [
    "Conventional\\\n",
    "You need to change that part to to path were you stored the created file"
   ]
  },
  {
   "cell_type": "code",
   "execution_count": null,
   "id": "e839ad85-1fd8-440c-baea-b8aabb880897",
   "metadata": {},
   "outputs": [],
   "source": [
    "BW2Package.import_file(\"GENESIS_2030_conventional_PkBudg500.c24aed9c321955f643971c9b62cd4ac2.bw2package\")\n",
    "BW2Package.import_file(\"GENESIS_2030_conventional_Base.6508ff9637e535c3b06d3c0a4a57e4a6.bw2package\")\n",
    "BW2Package.import_file(\"GENESIS_2030_conventional_NDC.1397acc1573b0b567ddbafac57547087.bw2package\")\n",
    "BW2Package.import_file(\"GENESIS_2030_conventional_NDC_ILUC.c1e793c91fe27b3e60d82c50a17b929d.bw2package\")"
   ]
  },
  {
   "cell_type": "markdown",
   "id": "9262d1e2-3cf2-45b3-a784-00fd6cf1bcb1",
   "metadata": {},
   "source": [
    "GT-bat\\\n",
    "You need to change that part to to path were you stored the created file"
   ]
  },
  {
   "cell_type": "code",
   "execution_count": null,
   "id": "f5ded1f4-0b20-4421-90c0-72a70ddcb215",
   "metadata": {},
   "outputs": [],
   "source": [
    "BW2Package.import_file(\"GENESIS_2030_GT-bat_PkBudg500.bfcb34d4f9beec3c61b4c0fec9ad8169.bw2package\")\n",
    "BW2Package.import_file(\"GENESIS_2030_GT-bat_Base.6d53bd410f11ce7cbeed3ec3c7e5cccd.bw2package\")\n",
    "BW2Package.import_file(\"GENESIS_2030_GT-bat_NDC.64a0ed963d1a1f198dd9a4525410ceb5.bw2package\")\n",
    "BW2Package.import_file(\"GENESIS_2030_GT-bat_NDC_ILUC.953dce5a9942e56b44cb0fd045a02dc4.bw2package\")"
   ]
  },
  {
   "cell_type": "markdown",
   "id": "cf19fb67-1e15-44ff-a294-3a0e45544f5b",
   "metadata": {
    "tags": []
   },
   "source": [
    "### LCIA method setup\n",
    "#### Setting up Life Cycle Impact Assessment Method [IMPACTWorld+](https://www.impactworldplus.org/en/index.php). BW2 package for method installation can be found [here](https://zenodo.org/record/1488373)"
   ]
  },
  {
   "cell_type": "code",
   "execution_count": null,
   "id": "1dcedcd7-1354-41b0-916b-401d9a8740d5",
   "metadata": {},
   "outputs": [],
   "source": [
    "# Import the specified BW2Package for the LCIA method IMPACTWorld+ file from the given path.\n",
    "BW2Package.import_file(\"Brightway_IW_damage_1_46_and_midpoint_1_28.bw2package\") #you need to change that part to to path were you stored the created database with premise\n",
    "\n",
    "# The water use method needs to be updated due to the fact that it was wrongly created.\n",
    "# Filter the methods list to find the desired method for 'IMPACTWorld+ (Default_Recommended_Midpoint 1.28)'.\n",
    "# Then, load the method and its characterization factors into the WS_lst variable.\n",
    "IWP_mid = [m for m in methods if 'IMPACTWorld+ (Default_Recommended_Midpoint 1.28)' in m[0]]\n",
    "WS = Method(IWP_mid[9])\n",
    "WS_lst = WS.load()\n",
    "\n",
    "# Define and remove certain characterization factors (CF) from the WS_lst.\n",
    "ex_CF = (('biosphere3', '2404b41a-2eed-4e9d-8ab6-783946fdf5d6'), -42.95353086694035)\n",
    "ex_CF_ocean = (('biosphere3', '4f0f15b3-b227-4cdc-b0b3-6412d55695d5'), 0)\n",
    "WS_lst.remove(ex_CF)\n",
    "WS_lst.remove(ex_CF_ocean)\n",
    "\n",
    "# Define a new characterization factor and add it to the WS_lst.\n",
    "new_CF = (('biosphere3', '8c1494a5-4987-4715-aa2d-1908c495f4eb'), 42.95353086694035)\n",
    "WS_lst.append(new_CF)\n",
    "\n",
    "# Create a new Method instance for the updated 'Water scarcity' method.\n",
    "# Register the new method and write the updated characterization factors to it.\n",
    "new_WS = Method(('IMPACTWorld+ (Default_Recommended_Midpoint 1.28)', 'Water scarcity'))\n",
    "new_WS.register()\n",
    "new_WS.write(WS_lst)"
   ]
  },
  {
   "cell_type": "markdown",
   "id": "f24bfbcf-8fdb-464e-8894-7f78691a0e12",
   "metadata": {},
   "source": [
    "#### Create aggregated endpoint CFs\n",
    "##### Ecosystem quality - Short term"
   ]
  },
  {
   "cell_type": "code",
   "execution_count": 11,
   "id": "ba40ddc0-db55-4bf5-a45d-35c5b0bd3d72",
   "metadata": {},
   "outputs": [],
   "source": [
    "iw_ep_eq_st_agg = {}\n",
    "\n",
    "for m in iw_ep_eq_st:\n",
    "    for flow in Method(m).load():\n",
    "        key = flow[0]\n",
    "        value = flow[1]\n",
    "        if key in iw_ep_eq_st_agg:\n",
    "            iw_ep_eq_st_agg[key] += value\n",
    "        else:\n",
    "            iw_ep_eq_st_agg[key] = value\n",
    "iw_ep_eq_st_agg_list = [(key, value) for key, value in iw_ep_eq_st_agg.items()]"
   ]
  },
  {
   "cell_type": "code",
   "execution_count": 12,
   "id": "d13ffe2b-ebe3-4e4b-94d2-749ef7998215",
   "metadata": {},
   "outputs": [],
   "source": [
    "my_method = Method(('IMPACTWorld+ (Default_Recommended_Damage 1.46)', 'Ecosystem quality, short term'))\n",
    "my_metadata = {'description': 'IMPACTWorld+ (Default_Damage). Version 1.46',\n",
    "               'unit': 'PDF.m2.yr',\n",
    "               'num_cfs': 2112}\n",
    "my_method.register(**my_metadata)\n",
    "my_method.write(iw_ep_eq_st_agg_list)"
   ]
  },
  {
   "cell_type": "markdown",
   "id": "94bce522-8131-4175-b20b-71f81f06a4a3",
   "metadata": {},
   "source": [
    "##### Human health - Short term"
   ]
  },
  {
   "cell_type": "code",
   "execution_count": 15,
   "id": "f8b26011-e826-4028-9fd8-cf8dfb827e36",
   "metadata": {},
   "outputs": [],
   "source": [
    "iw_ep_hh_st_agg = {}\n",
    "\n",
    "for m in iw_ep_hh_st:\n",
    "    for flow in Method(m).load():\n",
    "        key = flow[0]\n",
    "        value = flow[1]\n",
    "        if key in iw_ep_hh_st_agg:\n",
    "            iw_ep_hh_st_agg[key] += value\n",
    "        else:\n",
    "            iw_ep_hh_st_agg[key] = value\n",
    "iw_ep_hh_st_agg_list = [(key, value) for key, value in iw_ep_hh_st_agg.items()]"
   ]
  },
  {
   "cell_type": "code",
   "execution_count": 16,
   "id": "d9927577-fadf-4f10-b681-a0036609a318",
   "metadata": {
    "jupyter": {
     "source_hidden": true
    },
    "tags": []
   },
   "outputs": [],
   "source": [
    "my_method = Method(('IMPACTWorld+ (Default_Recommended_Damage 1.46)', 'Human health, short term'))\n",
    "my_metadata = {'description': 'IMPACTWorld+ (Default_Damage). Version 1.46',\n",
    "               'unit': 'DALY',\n",
    "               'num_cfs': 1610}\n",
    "my_method.register(**my_metadata)\n",
    "my_method.write(iw_ep_hh_st_agg_list)"
   ]
  },
  {
   "cell_type": "markdown",
   "id": "d2976be1-cab0-4478-956b-c08021762b9f",
   "metadata": {},
   "source": [
    "## 2040 timeframe\n",
    "### Project setup"
   ]
  },
  {
   "cell_type": "code",
   "execution_count": null,
   "id": "7f665607-d171-4f51-bd79-e69105595e1f",
   "metadata": {},
   "outputs": [],
   "source": [
    "# Set the current project to 'pLCA_RegAC_2040'.\n",
    "# This command changes the active project within the context of the projects framework.\n",
    "projects.set_current('pLCA_RegAC_2040')"
   ]
  },
  {
   "cell_type": "markdown",
   "id": "1ac2ca61-347e-433f-a6a8-03984dfcd9ae",
   "metadata": {},
   "source": [
    "### Database setup"
   ]
  },
  {
   "cell_type": "code",
   "execution_count": null,
   "id": "9521eff6-157c-446a-b91b-577c4abbb901",
   "metadata": {},
   "outputs": [],
   "source": [
    "# Import the biosphere3 database\n",
    "bw2setup()  # This will take some time"
   ]
  },
  {
   "cell_type": "code",
   "execution_count": null,
   "id": "1dfaac35-a76c-4341-8eb3-a4dcde5701f2",
   "metadata": {},
   "outputs": [],
   "source": [
    "#Import premise databases\n",
    "\n",
    "#Import SSP2-Base_2040 database\n",
    "if 'ecoinvent_remind_SSP2-Base_2040' in databases:\n",
    "    print(\"Database has already been imported\")\n",
    "else:\n",
    "    #you need to change that part to to path were you stored the created database with premise\n",
    "    BW2Package.import_file(\"ecoinvent_remind_SSP2-Base_2040.18b9af60d97fe43895267a4038808037.bw2package\")\n",
    "\n",
    "#Import SSP2-NDC_2040 database\n",
    "if 'ecoinvent_remind_SSP2-NDC_2040' in databases:\n",
    "    print(\"Database has already been imported\")\n",
    "else:\n",
    "    #you need to change that part to to path were you stored the created database with premise\n",
    "    BW2Package.import_file(\"ecoinvent_remind_SSP2-NDC_2040.d778d4720d3ede4acdc715fac3194221.bw2package\")\n",
    "\n",
    "#Import SSP2-SSP2-PkBudg500_2040 database\n",
    "if 'ecoinvent_remind_SSP2-PkBudg500_2040' in databases:\n",
    "    print(\"Database has already been imported\")\n",
    "else:\n",
    "    #you need to change that part to to path were you stored the created database with premise\n",
    "    BW2Package.import_file(\"ecoinvent_remind_SSP2-PkBudg500_2040.49b309934058a314bf8c95d23faa00df.bw2package\")"
   ]
  },
  {
   "cell_type": "markdown",
   "id": "500fdfbc-44ca-424d-a915-07b9f28eb1d1",
   "metadata": {},
   "source": [
    "#### Deleting all uncertainty data from Premise databases\n",
    "In premise all uncertainty data is supposed to be empty (it was not in this version). The idea behind premise is that uncertainty should be evaluated mostly based on the foreground database (in our case the one we import from our LCI excel pedigree matrices), where as the uncertainty of the background database (premise) can be taken into account by comparing results from different  IAM scenarios. The next steps takes a very long time!"
   ]
  },
  {
   "cell_type": "code",
   "execution_count": null,
   "id": "d4d774ab-18b9-4a11-baf6-762315ab35ed",
   "metadata": {},
   "outputs": [],
   "source": [
    "ei_remind_2040_Base = Database('ecoinvent_remind_SSP2-Base_2040')\n",
    "ei_remind_2040_NDC = Database('ecoinvent_remind_SSP2-NDC_2040')\n",
    "ei_remind_2040_PkBudg = Database('ecoinvent_remind_SSP2-PkBudg500_2040')\n",
    "\n",
    "db_lst_2040 = [ei_remind_2040_Base,\n",
    "               ei_remind_2040_NDC,\n",
    "               ei_remind_2040_PkBudg]"
   ]
  },
  {
   "cell_type": "code",
   "execution_count": null,
   "id": "5efdd6ff-38fa-4a70-ac4a-5bfb741bffb7",
   "metadata": {},
   "outputs": [],
   "source": [
    "#replace all uncertainty types in background db\n",
    "for db in db_lst_2040:\n",
    "    for act in db:\n",
    "        for exc in list(act.exchanges()):\n",
    "            exc.pop('uncertainty type', None)\n",
    "            exc.pop('scale', None)\n",
    "            exc.pop('loc', None)\n",
    "            exc.pop('scale without pedigree', None)\n",
    "            exc.pop('pedigree', None)\n",
    "            exc.pop('shape', None)\n",
    "            exc.pop('minimum', None)\n",
    "            exc.pop('maximum', None)\n",
    "            exc.save()"
   ]
  },
  {
   "cell_type": "markdown",
   "id": "83ad508e-5c3c-4f09-ada8-34a8e52d9453",
   "metadata": {
    "tags": []
   },
   "source": [
    "#### pLCA Reg AC database\n",
    "Two different options exist:\n",
    "1. Use LCI Excel files\n",
    "2. Use BW2 import files"
   ]
  },
  {
   "cell_type": "markdown",
   "id": "06e57867-fd14-4684-bb99-ce31a813d281",
   "metadata": {
    "tags": []
   },
   "source": [
    "##### LCI Excel files\n",
    "Conventional NDC"
   ]
  },
  {
   "cell_type": "code",
   "execution_count": 38,
   "id": "9bc9bcc0-c013-4557-9019-9e80c7afcf5a",
   "metadata": {
    "collapsed": true,
    "jupyter": {
     "outputs_hidden": true
    },
    "tags": []
   },
   "outputs": [
    {
     "name": "stdout",
     "output_type": "stream",
     "text": [
      "Extracted 15 worksheets in 1.08 seconds\n",
      "Applying strategy: csv_restore_tuples\n",
      "Applying strategy: csv_restore_booleans\n",
      "Applying strategy: csv_numerize\n",
      "Applying strategy: csv_drop_unknown\n",
      "Applying strategy: csv_add_missing_exchanges_section\n",
      "Applying strategy: normalize_units\n",
      "Applying strategy: normalize_biosphere_categories\n",
      "Applying strategy: normalize_biosphere_names\n",
      "Applying strategy: strip_biosphere_exc_locations\n",
      "Applying strategy: set_code_by_activity_hash\n",
      "Applying strategy: link_iterable_by_fields\n",
      "Applying strategy: assign_only_product_as_production\n",
      "Applying strategy: link_technosphere_by_activity_hash\n",
      "Applying strategy: drop_falsey_uncertainty_fields_but_keep_zeros\n",
      "Applying strategy: convert_uncertainty_types_to_integers\n",
      "Applying strategy: convert_activity_parameters_to_list\n",
      "Applied 16 strategies in 35.11 seconds\n",
      "Applying strategy: link_iterable_by_fields\n",
      "Applying strategy: link_iterable_by_fields\n"
     ]
    },
    {
     "name": "stderr",
     "output_type": "stream",
     "text": [
      "Writing activities to SQLite3 database:\n"
     ]
    },
    {
     "name": "stdout",
     "output_type": "stream",
     "text": [
      "Applying strategy: link_iterable_by_fields\n",
      "92 datasets\n",
      "694 exchanges\n",
      "0 unlinked exchanges\n",
      "  \n"
     ]
    },
    {
     "name": "stderr",
     "output_type": "stream",
     "text": [
      "0% [##############################] 100% | ETA: 00:00:00\n",
      "Total time elapsed: 00:00:00\n"
     ]
    },
    {
     "name": "stdout",
     "output_type": "stream",
     "text": [
      "Title: Writing activities to SQLite3 database:\n",
      "  Started: 08/01/2023 18:08:55\n",
      "  Finished: 08/01/2023 18:08:55\n",
      "  Total time elapsed: 00:00:00\n",
      "  CPU %: 0.00\n",
      "  Memory %: 5.86\n",
      "Created database: GENESIS_2040_conventional_NDC\n"
     ]
    }
   ],
   "source": [
    "imp = ExcelImporter(os.path.join(\"GENESIS_complete_medium-term_conventional_NDC.xlsx\")) #you need to change that part to to path were you stored the created file\n",
    "imp.apply_strategies()\n",
    "imp.match_database(\"ecoinvent_remind_SSP2-NDC_2040\", fields=('name', 'unit', 'location', 'reference product'))\n",
    "imp.match_database(\"ecoinvent_remind_SSP2-NDC_2040\", fields=('name', 'unit', 'location'))\n",
    "imp.match_database(fields=('name', 'unit', 'location'))\n",
    "imp.statistics()\n",
    "imp.write_database()"
   ]
  },
  {
   "cell_type": "markdown",
   "id": "377d4c9b-f8e6-4433-9c97-50c2b5fa7b34",
   "metadata": {},
   "source": [
    "Conventional Base"
   ]
  },
  {
   "cell_type": "code",
   "execution_count": 39,
   "id": "f8043df3-a864-4615-bdb0-6c6af6a679f0",
   "metadata": {
    "collapsed": true,
    "jupyter": {
     "outputs_hidden": true
    },
    "tags": []
   },
   "outputs": [
    {
     "name": "stdout",
     "output_type": "stream",
     "text": [
      "Extracted 15 worksheets in 0.38 seconds\n",
      "Applying strategy: csv_restore_tuples\n",
      "Applying strategy: csv_restore_booleans\n",
      "Applying strategy: csv_numerize\n",
      "Applying strategy: csv_drop_unknown\n",
      "Applying strategy: csv_add_missing_exchanges_section\n",
      "Applying strategy: normalize_units\n",
      "Applying strategy: normalize_biosphere_categories\n",
      "Applying strategy: normalize_biosphere_names\n",
      "Applying strategy: strip_biosphere_exc_locations\n",
      "Applying strategy: set_code_by_activity_hash\n",
      "Applying strategy: link_iterable_by_fields\n",
      "Applying strategy: assign_only_product_as_production\n",
      "Applying strategy: link_technosphere_by_activity_hash\n",
      "Applying strategy: drop_falsey_uncertainty_fields_but_keep_zeros\n",
      "Applying strategy: convert_uncertainty_types_to_integers\n",
      "Applying strategy: convert_activity_parameters_to_list\n",
      "Applied 16 strategies in 26.56 seconds\n",
      "Applying strategy: link_iterable_by_fields\n",
      "Applying strategy: link_iterable_by_fields\n"
     ]
    },
    {
     "name": "stderr",
     "output_type": "stream",
     "text": [
      "Writing activities to SQLite3 database:\n"
     ]
    },
    {
     "name": "stdout",
     "output_type": "stream",
     "text": [
      "Applying strategy: link_iterable_by_fields\n",
      "92 datasets\n",
      "694 exchanges\n",
      "0 unlinked exchanges\n",
      "  \n"
     ]
    },
    {
     "name": "stderr",
     "output_type": "stream",
     "text": [
      "0% [##############################] 100% | ETA: 00:00:00\n",
      "Total time elapsed: 00:00:00\n"
     ]
    },
    {
     "name": "stdout",
     "output_type": "stream",
     "text": [
      "Title: Writing activities to SQLite3 database:\n",
      "  Started: 08/01/2023 18:09:28\n",
      "  Finished: 08/01/2023 18:09:28\n",
      "  Total time elapsed: 00:00:00\n",
      "  CPU %: 0.00\n",
      "  Memory %: 5.86\n",
      "Created database: GENESIS_2040_conventional_Base\n"
     ]
    }
   ],
   "source": [
    "imp = ExcelImporter(os.path.join(\"GENESIS_complete_medium-term_conventional_Base.xlsx\")) #you need to change that part to to path were you stored the created file\n",
    "imp.apply_strategies()\n",
    "imp.match_database(\"ecoinvent_remind_SSP2-Base_2040\", fields=('name', 'unit', 'location', 'reference product'))\n",
    "imp.match_database(\"ecoinvent_remind_SSP2-Base_2040\", fields=('name', 'unit', 'location'))\n",
    "imp.match_database(fields=('name', 'unit', 'location'))\n",
    "imp.statistics()\n",
    "imp.write_database()"
   ]
  },
  {
   "cell_type": "markdown",
   "id": "1deed4e2-6e5a-4a2f-b785-465b728ed861",
   "metadata": {},
   "source": [
    "Conventional PkBudg500"
   ]
  },
  {
   "cell_type": "code",
   "execution_count": 40,
   "id": "9ce74fe1-1372-4943-9ee2-625eeefba726",
   "metadata": {
    "collapsed": true,
    "jupyter": {
     "outputs_hidden": true
    },
    "tags": []
   },
   "outputs": [
    {
     "name": "stdout",
     "output_type": "stream",
     "text": [
      "Extracted 15 worksheets in 0.38 seconds\n",
      "Applying strategy: csv_restore_tuples\n",
      "Applying strategy: csv_restore_booleans\n",
      "Applying strategy: csv_numerize\n",
      "Applying strategy: csv_drop_unknown\n",
      "Applying strategy: csv_add_missing_exchanges_section\n",
      "Applying strategy: normalize_units\n",
      "Applying strategy: normalize_biosphere_categories\n",
      "Applying strategy: normalize_biosphere_names\n",
      "Applying strategy: strip_biosphere_exc_locations\n",
      "Applying strategy: set_code_by_activity_hash\n",
      "Applying strategy: link_iterable_by_fields\n",
      "Applying strategy: assign_only_product_as_production\n",
      "Applying strategy: link_technosphere_by_activity_hash\n",
      "Applying strategy: drop_falsey_uncertainty_fields_but_keep_zeros\n",
      "Applying strategy: convert_uncertainty_types_to_integers\n",
      "Applying strategy: convert_activity_parameters_to_list\n",
      "Applied 16 strategies in 28.70 seconds\n",
      "Applying strategy: link_iterable_by_fields\n",
      "Applying strategy: link_iterable_by_fields\n"
     ]
    },
    {
     "name": "stderr",
     "output_type": "stream",
     "text": [
      "Writing activities to SQLite3 database:\n"
     ]
    },
    {
     "name": "stdout",
     "output_type": "stream",
     "text": [
      "Applying strategy: link_iterable_by_fields\n",
      "92 datasets\n",
      "694 exchanges\n",
      "0 unlinked exchanges\n",
      "  \n"
     ]
    },
    {
     "name": "stderr",
     "output_type": "stream",
     "text": [
      "0% [##############################] 100% | ETA: 00:00:00\n",
      "Total time elapsed: 00:00:00\n"
     ]
    },
    {
     "name": "stdout",
     "output_type": "stream",
     "text": [
      "Title: Writing activities to SQLite3 database:\n",
      "  Started: 08/01/2023 18:10:04\n",
      "  Finished: 08/01/2023 18:10:04\n",
      "  Total time elapsed: 00:00:00\n",
      "  CPU %: 16.60\n",
      "  Memory %: 5.86\n",
      "Created database: GENESIS_2040_conventional_PkBudg500\n"
     ]
    }
   ],
   "source": [
    "imp = ExcelImporter(os.path.join(\"GENESIS_complete_medium-term_conventional_PkBudg500.xlsx\")) #you need to change that part to to path were you stored the created file\n",
    "imp.apply_strategies()\n",
    "imp.match_database(\"ecoinvent_remind_SSP2-PkBudg500_2040\", fields=('name', 'unit', 'location', 'reference product'))\n",
    "imp.match_database(\"ecoinvent_remind_SSP2-PkBudg500_2040\", fields=('name', 'unit', 'location'))\n",
    "imp.match_database(fields=('name', 'unit', 'location'))\n",
    "imp.statistics()\n",
    "imp.write_database()"
   ]
  },
  {
   "cell_type": "markdown",
   "id": "904cd694-d9f5-4f7f-90ab-8a90dac67013",
   "metadata": {},
   "source": [
    "GT-bat NDC"
   ]
  },
  {
   "cell_type": "code",
   "execution_count": 41,
   "id": "182b9f0c-8d54-4573-8f33-c33cd5b51b68",
   "metadata": {
    "collapsed": true,
    "jupyter": {
     "outputs_hidden": true
    },
    "tags": []
   },
   "outputs": [
    {
     "name": "stdout",
     "output_type": "stream",
     "text": [
      "Extracted 67 worksheets in 1.81 seconds\n",
      "Applying strategy: csv_restore_tuples\n",
      "Applying strategy: csv_restore_booleans\n",
      "Applying strategy: csv_numerize\n",
      "Applying strategy: csv_drop_unknown\n",
      "Applying strategy: csv_add_missing_exchanges_section\n",
      "Applying strategy: normalize_units\n",
      "Applying strategy: normalize_biosphere_categories\n",
      "Applying strategy: normalize_biosphere_names\n",
      "Applying strategy: strip_biosphere_exc_locations\n",
      "Applying strategy: set_code_by_activity_hash\n",
      "Applying strategy: link_iterable_by_fields\n",
      "Applying strategy: assign_only_product_as_production\n",
      "Applying strategy: link_technosphere_by_activity_hash\n",
      "Applying strategy: drop_falsey_uncertainty_fields_but_keep_zeros\n",
      "Applying strategy: convert_uncertainty_types_to_integers\n",
      "Applying strategy: convert_activity_parameters_to_list\n",
      "Applied 16 strategies in 26.68 seconds\n",
      "Applying strategy: link_iterable_by_fields\n",
      "Applying strategy: link_iterable_by_fields\n",
      "Applying strategy: link_iterable_by_fields\n",
      "432 datasets\n",
      "2858 exchanges\n",
      "0 unlinked exchanges\n",
      "  \n"
     ]
    },
    {
     "name": "stderr",
     "output_type": "stream",
     "text": [
      "Writing activities to SQLite3 database:\n",
      "0% [##############################] 100% | ETA: 00:00:00\n",
      "Total time elapsed: 00:00:00\n"
     ]
    },
    {
     "name": "stdout",
     "output_type": "stream",
     "text": [
      "Title: Writing activities to SQLite3 database:\n",
      "  Started: 08/01/2023 18:10:44\n",
      "  Finished: 08/01/2023 18:10:45\n",
      "  Total time elapsed: 00:00:00\n",
      "  CPU %: 0.00\n",
      "  Memory %: 5.86\n",
      "Created database: GENESIS_2040_GT-bat_NDC\n"
     ]
    }
   ],
   "source": [
    "imp = ExcelImporter(os.path.join(\"GENESIS_complete_medium-term_GT-bat_NDC.xlsx\")) #you need to change that part to to path were you stored the created file\n",
    "imp.apply_strategies()\n",
    "imp.match_database(\"ecoinvent_remind_SSP2-NDC_2040\", fields=('name', 'unit', 'location', 'reference product'))\n",
    "imp.match_database(\"ecoinvent_remind_SSP2-NDC_2040\", fields=('name', 'unit', 'location'))\n",
    "imp.match_database(fields=('name', 'unit', 'location'))\n",
    "imp.statistics()\n",
    "imp.write_database()"
   ]
  },
  {
   "cell_type": "markdown",
   "id": "b068f668-2987-459a-ac10-8183c5fa4986",
   "metadata": {},
   "source": [
    "GT-bat Base"
   ]
  },
  {
   "cell_type": "code",
   "execution_count": 42,
   "id": "f477e4f3-8062-4c02-9bb3-5ae7f882d53e",
   "metadata": {
    "collapsed": true,
    "jupyter": {
     "outputs_hidden": true
    },
    "tags": []
   },
   "outputs": [
    {
     "name": "stdout",
     "output_type": "stream",
     "text": [
      "Extracted 67 worksheets in 1.68 seconds\n",
      "Applying strategy: csv_restore_tuples\n",
      "Applying strategy: csv_restore_booleans\n",
      "Applying strategy: csv_numerize\n",
      "Applying strategy: csv_drop_unknown\n",
      "Applying strategy: csv_add_missing_exchanges_section\n",
      "Applying strategy: normalize_units\n",
      "Applying strategy: normalize_biosphere_categories\n",
      "Applying strategy: normalize_biosphere_names\n",
      "Applying strategy: strip_biosphere_exc_locations\n",
      "Applying strategy: set_code_by_activity_hash\n",
      "Applying strategy: link_iterable_by_fields\n",
      "Applying strategy: assign_only_product_as_production\n",
      "Applying strategy: link_technosphere_by_activity_hash\n",
      "Applying strategy: drop_falsey_uncertainty_fields_but_keep_zeros\n",
      "Applying strategy: convert_uncertainty_types_to_integers\n",
      "Applying strategy: convert_activity_parameters_to_list\n",
      "Applied 16 strategies in 26.22 seconds\n",
      "Applying strategy: link_iterable_by_fields\n",
      "Applying strategy: link_iterable_by_fields\n",
      "Applying strategy: link_iterable_by_fields\n",
      "432 datasets\n",
      "2858 exchanges\n",
      "0 unlinked exchanges\n",
      "  \n"
     ]
    },
    {
     "name": "stderr",
     "output_type": "stream",
     "text": [
      "Writing activities to SQLite3 database:\n",
      "0% [##############################] 100% | ETA: 00:00:00\n",
      "Total time elapsed: 00:00:00\n"
     ]
    },
    {
     "name": "stdout",
     "output_type": "stream",
     "text": [
      "Title: Writing activities to SQLite3 database:\n",
      "  Started: 08/01/2023 18:11:41\n",
      "  Finished: 08/01/2023 18:11:41\n",
      "  Total time elapsed: 00:00:00\n",
      "  CPU %: 0.00\n",
      "  Memory %: 5.86\n",
      "Created database: GENESIS_2040_GT-bat_Base\n"
     ]
    }
   ],
   "source": [
    "imp = ExcelImporter(os.path.join(\"GENESIS_complete_medium-term_GT-bat_Base.xlsx\")) #you need to change that part to to path were you stored the created file\n",
    "imp.apply_strategies()\n",
    "imp.match_database(\"ecoinvent_remind_SSP2-Base_2040\", fields=('name', 'unit', 'location', 'reference product'))\n",
    "imp.match_database(\"ecoinvent_remind_SSP2-Base_2040\", fields=('name', 'unit', 'location'))\n",
    "imp.match_database(fields=('name', 'unit', 'location'))\n",
    "imp.statistics()\n",
    "imp.write_database()"
   ]
  },
  {
   "cell_type": "markdown",
   "id": "5f5becf5-e853-43b0-ba45-eb93bf340e8f",
   "metadata": {},
   "source": [
    "GT-bat PkBudg500"
   ]
  },
  {
   "cell_type": "code",
   "execution_count": 43,
   "id": "a2b98912-14af-4aa2-aa45-43ff66e9d7a1",
   "metadata": {
    "collapsed": true,
    "jupyter": {
     "outputs_hidden": true
    },
    "tags": []
   },
   "outputs": [
    {
     "name": "stdout",
     "output_type": "stream",
     "text": [
      "Extracted 67 worksheets in 1.41 seconds\n",
      "Applying strategy: csv_restore_tuples\n",
      "Applying strategy: csv_restore_booleans\n",
      "Applying strategy: csv_numerize\n",
      "Applying strategy: csv_drop_unknown\n",
      "Applying strategy: csv_add_missing_exchanges_section\n",
      "Applying strategy: normalize_units\n",
      "Applying strategy: normalize_biosphere_categories\n",
      "Applying strategy: normalize_biosphere_names\n",
      "Applying strategy: strip_biosphere_exc_locations\n",
      "Applying strategy: set_code_by_activity_hash\n",
      "Applying strategy: link_iterable_by_fields\n",
      "Applying strategy: assign_only_product_as_production\n",
      "Applying strategy: link_technosphere_by_activity_hash\n",
      "Applying strategy: drop_falsey_uncertainty_fields_but_keep_zeros\n",
      "Applying strategy: convert_uncertainty_types_to_integers\n",
      "Applying strategy: convert_activity_parameters_to_list\n",
      "Applied 16 strategies in 27.39 seconds\n",
      "Applying strategy: link_iterable_by_fields\n",
      "Applying strategy: link_iterable_by_fields\n",
      "Applying strategy: link_iterable_by_fields\n",
      "432 datasets\n",
      "2858 exchanges\n",
      "0 unlinked exchanges\n",
      "  \n"
     ]
    },
    {
     "name": "stderr",
     "output_type": "stream",
     "text": [
      "Writing activities to SQLite3 database:\n",
      "0% [##############################] 100% | ETA: 00:00:00\n",
      "Total time elapsed: 00:00:00\n"
     ]
    },
    {
     "name": "stdout",
     "output_type": "stream",
     "text": [
      "Title: Writing activities to SQLite3 database:\n",
      "  Started: 08/01/2023 18:12:37\n",
      "  Finished: 08/01/2023 18:12:37\n",
      "  Total time elapsed: 00:00:00\n",
      "  CPU %: 23.10\n",
      "  Memory %: 5.86\n",
      "Created database: GENESIS_2040_GT-bat_PkBudg500\n"
     ]
    }
   ],
   "source": [
    "imp = ExcelImporter(os.path.join(\"GENESIS_complete_medium-term_GT-bat_PkBudg500.xlsx\")) #you need to change that part to to path were you stored the created file\n",
    "imp.apply_strategies()\n",
    "imp.match_database(\"ecoinvent_remind_SSP2-PkBudg500_2040\", fields=('name', 'unit', 'location', 'reference product'))\n",
    "imp.match_database(\"ecoinvent_remind_SSP2-PkBudg500_2040\", fields=('name', 'unit', 'location'))\n",
    "imp.match_database(fields=('name', 'unit', 'location'))\n",
    "imp.statistics()\n",
    "imp.write_database()"
   ]
  },
  {
   "cell_type": "markdown",
   "id": "1df8c3da-dc5d-4dd6-9a3e-00f19efa3f20",
   "metadata": {},
   "source": [
    "PEMFC-bat NDC"
   ]
  },
  {
   "cell_type": "code",
   "execution_count": 44,
   "id": "b8b4d521-ed79-479d-965a-42105926511a",
   "metadata": {
    "collapsed": true,
    "jupyter": {
     "outputs_hidden": true
    },
    "tags": []
   },
   "outputs": [
    {
     "name": "stdout",
     "output_type": "stream",
     "text": [
      "Extracted 77 worksheets in 1.59 seconds\n",
      "Applying strategy: csv_restore_tuples\n",
      "Applying strategy: csv_restore_booleans\n",
      "Applying strategy: csv_numerize\n",
      "Applying strategy: csv_drop_unknown\n",
      "Applying strategy: csv_add_missing_exchanges_section\n",
      "Applying strategy: normalize_units\n",
      "Applying strategy: normalize_biosphere_categories\n",
      "Applying strategy: normalize_biosphere_names\n",
      "Applying strategy: strip_biosphere_exc_locations\n",
      "Applying strategy: set_code_by_activity_hash\n",
      "Applying strategy: link_iterable_by_fields\n",
      "Applying strategy: assign_only_product_as_production\n",
      "Applying strategy: link_technosphere_by_activity_hash\n",
      "Applying strategy: drop_falsey_uncertainty_fields_but_keep_zeros\n",
      "Applying strategy: convert_uncertainty_types_to_integers\n",
      "Applying strategy: convert_activity_parameters_to_list\n",
      "Applied 16 strategies in 26.56 seconds\n",
      "Applying strategy: link_iterable_by_fields\n",
      "Applying strategy: link_iterable_by_fields\n",
      "Applying strategy: link_iterable_by_fields\n",
      "490 datasets\n",
      "2973 exchanges\n",
      "0 unlinked exchanges\n",
      "  \n"
     ]
    },
    {
     "name": "stderr",
     "output_type": "stream",
     "text": [
      "Writing activities to SQLite3 database:\n",
      "0% [##############################] 100% | ETA: 00:00:00\n",
      "Total time elapsed: 00:00:00\n"
     ]
    },
    {
     "name": "stdout",
     "output_type": "stream",
     "text": [
      "Title: Writing activities to SQLite3 database:\n",
      "  Started: 08/01/2023 18:13:35\n",
      "  Finished: 08/01/2023 18:13:35\n",
      "  Total time elapsed: 00:00:00\n",
      "  CPU %: 75.00\n",
      "  Memory %: 5.86\n",
      "Created database: GENESIS_2040_PEMFC-bat_NDC\n"
     ]
    }
   ],
   "source": [
    "imp = ExcelImporter(os.path.join(\"GENESIS_complete_medium-term_PEMFC-bat_NDC.xlsx\")) #you need to change that part to to path were you stored the created file\n",
    "imp.apply_strategies()\n",
    "imp.match_database(\"ecoinvent_remind_SSP2-NDC_2040\", fields=('name', 'unit', 'location', 'reference product'))\n",
    "imp.match_database(\"ecoinvent_remind_SSP2-NDC_2040\", fields=('name', 'unit', 'location'))\n",
    "imp.match_database(fields=('name', 'unit', 'location'))\n",
    "imp.statistics()\n",
    "imp.write_database()"
   ]
  },
  {
   "cell_type": "markdown",
   "id": "89b3e414-fbf8-4ad2-8436-11f4fa68fe89",
   "metadata": {},
   "source": [
    "PEMFC-bat Base"
   ]
  },
  {
   "cell_type": "code",
   "execution_count": 45,
   "id": "a327cd4d-ddf1-47b1-8d74-33853f573384",
   "metadata": {
    "collapsed": true,
    "jupyter": {
     "outputs_hidden": true
    },
    "tags": []
   },
   "outputs": [
    {
     "name": "stdout",
     "output_type": "stream",
     "text": [
      "Extracted 77 worksheets in 1.72 seconds\n",
      "Applying strategy: csv_restore_tuples\n",
      "Applying strategy: csv_restore_booleans\n",
      "Applying strategy: csv_numerize\n",
      "Applying strategy: csv_drop_unknown\n",
      "Applying strategy: csv_add_missing_exchanges_section\n",
      "Applying strategy: normalize_units\n",
      "Applying strategy: normalize_biosphere_categories\n",
      "Applying strategy: normalize_biosphere_names\n",
      "Applying strategy: strip_biosphere_exc_locations\n",
      "Applying strategy: set_code_by_activity_hash\n",
      "Applying strategy: link_iterable_by_fields\n",
      "Applying strategy: assign_only_product_as_production\n",
      "Applying strategy: link_technosphere_by_activity_hash\n",
      "Applying strategy: drop_falsey_uncertainty_fields_but_keep_zeros\n",
      "Applying strategy: convert_uncertainty_types_to_integers\n",
      "Applying strategy: convert_activity_parameters_to_list\n",
      "Applied 16 strategies in 26.58 seconds\n",
      "Applying strategy: link_iterable_by_fields\n",
      "Applying strategy: link_iterable_by_fields\n",
      "Applying strategy: link_iterable_by_fields\n",
      "490 datasets\n",
      "2973 exchanges\n",
      "0 unlinked exchanges\n",
      "  \n"
     ]
    },
    {
     "name": "stderr",
     "output_type": "stream",
     "text": [
      "Writing activities to SQLite3 database:\n",
      "0% [##############################] 100% | ETA: 00:00:00\n",
      "Total time elapsed: 00:00:00\n"
     ]
    },
    {
     "name": "stdout",
     "output_type": "stream",
     "text": [
      "Title: Writing activities to SQLite3 database:\n",
      "  Started: 08/01/2023 18:14:32\n",
      "  Finished: 08/01/2023 18:14:33\n",
      "  Total time elapsed: 00:00:00\n",
      "  CPU %: 64.20\n",
      "  Memory %: 5.86\n",
      "Created database: GENESIS_2040_PEMFC-bat_Base\n"
     ]
    }
   ],
   "source": [
    "imp = ExcelImporter(os.path.join(\"GENESIS_complete_medium-term_PEMFC-bat_Base.xlsx\")) #you need to change that part to to path were you stored the created file\n",
    "imp.apply_strategies()\n",
    "imp.match_database(\"ecoinvent_remind_SSP2-Base_2040\", fields=('name', 'unit', 'location', 'reference product'))\n",
    "imp.match_database(\"ecoinvent_remind_SSP2-Base_2040\", fields=('name', 'unit', 'location'))\n",
    "imp.match_database(fields=('name', 'unit', 'location'))\n",
    "imp.statistics()\n",
    "imp.write_database()"
   ]
  },
  {
   "cell_type": "markdown",
   "id": "43c12aff-a8ea-49a6-9606-00b2e481e305",
   "metadata": {},
   "source": [
    "PEMFC-bat PkBudg500"
   ]
  },
  {
   "cell_type": "code",
   "execution_count": 46,
   "id": "c8262ba6-3a41-46a9-b8fd-548240845899",
   "metadata": {
    "collapsed": true,
    "jupyter": {
     "outputs_hidden": true
    },
    "tags": []
   },
   "outputs": [
    {
     "name": "stdout",
     "output_type": "stream",
     "text": [
      "Extracted 77 worksheets in 4.00 seconds\n",
      "Applying strategy: csv_restore_tuples\n",
      "Applying strategy: csv_restore_booleans\n",
      "Applying strategy: csv_numerize\n",
      "Applying strategy: csv_drop_unknown\n",
      "Applying strategy: csv_add_missing_exchanges_section\n",
      "Applying strategy: normalize_units\n",
      "Applying strategy: normalize_biosphere_categories\n",
      "Applying strategy: normalize_biosphere_names\n",
      "Applying strategy: strip_biosphere_exc_locations\n",
      "Applying strategy: set_code_by_activity_hash\n",
      "Applying strategy: link_iterable_by_fields\n",
      "Applying strategy: assign_only_product_as_production\n",
      "Applying strategy: link_technosphere_by_activity_hash\n",
      "Applying strategy: drop_falsey_uncertainty_fields_but_keep_zeros\n",
      "Applying strategy: convert_uncertainty_types_to_integers\n",
      "Applying strategy: convert_activity_parameters_to_list\n",
      "Applied 16 strategies in 26.25 seconds\n",
      "Applying strategy: link_iterable_by_fields\n",
      "Applying strategy: link_iterable_by_fields\n",
      "Applying strategy: link_iterable_by_fields\n",
      "490 datasets\n",
      "2973 exchanges\n",
      "0 unlinked exchanges\n",
      "  \n"
     ]
    },
    {
     "name": "stderr",
     "output_type": "stream",
     "text": [
      "Writing activities to SQLite3 database:\n",
      "0% [##############################] 100% | ETA: 00:00:00\n",
      "Total time elapsed: 00:00:00\n"
     ]
    },
    {
     "name": "stdout",
     "output_type": "stream",
     "text": [
      "Title: Writing activities to SQLite3 database:\n",
      "  Started: 08/01/2023 18:15:30\n",
      "  Finished: 08/01/2023 18:15:30\n",
      "  Total time elapsed: 00:00:00\n",
      "  CPU %: 0.00\n",
      "  Memory %: 5.86\n",
      "Created database: GENESIS_2040_PEMFC-bat_PkBudg500\n"
     ]
    }
   ],
   "source": [
    "imp = ExcelImporter(os.path.join(\"GENESIS_complete_medium-term_PEMFC-bat_PkBudg500.xlsx\")) #you need to change that part to to path were you stored the created file\n",
    "imp.apply_strategies()\n",
    "imp.match_database(\"ecoinvent_remind_SSP2-PkBudg500_2040\", fields=('name', 'unit', 'location', 'reference product'))\n",
    "imp.match_database(\"ecoinvent_remind_SSP2-PkBudg500_2040\", fields=('name', 'unit', 'location'))\n",
    "imp.match_database(fields=('name', 'unit', 'location'))\n",
    "imp.statistics()\n",
    "imp.write_database()"
   ]
  },
  {
   "cell_type": "markdown",
   "id": "bd2707ff-d251-459c-ad9c-5816a4062f72",
   "metadata": {},
   "source": [
    "##### BW2 import files"
   ]
  },
  {
   "cell_type": "markdown",
   "id": "19c23452-e12a-4221-b2f1-3b68437f46c1",
   "metadata": {},
   "source": [
    "Conventional\\\n",
    "You need to change that part to to path were you stored the created file"
   ]
  },
  {
   "cell_type": "code",
   "execution_count": null,
   "id": "243dc74e-cc18-4975-be59-7770b4e873fc",
   "metadata": {},
   "outputs": [],
   "source": [
    "BW2Package.import_file(\"GENESIS_2040_conventional_Base.45a7d3ff463401ea8b110f6f0ee25dda.bw2package\")\n",
    "BW2Package.import_file(\"GENESIS_2040_conventional_NDC.d3410933bbc248c0ee0d38a16b292621.bw2package\")\n",
    "BW2Package.import_file(\"GENESIS_2040_conventional_NDC_ILUC.f124c55cc4b1e89675f38ffccb605721.bw2package\")\n",
    "BW2Package.import_file(\"GENESIS_2040_conventional_PkBudg500.f2680de7a2ce5f6af9b073ce203effad.bw2package\")"
   ]
  },
  {
   "cell_type": "markdown",
   "id": "a36b6251-1ea9-4c37-acec-0ab9cb5e013b",
   "metadata": {},
   "source": [
    "GT-bat\\\n",
    "You need to change that part to to path were you stored the created file"
   ]
  },
  {
   "cell_type": "code",
   "execution_count": null,
   "id": "293d8556-c5fd-4933-a6a4-b5422ef328dd",
   "metadata": {},
   "outputs": [],
   "source": [
    "BW2Package.import_file(\"GENESIS_2040_GT-bat_Base.e20d2ecdad2208de2d1630b07a27fa93.bw2package\")\n",
    "BW2Package.import_file(\"GENESIS_2040_GT-bat_NDC.692cd44d5c2541fd4dc5ad6d90bed9a5.bw2package\")\n",
    "BW2Package.import_file(\"GENESIS_2040_GT-bat_NDC_ILUC.10ce3610e3260a9f934171286b224e59.bw2package\")\n",
    "BW2Package.import_file(\"GENESIS_2040_GT-bat_PkBudg500.c1c8891a8b18083089330128aed20ebf.bw2package\")"
   ]
  },
  {
   "cell_type": "markdown",
   "id": "f538bca5-8e06-4892-8f29-1d1c2a6c29bd",
   "metadata": {},
   "source": [
    "PEMFC-bat\\\n",
    "You need to change that part to to path were you stored the created file"
   ]
  },
  {
   "cell_type": "code",
   "execution_count": null,
   "id": "fc475b17-9363-4e0c-a2eb-f19a19e445de",
   "metadata": {},
   "outputs": [],
   "source": [
    "BW2Package.import_file(\"GENESIS_2040_PEMFC-bat_Base.993bb7ca0e19c0a216c6f460e05cc497.bw2package\")\n",
    "BW2Package.import_file(\"GENESIS_2040_PEMFC-bat_NDC.66deb0850529bde34b5e0795a6b07382.bw2package\")\n",
    "BW2Package.import_file(\"GENESIS_2040_PEMFC-bat_PkBudg500.fb1c32d3784b7998f4eb30af949c51b9.bw2package\")"
   ]
  },
  {
   "cell_type": "markdown",
   "id": "9b0f2d93-b558-4b37-a213-ae2b98659b62",
   "metadata": {
    "tags": []
   },
   "source": [
    "### LCIA method setup\n",
    "#### Setting up Life Cycle Impact Assessment Method [IMPACTWorld+](https://www.impactworldplus.org/en/index.php). BW2 package for method installation can be found [here](https://zenodo.org/record/1488373)"
   ]
  },
  {
   "cell_type": "code",
   "execution_count": null,
   "id": "3f967263-c1fe-4ee9-882d-3b417c1f7cd0",
   "metadata": {},
   "outputs": [],
   "source": [
    "# Import the specified BW2Package for the LCIA method IMPACTWorld+ file from the given path. You need to change that part to to path were you stored the created file\n",
    "BW2Package.import_file(\"Brightway_IW_damage_1_46_and_midpoint_1_28.bw2package\")\n",
    "\n",
    "# The water use method needs to be updated due to the fact that it was wrongly created.\n",
    "# Filter the methods list to find the desired method for 'IMPACTWorld+ (Default_Recommended_Midpoint 1.28)'.\n",
    "# Then, load the method and its characterization factors into the WS_lst variable.\n",
    "IWP_mid = [m for m in methods if 'IMPACTWorld+ (Default_Recommended_Midpoint 1.28)' in m[0]]\n",
    "WS = Method(IWP_mid[9])\n",
    "WS_lst = WS.load()\n",
    "\n",
    "# Define and remove certain characterization factors (CF) from the WS_lst.\n",
    "ex_CF = (('biosphere3', '2404b41a-2eed-4e9d-8ab6-783946fdf5d6'), -42.95353086694035)\n",
    "ex_CF_ocean = (('biosphere3', '4f0f15b3-b227-4cdc-b0b3-6412d55695d5'), 0)\n",
    "WS_lst.remove(ex_CF)\n",
    "WS_lst.remove(ex_CF_ocean)\n",
    "\n",
    "# Define a new characterization factor and add it to the WS_lst.\n",
    "new_CF = (('biosphere3', '8c1494a5-4987-4715-aa2d-1908c495f4eb'), 42.95353086694035)\n",
    "WS_lst.append(new_CF)\n",
    "\n",
    "# Create a new Method instance for the updated 'Water scarcity' method.\n",
    "# Register the new method and write the updated characterization factors to it.\n",
    "new_WS = Method(('IMPACTWorld+ (Default_Recommended_Midpoint 1.28)', 'Water scarcity'))\n",
    "new_WS.register()\n",
    "new_WS.write(WS_lst)"
   ]
  },
  {
   "cell_type": "markdown",
   "id": "386ee588-d60b-4fc1-b3b3-d5d49096606d",
   "metadata": {},
   "source": [
    "#### Create aggregated endpoint CFs\n",
    "##### Ecosystem quality - Short term"
   ]
  },
  {
   "cell_type": "code",
   "execution_count": 11,
   "id": "08bab8eb-524f-4183-90d4-7c70cd48fe5d",
   "metadata": {},
   "outputs": [],
   "source": [
    "iw_ep_eq_st_agg = {}\n",
    "\n",
    "for m in iw_ep_eq_st:\n",
    "    for flow in Method(m).load():\n",
    "        key = flow[0]\n",
    "        value = flow[1]\n",
    "        if key in iw_ep_eq_st_agg:\n",
    "            iw_ep_eq_st_agg[key] += value\n",
    "        else:\n",
    "            iw_ep_eq_st_agg[key] = value\n",
    "iw_ep_eq_st_agg_list = [(key, value) for key, value in iw_ep_eq_st_agg.items()]"
   ]
  },
  {
   "cell_type": "code",
   "execution_count": 12,
   "id": "aa1cca81-0d63-43ef-8723-06106b4fc9ba",
   "metadata": {},
   "outputs": [],
   "source": [
    "my_method = Method(('IMPACTWorld+ (Default_Recommended_Damage 1.46)', 'Ecosystem quality, short term'))\n",
    "my_metadata = {'description': 'IMPACTWorld+ (Default_Damage). Version 1.46',\n",
    "               'unit': 'PDF.m2.yr',\n",
    "               'num_cfs': 2112}\n",
    "my_method.register(**my_metadata)\n",
    "my_method.write(iw_ep_eq_st_agg_list)"
   ]
  },
  {
   "cell_type": "markdown",
   "id": "6af1ca68-0cb1-4113-bdc4-3beab7bc243f",
   "metadata": {},
   "source": [
    "##### Human health - Short term"
   ]
  },
  {
   "cell_type": "code",
   "execution_count": 15,
   "id": "442780cc-301d-42c1-9e2c-1dbb2ae90db7",
   "metadata": {},
   "outputs": [],
   "source": [
    "iw_ep_hh_st_agg = {}\n",
    "\n",
    "for m in iw_ep_hh_st:\n",
    "    for flow in Method(m).load():\n",
    "        key = flow[0]\n",
    "        value = flow[1]\n",
    "        if key in iw_ep_hh_st_agg:\n",
    "            iw_ep_hh_st_agg[key] += value\n",
    "        else:\n",
    "            iw_ep_hh_st_agg[key] = value\n",
    "iw_ep_hh_st_agg_list = [(key, value) for key, value in iw_ep_hh_st_agg.items()]"
   ]
  },
  {
   "cell_type": "code",
   "execution_count": 16,
   "id": "9d870e67-3b9d-41a8-89f4-be93e1de0610",
   "metadata": {
    "tags": []
   },
   "outputs": [],
   "source": [
    "my_method = Method(('IMPACTWorld+ (Default_Recommended_Damage 1.46)', 'Human health, short term'))\n",
    "my_metadata = {'description': 'IMPACTWorld+ (Default_Damage). Version 1.46',\n",
    "               'unit': 'DALY',\n",
    "               'num_cfs': 1610}\n",
    "my_method.register(**my_metadata)\n",
    "my_method.write(iw_ep_hh_st_agg_list)"
   ]
  },
  {
   "cell_type": "markdown",
   "id": "71e54af6-2a50-4569-9255-4de78deafa79",
   "metadata": {},
   "source": [
    "## 2050 timeframe\n",
    "### Project setup"
   ]
  },
  {
   "cell_type": "code",
   "execution_count": null,
   "id": "786ff134-007b-4a4b-a019-f3394c55b27c",
   "metadata": {
    "tags": []
   },
   "outputs": [],
   "source": [
    "# Set the current project to 'pLCA_RegAC_2050'.\n",
    "# This command changes the active project within the context of the projects framework.\n",
    "projects.set_current('pLCA_RegAC_2050')"
   ]
  },
  {
   "cell_type": "markdown",
   "id": "b0f855fd-9de0-4817-aeb4-4400a7cab030",
   "metadata": {},
   "source": [
    "### Database setup"
   ]
  },
  {
   "cell_type": "code",
   "execution_count": null,
   "id": "b8606e88-2ef5-46d3-9588-9c43d420bba6",
   "metadata": {},
   "outputs": [],
   "source": [
    "# Import the biosphere3 database\n",
    "bw2setup()  # This will take some time"
   ]
  },
  {
   "cell_type": "code",
   "execution_count": null,
   "id": "b5713621-76c7-4579-bc7b-ed7ea29126ff",
   "metadata": {},
   "outputs": [],
   "source": [
    "#Import premise databases\n",
    "\n",
    "#Import SSP2-Base_2030 database\n",
    "if 'ecoinvent_remind_SSP2-Base_2050' in databases:\n",
    "    print(\"Database has already been imported\")\n",
    "else:\n",
    "    #you need to change that part to to path were you stored the created database with premise\n",
    "    BW2Package.import_file(\"ecoinvent_remind_SSP2-Base_2050.a0e186184e72db9522819f893cc64892.bw2package\")\n",
    "\n",
    "#Import SSP2-NDC_2030 database\n",
    "if 'ecoinvent_remind_SSP2-NDC_2050' in databases:\n",
    "    print(\"Database has already been imported\")\n",
    "else:\n",
    "    #you need to change that part to to path were you stored the created database with premise\n",
    "    BW2Package.import_file(\"ecoinvent_remind_SSP2-NDC_2050.9bc3035182d2bd07914718a7f52373f9.bw2package\")\n",
    "\n",
    "#Import SSP2-SSP2-PkBudg500_2030 database\n",
    "if 'ecoinvent_remind_SSP2-PkBudg500_2050' in databases:\n",
    "    print(\"Database has already been imported\")\n",
    "else:\n",
    "    #you need to change that part to to path were you stored the created database with premise\n",
    "    BW2Package.import_file(\"ecoinvent_remind_SSP2-PkBudg500_2050.6a63e8646c46551ed59bb0940f9ed150.bw2package\")"
   ]
  },
  {
   "cell_type": "markdown",
   "id": "d040e572-136b-4193-a564-0dfe7ab3c5fe",
   "metadata": {},
   "source": [
    "#### Deleting all uncertainty data from Premise databases\n",
    "In premise all uncertainty data is supposed to be empty (it was not in this version). The idea behind premise is that uncertainty should be evaluated mostly based on the foreground database (in our case the one we import from our LCI excel pedigree matrices), where as the uncertainty of the background database (premise) can be taken into account by comparing results from different  IAM scenarios. The next steps takes a very long time!"
   ]
  },
  {
   "cell_type": "code",
   "execution_count": null,
   "id": "ea33176e-ad33-4de2-ade6-fe5832c88b0e",
   "metadata": {},
   "outputs": [],
   "source": [
    "ei_remind_2050_Base = Database('ecoinvent_remind_SSP2-Base_2050')\n",
    "ei_remind_2050_NDC = Database('ecoinvent_remind_SSP2-NDC_2050')\n",
    "ei_remind_2050_PkBudg = Database('ecoinvent_remind_SSP2-PkBudg500_2050')\n",
    "\n",
    "db_lst_2050 = [ei_remind_2050_Base,\n",
    "               ei_remind_2050_NDC,\n",
    "               ei_remind_2050_PkBudg]"
   ]
  },
  {
   "cell_type": "code",
   "execution_count": null,
   "id": "57f647e9-1be7-4719-9465-2891333b4b39",
   "metadata": {},
   "outputs": [],
   "source": [
    "#replace all uncertainty types in background db\n",
    "for db in db_lst_2050:\n",
    "    for act in db:\n",
    "        for exc in list(act.exchanges()):\n",
    "            exc.pop('uncertainty type', None)\n",
    "            exc.pop('scale', None)\n",
    "            exc.pop('loc', None)\n",
    "            exc.pop('scale without pedigree', None)\n",
    "            exc.pop('pedigree', None)\n",
    "            exc.pop('shape', None)\n",
    "            exc.pop('minimum', None)\n",
    "            exc.pop('maximum', None)\n",
    "            exc.save()"
   ]
  },
  {
   "cell_type": "markdown",
   "id": "ca88438b-77aa-4494-977e-83fe43e9a72c",
   "metadata": {
    "tags": []
   },
   "source": [
    "#### pLCA Reg AC database\n",
    "Two different options exist:\n",
    "1. Use LCI Excel files\n",
    "2. Use BW2 import files"
   ]
  },
  {
   "cell_type": "markdown",
   "id": "c91ed0a7-f503-495c-9c9a-d10fb3d4c3c6",
   "metadata": {
    "tags": []
   },
   "source": [
    "##### LCI Excel files\n",
    "Conventional NDC"
   ]
  },
  {
   "cell_type": "code",
   "execution_count": 13,
   "id": "e63b6d83-de07-4502-857f-ecd022d3bf8b",
   "metadata": {
    "collapsed": true,
    "jupyter": {
     "outputs_hidden": true
    },
    "tags": []
   },
   "outputs": [
    {
     "name": "stdout",
     "output_type": "stream",
     "text": [
      "Extracted 15 worksheets in 0.28 seconds\n",
      "Applying strategy: csv_restore_tuples\n",
      "Applying strategy: csv_restore_booleans\n",
      "Applying strategy: csv_numerize\n",
      "Applying strategy: csv_drop_unknown\n",
      "Applying strategy: csv_add_missing_exchanges_section\n",
      "Applying strategy: normalize_units\n",
      "Applying strategy: normalize_biosphere_categories\n",
      "Applying strategy: normalize_biosphere_names\n",
      "Applying strategy: strip_biosphere_exc_locations\n",
      "Applying strategy: set_code_by_activity_hash\n",
      "Applying strategy: link_iterable_by_fields\n",
      "Applying strategy: assign_only_product_as_production\n",
      "Applying strategy: link_technosphere_by_activity_hash\n",
      "Applying strategy: drop_falsey_uncertainty_fields_but_keep_zeros\n",
      "Applying strategy: convert_uncertainty_types_to_integers\n",
      "Applying strategy: convert_activity_parameters_to_list\n",
      "Applied 16 strategies in 18.04 seconds\n",
      "Applying strategy: link_iterable_by_fields\n",
      "Applying strategy: link_iterable_by_fields\n"
     ]
    },
    {
     "name": "stderr",
     "output_type": "stream",
     "text": [
      "Writing activities to SQLite3 database:\n"
     ]
    },
    {
     "name": "stdout",
     "output_type": "stream",
     "text": [
      "Applying strategy: link_iterable_by_fields\n",
      "84 datasets\n",
      "473 exchanges\n",
      "0 unlinked exchanges\n",
      "  \n"
     ]
    },
    {
     "name": "stderr",
     "output_type": "stream",
     "text": [
      "0% [##############################] 100% | ETA: 00:00:00\n",
      "Total time elapsed: 00:00:00\n"
     ]
    },
    {
     "name": "stdout",
     "output_type": "stream",
     "text": [
      "Title: Writing activities to SQLite3 database:\n",
      "  Started: 08/01/2023 21:17:33\n",
      "  Finished: 08/01/2023 21:17:33\n",
      "  Total time elapsed: 00:00:00\n",
      "  CPU %: 16.60\n",
      "  Memory %: 5.77\n",
      "Created database: GENESIS_2050_conventional_NDC\n"
     ]
    }
   ],
   "source": [
    "imp = ExcelImporter(os.path.join(\"GENESIS_complete_long-term_conventional_NDC.xlsx\")) #You need to change that part to to path were you stored the created file\n",
    "imp.apply_strategies()\n",
    "imp.match_database(\"ecoinvent_remind_SSP2-NDC_2050\", fields=('name', 'unit', 'location', 'reference product'))\n",
    "imp.match_database(\"ecoinvent_remind_SSP2-NDC_2050\", fields=('name', 'unit', 'location'))\n",
    "imp.match_database(fields=('name', 'unit', 'location'))\n",
    "imp.statistics()\n",
    "imp.write_database()"
   ]
  },
  {
   "cell_type": "markdown",
   "id": "715810fb-a9e2-43ea-b3f8-8ae0926ebd6b",
   "metadata": {},
   "source": [
    "Conventional Base"
   ]
  },
  {
   "cell_type": "code",
   "execution_count": 14,
   "id": "2bc25184-8913-4cd6-badb-fc8f73136da9",
   "metadata": {
    "collapsed": true,
    "jupyter": {
     "outputs_hidden": true
    },
    "tags": []
   },
   "outputs": [
    {
     "name": "stdout",
     "output_type": "stream",
     "text": [
      "Extracted 15 worksheets in 0.22 seconds\n",
      "Applying strategy: csv_restore_tuples\n",
      "Applying strategy: csv_restore_booleans\n",
      "Applying strategy: csv_numerize\n",
      "Applying strategy: csv_drop_unknown\n",
      "Applying strategy: csv_add_missing_exchanges_section\n",
      "Applying strategy: normalize_units\n",
      "Applying strategy: normalize_biosphere_categories\n",
      "Applying strategy: normalize_biosphere_names\n",
      "Applying strategy: strip_biosphere_exc_locations\n",
      "Applying strategy: set_code_by_activity_hash\n",
      "Applying strategy: link_iterable_by_fields\n",
      "Applying strategy: assign_only_product_as_production\n",
      "Applying strategy: link_technosphere_by_activity_hash\n",
      "Applying strategy: drop_falsey_uncertainty_fields_but_keep_zeros\n",
      "Applying strategy: convert_uncertainty_types_to_integers\n",
      "Applying strategy: convert_activity_parameters_to_list\n",
      "Applied 16 strategies in 27.95 seconds\n",
      "Applying strategy: link_iterable_by_fields\n",
      "Applying strategy: link_iterable_by_fields\n"
     ]
    },
    {
     "name": "stderr",
     "output_type": "stream",
     "text": [
      "Writing activities to SQLite3 database:\n"
     ]
    },
    {
     "name": "stdout",
     "output_type": "stream",
     "text": [
      "Applying strategy: link_iterable_by_fields\n",
      "84 datasets\n",
      "473 exchanges\n",
      "0 unlinked exchanges\n",
      "  \n"
     ]
    },
    {
     "name": "stderr",
     "output_type": "stream",
     "text": [
      "0% [##############################] 100% | ETA: 00:00:00\n",
      "Total time elapsed: 00:00:00\n"
     ]
    },
    {
     "name": "stdout",
     "output_type": "stream",
     "text": [
      "Title: Writing activities to SQLite3 database:\n",
      "  Started: 08/01/2023 21:19:00\n",
      "  Finished: 08/01/2023 21:19:00\n",
      "  Total time elapsed: 00:00:00\n",
      "  CPU %: 28.40\n",
      "  Memory %: 5.76\n",
      "Created database: GENESIS_2050_conventional_Base\n"
     ]
    }
   ],
   "source": [
    "imp = ExcelImporter(os.path.join(\"GENESIS_complete_long-term_conventional_Base.xlsx\")) #You need to change that part to to path were you stored the created file\n",
    "imp.apply_strategies()\n",
    "imp.match_database(\"ecoinvent_remind_SSP2-Base_2050\", fields=('name', 'unit', 'location', 'reference product'))\n",
    "imp.match_database(\"ecoinvent_remind_SSP2-Base_2050\", fields=('name', 'unit', 'location'))\n",
    "imp.match_database(fields=('name', 'unit', 'location'))\n",
    "imp.statistics()\n",
    "imp.write_database()"
   ]
  },
  {
   "cell_type": "markdown",
   "id": "8cc8a993-e767-48d1-92dc-6ac3c438f9d5",
   "metadata": {},
   "source": [
    "Conventional PkBudg500"
   ]
  },
  {
   "cell_type": "code",
   "execution_count": 15,
   "id": "ffeda152-4b26-42ce-8259-307851b642a4",
   "metadata": {
    "collapsed": true,
    "jupyter": {
     "outputs_hidden": true
    },
    "tags": []
   },
   "outputs": [
    {
     "name": "stdout",
     "output_type": "stream",
     "text": [
      "Extracted 15 worksheets in 0.32 seconds\n",
      "Applying strategy: csv_restore_tuples\n",
      "Applying strategy: csv_restore_booleans\n",
      "Applying strategy: csv_numerize\n",
      "Applying strategy: csv_drop_unknown\n",
      "Applying strategy: csv_add_missing_exchanges_section\n",
      "Applying strategy: normalize_units\n",
      "Applying strategy: normalize_biosphere_categories\n",
      "Applying strategy: normalize_biosphere_names\n",
      "Applying strategy: strip_biosphere_exc_locations\n",
      "Applying strategy: set_code_by_activity_hash\n",
      "Applying strategy: link_iterable_by_fields\n",
      "Applying strategy: assign_only_product_as_production\n",
      "Applying strategy: link_technosphere_by_activity_hash\n",
      "Applying strategy: drop_falsey_uncertainty_fields_but_keep_zeros\n",
      "Applying strategy: convert_uncertainty_types_to_integers\n",
      "Applying strategy: convert_activity_parameters_to_list\n",
      "Applied 16 strategies in 28.77 seconds\n",
      "Applying strategy: link_iterable_by_fields\n",
      "Applying strategy: link_iterable_by_fields\n"
     ]
    },
    {
     "name": "stderr",
     "output_type": "stream",
     "text": [
      "Writing activities to SQLite3 database:\n"
     ]
    },
    {
     "name": "stdout",
     "output_type": "stream",
     "text": [
      "Applying strategy: link_iterable_by_fields\n",
      "84 datasets\n",
      "473 exchanges\n",
      "0 unlinked exchanges\n",
      "  \n"
     ]
    },
    {
     "name": "stderr",
     "output_type": "stream",
     "text": [
      "0% [##############################] 100% | ETA: 00:00:00\n",
      "Total time elapsed: 00:00:00\n"
     ]
    },
    {
     "name": "stdout",
     "output_type": "stream",
     "text": [
      "Title: Writing activities to SQLite3 database:\n",
      "  Started: 08/01/2023 21:21:46\n",
      "  Finished: 08/01/2023 21:21:46\n",
      "  Total time elapsed: 00:00:00\n",
      "  CPU %: 20.00\n",
      "  Memory %: 5.76\n",
      "Created database: GENESIS_2050_conventional_PkBudg500\n"
     ]
    }
   ],
   "source": [
    "imp = ExcelImporter(os.path.join(\"GENESIS_complete_long-term_conventional_PkBudg500.xlsx\")) #You need to change that part to to path were you stored the created file\n",
    "imp.apply_strategies()\n",
    "imp.match_database(\"ecoinvent_remind_SSP2-PkBudg500_2050\", fields=('name', 'unit', 'location', 'reference product'))\n",
    "imp.match_database(\"ecoinvent_remind_SSP2-PkBudg500_2050\", fields=('name', 'unit', 'location'))\n",
    "imp.match_database(fields=('name', 'unit', 'location'))\n",
    "imp.statistics()\n",
    "imp.write_database()"
   ]
  },
  {
   "cell_type": "markdown",
   "id": "73d4af3d-8077-4e2b-9f92-ed3b118b2f3e",
   "metadata": {},
   "source": [
    "SOFC-bat NDC"
   ]
  },
  {
   "cell_type": "code",
   "execution_count": 16,
   "id": "6f476ba5-8916-4b77-8c70-c4c7b926c851",
   "metadata": {
    "collapsed": true,
    "jupyter": {
     "outputs_hidden": true
    },
    "tags": []
   },
   "outputs": [
    {
     "name": "stdout",
     "output_type": "stream",
     "text": [
      "Extracted 77 worksheets in 1.80 seconds\n",
      "Applying strategy: csv_restore_tuples\n",
      "Applying strategy: csv_restore_booleans\n",
      "Applying strategy: csv_numerize\n",
      "Applying strategy: csv_drop_unknown\n",
      "Applying strategy: csv_add_missing_exchanges_section\n",
      "Applying strategy: normalize_units\n",
      "Applying strategy: normalize_biosphere_categories\n",
      "Applying strategy: normalize_biosphere_names\n",
      "Applying strategy: strip_biosphere_exc_locations\n",
      "Applying strategy: set_code_by_activity_hash\n",
      "Applying strategy: link_iterable_by_fields\n",
      "Applying strategy: assign_only_product_as_production\n",
      "Applying strategy: link_technosphere_by_activity_hash\n",
      "Applying strategy: drop_falsey_uncertainty_fields_but_keep_zeros\n",
      "Applying strategy: convert_uncertainty_types_to_integers\n",
      "Applying strategy: convert_activity_parameters_to_list\n",
      "Applied 16 strategies in 28.55 seconds\n",
      "Applying strategy: link_iterable_by_fields\n",
      "Applying strategy: link_iterable_by_fields\n",
      "Applying strategy: link_iterable_by_fields\n",
      "481 datasets\n",
      "2913 exchanges\n",
      "0 unlinked exchanges\n",
      "  \n"
     ]
    },
    {
     "name": "stderr",
     "output_type": "stream",
     "text": [
      "Writing activities to SQLite3 database:\n",
      "0% [##############################] 100% | ETA: 00:00:00\n",
      "Total time elapsed: 00:00:00\n"
     ]
    },
    {
     "name": "stdout",
     "output_type": "stream",
     "text": [
      "Title: Writing activities to SQLite3 database:\n",
      "  Started: 08/01/2023 21:22:40\n",
      "  Finished: 08/01/2023 21:22:41\n",
      "  Total time elapsed: 00:00:00\n",
      "  CPU %: 9.50\n",
      "  Memory %: 5.75\n",
      "Created database: GENESIS_2050_SOFC-bat_NDC\n"
     ]
    }
   ],
   "source": [
    "imp = ExcelImporter(os.path.join(\"GENESIS_complete_long-term_SOFC-bat_NDC.xlsx\")) #You need to change that part to to path were you stored the created file\n",
    "imp.apply_strategies()\n",
    "imp.match_database(\"ecoinvent_remind_SSP2-NDC_2050\", fields=('name', 'unit', 'location', 'reference product'))\n",
    "imp.match_database(\"ecoinvent_remind_SSP2-NDC_2050\", fields=('name', 'unit', 'location'))\n",
    "imp.match_database(fields=('name', 'unit', 'location'))\n",
    "imp.statistics()\n",
    "imp.write_database()"
   ]
  },
  {
   "cell_type": "markdown",
   "id": "26f7c785-f2f9-41a5-b6e2-6953724e2745",
   "metadata": {},
   "source": [
    "SOFC-bat Base"
   ]
  },
  {
   "cell_type": "code",
   "execution_count": 17,
   "id": "13437789-9fa7-444b-a8b0-8a3ed143f348",
   "metadata": {
    "collapsed": true,
    "jupyter": {
     "outputs_hidden": true
    },
    "tags": []
   },
   "outputs": [
    {
     "name": "stdout",
     "output_type": "stream",
     "text": [
      "Extracted 77 worksheets in 1.68 seconds\n",
      "Applying strategy: csv_restore_tuples\n",
      "Applying strategy: csv_restore_booleans\n",
      "Applying strategy: csv_numerize\n",
      "Applying strategy: csv_drop_unknown\n",
      "Applying strategy: csv_add_missing_exchanges_section\n",
      "Applying strategy: normalize_units\n",
      "Applying strategy: normalize_biosphere_categories\n",
      "Applying strategy: normalize_biosphere_names\n",
      "Applying strategy: strip_biosphere_exc_locations\n",
      "Applying strategy: set_code_by_activity_hash\n",
      "Applying strategy: link_iterable_by_fields\n",
      "Applying strategy: assign_only_product_as_production\n",
      "Applying strategy: link_technosphere_by_activity_hash\n",
      "Applying strategy: drop_falsey_uncertainty_fields_but_keep_zeros\n",
      "Applying strategy: convert_uncertainty_types_to_integers\n",
      "Applying strategy: convert_activity_parameters_to_list\n",
      "Applied 16 strategies in 28.95 seconds\n",
      "Applying strategy: link_iterable_by_fields\n",
      "Applying strategy: link_iterable_by_fields\n",
      "Applying strategy: link_iterable_by_fields\n",
      "481 datasets\n",
      "2913 exchanges\n",
      "0 unlinked exchanges\n",
      "  \n"
     ]
    },
    {
     "name": "stderr",
     "output_type": "stream",
     "text": [
      "Writing activities to SQLite3 database:\n",
      "0% [##############################] 100% | ETA: 00:00:00\n",
      "Total time elapsed: 00:00:00\n"
     ]
    },
    {
     "name": "stdout",
     "output_type": "stream",
     "text": [
      "Title: Writing activities to SQLite3 database:\n",
      "  Started: 08/01/2023 21:23:48\n",
      "  Finished: 08/01/2023 21:23:48\n",
      "  Total time elapsed: 00:00:00\n",
      "  CPU %: 15.80\n",
      "  Memory %: 5.75\n",
      "Created database: GENESIS_2050_SOFC-bat_Base\n"
     ]
    }
   ],
   "source": [
    "imp = ExcelImporter(os.path.join(\"GENESIS_complete_long-term_SOFC-bat_Base.xlsx\")) #You need to change that part to to path were you stored the created file\n",
    "imp.apply_strategies()\n",
    "imp.match_database(\"ecoinvent_remind_SSP2-Base_2050\", fields=('name', 'unit', 'location', 'reference product'))\n",
    "imp.match_database(\"ecoinvent_remind_SSP2-Base_2050\", fields=('name', 'unit', 'location'))\n",
    "imp.match_database(fields=('name', 'unit', 'location'))\n",
    "imp.statistics()\n",
    "imp.write_database()"
   ]
  },
  {
   "cell_type": "markdown",
   "id": "7c26ee8c-f87e-4f89-b721-33d71520cba6",
   "metadata": {},
   "source": [
    "SOFC-bat PkBudg500"
   ]
  },
  {
   "cell_type": "code",
   "execution_count": 18,
   "id": "a8fb2c01-0493-44ba-9856-8f259d1b883f",
   "metadata": {
    "collapsed": true,
    "jupyter": {
     "outputs_hidden": true
    },
    "tags": []
   },
   "outputs": [
    {
     "name": "stdout",
     "output_type": "stream",
     "text": [
      "Extracted 77 worksheets in 1.50 seconds\n",
      "Applying strategy: csv_restore_tuples\n",
      "Applying strategy: csv_restore_booleans\n",
      "Applying strategy: csv_numerize\n",
      "Applying strategy: csv_drop_unknown\n",
      "Applying strategy: csv_add_missing_exchanges_section\n",
      "Applying strategy: normalize_units\n",
      "Applying strategy: normalize_biosphere_categories\n",
      "Applying strategy: normalize_biosphere_names\n",
      "Applying strategy: strip_biosphere_exc_locations\n",
      "Applying strategy: set_code_by_activity_hash\n",
      "Applying strategy: link_iterable_by_fields\n",
      "Applying strategy: assign_only_product_as_production\n",
      "Applying strategy: link_technosphere_by_activity_hash\n",
      "Applying strategy: drop_falsey_uncertainty_fields_but_keep_zeros\n",
      "Applying strategy: convert_uncertainty_types_to_integers\n",
      "Applying strategy: convert_activity_parameters_to_list\n",
      "Applied 16 strategies in 26.07 seconds\n",
      "Applying strategy: link_iterable_by_fields\n",
      "Applying strategy: link_iterable_by_fields\n",
      "Applying strategy: link_iterable_by_fields\n",
      "481 datasets\n",
      "2913 exchanges\n",
      "0 unlinked exchanges\n",
      "  \n"
     ]
    },
    {
     "name": "stderr",
     "output_type": "stream",
     "text": [
      "Writing activities to SQLite3 database:\n",
      "0% [##############################] 100% | ETA: 00:00:00\n",
      "Total time elapsed: 00:00:00\n"
     ]
    },
    {
     "name": "stdout",
     "output_type": "stream",
     "text": [
      "Title: Writing activities to SQLite3 database:\n",
      "  Started: 08/01/2023 21:24:48\n",
      "  Finished: 08/01/2023 21:24:48\n",
      "  Total time elapsed: 00:00:00\n",
      "  CPU %: 19.90\n",
      "  Memory %: 5.76\n",
      "Created database: GENESIS_2050_SOFC-bat_PkBudg500\n"
     ]
    }
   ],
   "source": [
    "imp = ExcelImporter(os.path.join(\"GENESIS_complete_long-term_SOFC-bat_PkBudg500.xlsx\")) #You need to change that part to to path were you stored the created file\n",
    "imp.apply_strategies()\n",
    "imp.match_database(\"ecoinvent_remind_SSP2-PkBudg500_2050\", fields=('name', 'unit', 'location', 'reference product'))\n",
    "imp.match_database(\"ecoinvent_remind_SSP2-PkBudg500_2050\", fields=('name', 'unit', 'location'))\n",
    "imp.match_database(fields=('name', 'unit', 'location'))\n",
    "imp.statistics()\n",
    "imp.write_database()"
   ]
  },
  {
   "cell_type": "markdown",
   "id": "5dded6cd-3088-4571-a5a6-5e594bb2cbdf",
   "metadata": {},
   "source": [
    "PEMFC-bat NDC"
   ]
  },
  {
   "cell_type": "code",
   "execution_count": 19,
   "id": "2dacd4fe-bc76-4bd9-ae90-919db5342851",
   "metadata": {
    "collapsed": true,
    "jupyter": {
     "outputs_hidden": true
    },
    "tags": []
   },
   "outputs": [
    {
     "name": "stdout",
     "output_type": "stream",
     "text": [
      "Extracted 77 worksheets in 1.32 seconds\n",
      "Applying strategy: csv_restore_tuples\n",
      "Applying strategy: csv_restore_booleans\n",
      "Applying strategy: csv_numerize\n",
      "Applying strategy: csv_drop_unknown\n",
      "Applying strategy: csv_add_missing_exchanges_section\n",
      "Applying strategy: normalize_units\n",
      "Applying strategy: normalize_biosphere_categories\n",
      "Applying strategy: normalize_biosphere_names\n",
      "Applying strategy: strip_biosphere_exc_locations\n",
      "Applying strategy: set_code_by_activity_hash\n",
      "Applying strategy: link_iterable_by_fields\n",
      "Applying strategy: assign_only_product_as_production\n",
      "Applying strategy: link_technosphere_by_activity_hash\n",
      "Applying strategy: drop_falsey_uncertainty_fields_but_keep_zeros\n",
      "Applying strategy: convert_uncertainty_types_to_integers\n",
      "Applying strategy: convert_activity_parameters_to_list\n",
      "Applied 16 strategies in 22.22 seconds\n",
      "Applying strategy: link_iterable_by_fields\n",
      "Applying strategy: link_iterable_by_fields\n",
      "Applying strategy: link_iterable_by_fields\n",
      "494 datasets\n",
      "3002 exchanges\n",
      "0 unlinked exchanges\n",
      "  \n"
     ]
    },
    {
     "name": "stderr",
     "output_type": "stream",
     "text": [
      "Writing activities to SQLite3 database:\n",
      "0% [##############################] 100% | ETA: 00:00:00\n",
      "Total time elapsed: 00:00:00\n"
     ]
    },
    {
     "name": "stdout",
     "output_type": "stream",
     "text": [
      "Title: Writing activities to SQLite3 database:\n",
      "  Started: 08/01/2023 21:25:38\n",
      "  Finished: 08/01/2023 21:25:38\n",
      "  Total time elapsed: 00:00:00\n",
      "  CPU %: 27.80\n",
      "  Memory %: 5.76\n",
      "Created database: GENESIS_2050_PEMFC-bat_NDC\n"
     ]
    }
   ],
   "source": [
    "imp = ExcelImporter(os.path.join(\"GENESIS_complete_long-term_PEMFC-bat_NDC.xlsx\")) #You need to change that part to to path were you stored the created file\n",
    "imp.apply_strategies()\n",
    "imp.match_database(\"ecoinvent_remind_SSP2-NDC_2050\", fields=('name', 'unit', 'location', 'reference product'))\n",
    "imp.match_database(\"ecoinvent_remind_SSP2-NDC_2050\", fields=('name', 'unit', 'location'))\n",
    "imp.match_database(fields=('name', 'unit', 'location'))\n",
    "imp.statistics()\n",
    "imp.write_database()"
   ]
  },
  {
   "cell_type": "markdown",
   "id": "4f1a61c9-2668-46b3-9220-200475f38536",
   "metadata": {},
   "source": [
    "PEMFC-bat Base"
   ]
  },
  {
   "cell_type": "code",
   "execution_count": 20,
   "id": "8baec0a9-55a9-4dd0-961c-656c85cc5b22",
   "metadata": {
    "collapsed": true,
    "jupyter": {
     "outputs_hidden": true
    },
    "tags": []
   },
   "outputs": [
    {
     "name": "stdout",
     "output_type": "stream",
     "text": [
      "Extracted 77 worksheets in 1.71 seconds\n",
      "Applying strategy: csv_restore_tuples\n",
      "Applying strategy: csv_restore_booleans\n",
      "Applying strategy: csv_numerize\n",
      "Applying strategy: csv_drop_unknown\n",
      "Applying strategy: csv_add_missing_exchanges_section\n",
      "Applying strategy: normalize_units\n",
      "Applying strategy: normalize_biosphere_categories\n",
      "Applying strategy: normalize_biosphere_names\n",
      "Applying strategy: strip_biosphere_exc_locations\n",
      "Applying strategy: set_code_by_activity_hash\n",
      "Applying strategy: link_iterable_by_fields\n",
      "Applying strategy: assign_only_product_as_production\n",
      "Applying strategy: link_technosphere_by_activity_hash\n",
      "Applying strategy: drop_falsey_uncertainty_fields_but_keep_zeros\n",
      "Applying strategy: convert_uncertainty_types_to_integers\n",
      "Applying strategy: convert_activity_parameters_to_list\n",
      "Applied 16 strategies in 20.59 seconds\n",
      "Applying strategy: link_iterable_by_fields\n",
      "Applying strategy: link_iterable_by_fields\n",
      "Applying strategy: link_iterable_by_fields\n",
      "494 datasets\n",
      "3002 exchanges\n",
      "0 unlinked exchanges\n",
      "  \n"
     ]
    },
    {
     "name": "stderr",
     "output_type": "stream",
     "text": [
      "Writing activities to SQLite3 database:\n",
      "0% [##############################] 100% | ETA: 00:00:00\n",
      "Total time elapsed: 00:00:00\n"
     ]
    },
    {
     "name": "stdout",
     "output_type": "stream",
     "text": [
      "Title: Writing activities to SQLite3 database:\n",
      "  Started: 08/01/2023 21:26:26\n",
      "  Finished: 08/01/2023 21:26:26\n",
      "  Total time elapsed: 00:00:00\n",
      "  CPU %: 6.20\n",
      "  Memory %: 5.76\n",
      "Created database: GENESIS_2050_PEMFC-bat_Base\n"
     ]
    }
   ],
   "source": [
    "imp = ExcelImporter(os.path.join(\"GENESIS_complete_long-term_PEMFC-bat_Base.xlsx\")) #You need to change that part to to path were you stored the created file\n",
    "imp.apply_strategies()\n",
    "imp.match_database(\"ecoinvent_remind_SSP2-Base_2050\", fields=('name', 'unit', 'location', 'reference product'))\n",
    "imp.match_database(\"ecoinvent_remind_SSP2-Base_2050\", fields=('name', 'unit', 'location'))\n",
    "imp.match_database(fields=('name', 'unit', 'location'))\n",
    "imp.statistics()\n",
    "imp.write_database()"
   ]
  },
  {
   "cell_type": "markdown",
   "id": "0d382f97-2845-43cf-a7a3-ff2b4c2febef",
   "metadata": {},
   "source": [
    "PEMFC-bat PkBudg500"
   ]
  },
  {
   "cell_type": "code",
   "execution_count": 21,
   "id": "2ddf4784-5265-418f-9d3f-151c66e1fb0d",
   "metadata": {
    "collapsed": true,
    "jupyter": {
     "outputs_hidden": true
    },
    "tags": []
   },
   "outputs": [
    {
     "name": "stdout",
     "output_type": "stream",
     "text": [
      "Extracted 77 worksheets in 1.06 seconds\n",
      "Applying strategy: csv_restore_tuples\n",
      "Applying strategy: csv_restore_booleans\n",
      "Applying strategy: csv_numerize\n",
      "Applying strategy: csv_drop_unknown\n",
      "Applying strategy: csv_add_missing_exchanges_section\n",
      "Applying strategy: normalize_units\n",
      "Applying strategy: normalize_biosphere_categories\n",
      "Applying strategy: normalize_biosphere_names\n",
      "Applying strategy: strip_biosphere_exc_locations\n",
      "Applying strategy: set_code_by_activity_hash\n",
      "Applying strategy: link_iterable_by_fields\n",
      "Applying strategy: assign_only_product_as_production\n",
      "Applying strategy: link_technosphere_by_activity_hash\n",
      "Applying strategy: drop_falsey_uncertainty_fields_but_keep_zeros\n",
      "Applying strategy: convert_uncertainty_types_to_integers\n",
      "Applying strategy: convert_activity_parameters_to_list\n",
      "Applied 16 strategies in 18.30 seconds\n",
      "Applying strategy: link_iterable_by_fields\n",
      "Applying strategy: link_iterable_by_fields\n",
      "Applying strategy: link_iterable_by_fields\n",
      "494 datasets\n",
      "3002 exchanges\n",
      "0 unlinked exchanges\n",
      "  \n"
     ]
    },
    {
     "name": "stderr",
     "output_type": "stream",
     "text": [
      "Writing activities to SQLite3 database:\n",
      "0% [##############################] 100% | ETA: 00:00:00\n",
      "Total time elapsed: 00:00:02\n"
     ]
    },
    {
     "name": "stdout",
     "output_type": "stream",
     "text": [
      "Title: Writing activities to SQLite3 database:\n",
      "  Started: 08/01/2023 21:27:06\n",
      "  Finished: 08/01/2023 21:27:08\n",
      "  Total time elapsed: 00:00:02\n",
      "  CPU %: 81.50\n",
      "  Memory %: 5.76\n",
      "Created database: GENESIS_2050_PEMFC-bat_PkBudg500\n"
     ]
    }
   ],
   "source": [
    "imp = ExcelImporter(os.path.join(\"GENESIS_complete_long-term_PEMFC-bat_PkBudg500.xlsx\")) #You need to change that part to to path were you stored the created file\n",
    "imp.apply_strategies()\n",
    "imp.match_database(\"ecoinvent_remind_SSP2-PkBudg500_2050\", fields=('name', 'unit', 'location', 'reference product'))\n",
    "imp.match_database(\"ecoinvent_remind_SSP2-PkBudg500_2050\", fields=('name', 'unit', 'location'))\n",
    "imp.match_database(fields=('name', 'unit', 'location'))\n",
    "imp.statistics()\n",
    "imp.write_database()"
   ]
  },
  {
   "cell_type": "markdown",
   "id": "819316a6-7be8-47b1-a376-92372dcd2bde",
   "metadata": {},
   "source": [
    "##### BW2 import files"
   ]
  },
  {
   "cell_type": "markdown",
   "id": "f9d8bc8f-4ab9-4d83-8a61-f52b639cd13d",
   "metadata": {},
   "source": [
    "Conventional\n",
    "You need to change that part to to path were you stored the created file"
   ]
  },
  {
   "cell_type": "code",
   "execution_count": null,
   "id": "df75933b-d151-4dd8-8dd7-b041967a9ef9",
   "metadata": {},
   "outputs": [],
   "source": [
    "BW2Package.import_file(\"GENESIS_2050_conventional_Base.9ce54eaab3632b0dca0c6040c950ebd2.bw2package\")\n",
    "BW2Package.import_file(\"GENESIS_2050_conventional_NDC.201f22c2bbe790173a21e513b82f5f86.bw2package\")\n",
    "BW2Package.import_file(\"GENESIS_2050_conventional_NDC_ILUC.fc4c2185ccdf075f61e1640c323ca1bc.bw2package\")\n",
    "BW2Package.import_file(\"GENESIS_2050_conventional_PkBudg500.54fc208466282f7df2745e4b5dd5f5c7.bw2package\")"
   ]
  },
  {
   "cell_type": "markdown",
   "id": "fc09c4e5-8737-4fa9-af4f-f3392caccb97",
   "metadata": {},
   "source": [
    "PEMFC-bat\\\n",
    "You need to change that part to to path were you stored the created file"
   ]
  },
  {
   "cell_type": "code",
   "execution_count": null,
   "id": "be5dd291-9e8c-496e-a37d-f5b54783224b",
   "metadata": {},
   "outputs": [],
   "source": [
    "BW2Package.import_file(\"GENESIS_2050_PEMFC-bat_Base.0a50dd7c84f49035f4188e113906f4a6.bw2package\")\n",
    "BW2Package.import_file(\"GENESIS_2050_PEMFC-bat_NDC.a025280320975a79f5eea88bcdee81e8.bw2package\")\n",
    "BW2Package.import_file(\"GENESIS_2050_PEMFC-bat_PkBudg500.40c6d0b012f236aaf9d86a920c36c30b.bw2package\")"
   ]
  },
  {
   "cell_type": "markdown",
   "id": "5974faff-1a87-478c-910c-ace87a05ede1",
   "metadata": {},
   "source": [
    "SOFC-bat\\\n",
    "You need to change that part to to path were you stored the created file"
   ]
  },
  {
   "cell_type": "code",
   "execution_count": null,
   "id": "78a36a96-9687-4549-b42c-300253a5e22d",
   "metadata": {},
   "outputs": [],
   "source": [
    "BW2Package.import_file(\"GENESIS_2050_SOFC-bat_Base.1ac288cd6f470275c7396b67f9540a93.bw2package\")\n",
    "BW2Package.import_file(\"GENESIS_2050_SOFC-bat_NDC.5e6219b191def556809a28ffc90721b7.bw2package\")\n",
    "BW2Package.import_file(\"GENESIS_2050_SOFC-bat_PkBudg500.b52e67461d38a7178406c6536c11dc91.bw2package\")"
   ]
  },
  {
   "cell_type": "markdown",
   "id": "8bd6b94d-20de-482b-996d-5955d5af49ec",
   "metadata": {
    "tags": []
   },
   "source": [
    "### LCIA method setup\n",
    "#### Setting up Life Cycle Impact Assessment Method [IMPACTWorld+](https://www.impactworldplus.org/en/index.php). BW2 package for method installation can be found [here](https://zenodo.org/record/1488373)"
   ]
  },
  {
   "cell_type": "code",
   "execution_count": null,
   "id": "cab94f64-3b56-419b-a0a8-712639bc5b2b",
   "metadata": {},
   "outputs": [],
   "source": [
    "# Import the specified BW2Package for the LCIA method IMPACTWorld+ file from the given path. You need to change that part to to path were you stored the created file\n",
    "BW2Package.import_file(\"Brightway_IW_damage_1_46_and_midpoint_1_28.bw2package\")\n",
    "\n",
    "# The water use method needs to be updated due to the fact that it was wrongly created.\n",
    "# Filter the methods list to find the desired method for 'IMPACTWorld+ (Default_Recommended_Midpoint 1.28)'.\n",
    "# Then, load the method and its characterization factors into the WS_lst variable.\n",
    "IWP_mid = [m for m in methods if 'IMPACTWorld+ (Default_Recommended_Midpoint 1.28)' in m[0]]\n",
    "WS = Method(IWP_mid[9])\n",
    "WS_lst = WS.load()\n",
    "\n",
    "# Define and remove certain characterization factors (CF) from the WS_lst.\n",
    "ex_CF = (('biosphere3', '2404b41a-2eed-4e9d-8ab6-783946fdf5d6'), -42.95353086694035)\n",
    "ex_CF_ocean = (('biosphere3', '4f0f15b3-b227-4cdc-b0b3-6412d55695d5'), 0)\n",
    "WS_lst.remove(ex_CF)\n",
    "WS_lst.remove(ex_CF_ocean)\n",
    "\n",
    "# Define a new characterization factor and add it to the WS_lst.\n",
    "new_CF = (('biosphere3', '8c1494a5-4987-4715-aa2d-1908c495f4eb'), 42.95353086694035)\n",
    "WS_lst.append(new_CF)\n",
    "\n",
    "# Create a new Method instance for the updated 'Water scarcity' method.\n",
    "# Register the new method and write the updated characterization factors to it.\n",
    "new_WS = Method(('IMPACTWorld+ (Default_Recommended_Midpoint 1.28)', 'Water scarcity'))\n",
    "new_WS.register()\n",
    "new_WS.write(WS_lst)"
   ]
  },
  {
   "cell_type": "markdown",
   "id": "42e50b62-29bd-45af-a5ca-f3697896707e",
   "metadata": {},
   "source": [
    "#### Create aggregated endpoint CFs\n",
    "##### Ecosystem quality - Short term"
   ]
  },
  {
   "cell_type": "code",
   "execution_count": 11,
   "id": "b2035c77-e9a3-4b33-b36b-c4c00c72687e",
   "metadata": {},
   "outputs": [],
   "source": [
    "iw_ep_eq_st_agg = {}\n",
    "\n",
    "for m in iw_ep_eq_st:\n",
    "    for flow in Method(m).load():\n",
    "        key = flow[0]\n",
    "        value = flow[1]\n",
    "        if key in iw_ep_eq_st_agg:\n",
    "            iw_ep_eq_st_agg[key] += value\n",
    "        else:\n",
    "            iw_ep_eq_st_agg[key] = value\n",
    "iw_ep_eq_st_agg_list = [(key, value) for key, value in iw_ep_eq_st_agg.items()]"
   ]
  },
  {
   "cell_type": "code",
   "execution_count": 12,
   "id": "2e34b02b-edc5-44ea-8aea-d3b86119024e",
   "metadata": {},
   "outputs": [],
   "source": [
    "my_method = Method(('IMPACTWorld+ (Default_Recommended_Damage 1.46)', 'Ecosystem quality, short term'))\n",
    "my_metadata = {'description': 'IMPACTWorld+ (Default_Damage). Version 1.46',\n",
    "               'unit': 'PDF.m2.yr',\n",
    "               'num_cfs': 2112}\n",
    "my_method.register(**my_metadata)\n",
    "my_method.write(iw_ep_eq_st_agg_list)"
   ]
  },
  {
   "cell_type": "markdown",
   "id": "8d0be6ed-eba2-425f-bc00-7218235c3d49",
   "metadata": {},
   "source": [
    "##### Human health - Short term"
   ]
  },
  {
   "cell_type": "code",
   "execution_count": 15,
   "id": "88fa5e59-a958-477b-beff-fe836d9bea9e",
   "metadata": {},
   "outputs": [],
   "source": [
    "iw_ep_hh_st_agg = {}\n",
    "\n",
    "for m in iw_ep_hh_st:\n",
    "    for flow in Method(m).load():\n",
    "        key = flow[0]\n",
    "        value = flow[1]\n",
    "        if key in iw_ep_hh_st_agg:\n",
    "            iw_ep_hh_st_agg[key] += value\n",
    "        else:\n",
    "            iw_ep_hh_st_agg[key] = value\n",
    "iw_ep_hh_st_agg_list = [(key, value) for key, value in iw_ep_hh_st_agg.items()]"
   ]
  },
  {
   "cell_type": "code",
   "execution_count": 16,
   "id": "00301295-2d6e-4e00-bfcf-e8c36bda458a",
   "metadata": {
    "jupyter": {
     "source_hidden": true
    },
    "tags": []
   },
   "outputs": [],
   "source": [
    "my_method = Method(('IMPACTWorld+ (Default_Recommended_Damage 1.46)', 'Human health, short term'))\n",
    "my_metadata = {'description': 'IMPACTWorld+ (Default_Damage). Version 1.46',\n",
    "               'unit': 'DALY',\n",
    "               'num_cfs': 1610}\n",
    "my_method.register(**my_metadata)\n",
    "my_method.write(iw_ep_hh_st_agg_list)"
   ]
  },
  {
   "cell_type": "code",
   "execution_count": null,
   "id": "fc856f2f-1cbe-4d01-b29f-33787bb29514",
   "metadata": {},
   "outputs": [],
   "source": []
  }
 ],
 "metadata": {
  "kernelspec": {
   "display_name": "Python 3 (ipykernel)",
   "language": "python",
   "name": "python3"
  },
  "language_info": {
   "codemirror_mode": {
    "name": "ipython",
    "version": 3
   },
   "file_extension": ".py",
   "mimetype": "text/x-python",
   "name": "python",
   "nbconvert_exporter": "python",
   "pygments_lexer": "ipython3",
   "version": "3.9.16"
  }
 },
 "nbformat": 4,
 "nbformat_minor": 5
}
