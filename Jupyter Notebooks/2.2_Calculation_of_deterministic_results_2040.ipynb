{
 "cells": [
  {
   "cell_type": "markdown",
   "id": "c18b0088-0521-4ec8-9b70-025bf70cd4a7",
   "metadata": {
    "tags": []
   },
   "source": [
    "# 2.2 Calculation of deterministic results (2040)"
   ]
  },
  {
   "cell_type": "markdown",
   "id": "883b5ad6",
   "metadata": {
    "jp-MarkdownHeadingCollapsed": true,
    "tags": []
   },
   "source": [
    "## Importing libraries"
   ]
  },
  {
   "cell_type": "code",
   "execution_count": null,
   "id": "22f30af3",
   "metadata": {},
   "outputs": [],
   "source": [
    "from brightway2 import *\n",
    "import os               # to use \"operating system dependent functionality\"\n",
    "import numpy as np      # \"the fundamental package for scientific computing with Python\"\n",
    "import pandas as pd     # \"high-performance, easy-to-use data structures and data analysis tools\" for Python\n",
    "\n",
    "import matplotlib.pyplot as plt\n",
    "from scipy.stats import rankdata\n",
    "import string\n",
    "import pickle\n",
    "%matplotlib inline"
   ]
  },
  {
   "cell_type": "markdown",
   "id": "e8a9e3c3-f364-470f-95cd-3a2b7925d6ee",
   "metadata": {
    "jp-MarkdownHeadingCollapsed": true,
    "tags": []
   },
   "source": [
    "## Project setting"
   ]
  },
  {
   "cell_type": "code",
   "execution_count": null,
   "id": "bfa596d6",
   "metadata": {},
   "outputs": [],
   "source": [
    "projects.set_current('pLCA_RegAC_2040')"
   ]
  },
  {
   "cell_type": "markdown",
   "id": "bfc5e897-a93d-4136-a6af-c66d802f2684",
   "metadata": {
    "jp-MarkdownHeadingCollapsed": true,
    "tags": []
   },
   "source": [
    "## ImpactWorld+ import"
   ]
  },
  {
   "cell_type": "code",
   "execution_count": null,
   "id": "76d7e041-cb30-448b-b09b-151e16647f1c",
   "metadata": {},
   "outputs": [],
   "source": [
    "# Import the specified BW2Package for the LCIA method IMPACTWorld+ file from the given path or import it to the same file location as this notebook\n",
    "BW2Package.import_file(\"Brightway_IW_damage_1_46_and_midpoint_1_28.bw2package\")\n",
    "\n",
    "# The water use method needs to be updated due to the fact that it was wrongly created.\n",
    "# Filter the methods list to find the desired method for 'IMPACTWorld+ (Default_Recommended_Midpoint 1.28)'.\n",
    "# Then, load the method and its characterization factors into the WS_lst variable.\n",
    "IWP_mid = [m for m in methods if 'IMPACTWorld+ (Default_Recommended_Midpoint 1.28)' in m[0]]\n",
    "WS = Method(IWP_mid[9])\n",
    "WS_lst = WS.load()\n",
    "\n",
    "# Define and remove certain characterization factors (CF) from the WS_lst.\n",
    "ex_CF = (('biosphere3', '2404b41a-2eed-4e9d-8ab6-783946fdf5d6'), -42.95353086694035)\n",
    "ex_CF_ocean = (('biosphere3', '4f0f15b3-b227-4cdc-b0b3-6412d55695d5'), 0)\n",
    "WS_lst.remove(ex_CF)\n",
    "WS_lst.remove(ex_CF_ocean)\n",
    "\n",
    "# Define a new characterization factor and add it to the WS_lst.\n",
    "new_CF = (('biosphere3', '8c1494a5-4987-4715-aa2d-1908c495f4eb'), 42.95353086694035)\n",
    "WS_lst.append(new_CF)\n",
    "\n",
    "# Create a new Method instance for the updated 'Water scarcity' method.\n",
    "# Register the new method and write the updated characterization factors to it.\n",
    "new_WS = Method(('IMPACTWorld+ (Default_Recommended_Midpoint 1.28)', 'Water scarcity'))\n",
    "new_WS.register()\n",
    "new_WS.write(WS_lst)"
   ]
  },
  {
   "cell_type": "markdown",
   "id": "0964e8b4-73e2-4170-89b3-2d0b6126cdf3",
   "metadata": {},
   "source": [
    "Assigning methods and units required for axis labels in visualisations"
   ]
  },
  {
   "cell_type": "code",
   "execution_count": null,
   "id": "ee745aeb-078f-4546-83d6-778d86576fed",
   "metadata": {
    "tags": []
   },
   "outputs": [],
   "source": [
    "IWP_mid = [m for m in methods if 'IMPACTWorld+ (Default_Recommended_Midpoint 1.28)' in m[0]]\n",
    "units_IWP_mid=['kg CO2eq.','kg CO2eq.','MJ dep.','kg dep.', 'kg NMVOCeq.','kg CFC-11eq.','CTUe','CTUh','CTUh','m3eq.','kg SO2eq.','kg SO2eq.','kg PO4eq.','kg Neq.', 'm2eq.', 'm2eq*yr.', 'kg PM2.5eq.', 'Bq C14eq.']"
   ]
  },
  {
   "cell_type": "code",
   "execution_count": null,
   "id": "78314a54-b9ae-4f1b-8499-11f19f8641a2",
   "metadata": {
    "tags": []
   },
   "outputs": [],
   "source": [
    "IWP_end = [m for m in methods if 'IMPACTWorld+ (Default_Recommended_Damage 1.46)' in m[0]]"
   ]
  },
  {
   "cell_type": "markdown",
   "id": "5bbb7f5d-a7cb-4517-a7a2-af207c49a398",
   "metadata": {
    "jp-MarkdownHeadingCollapsed": true,
    "tags": []
   },
   "source": [
    "## Selection of processes for the configurations"
   ]
  },
  {
   "cell_type": "markdown",
   "id": "ddd8027e-dfb2-41e7-a0bd-87e29f8ba501",
   "metadata": {},
   "source": [
    "Defining the 'use of aircraft' processes for all configurations, SSP scenarios and fuels from the imported LCI databases"
   ]
  },
  {
   "cell_type": "code",
   "execution_count": null,
   "id": "7d2bf378-13bd-4d38-9f99-b5ae031408f9",
   "metadata": {},
   "outputs": [],
   "source": [
    "#Aircraft use processes for the typical mission (200 nmi)\n",
    "\n",
    "#KERSOSENE FUELED AIRCRAFT\n",
    "#conventional \n",
    "typ_aircraft_conv_kero_NDC = Database('GENESIS_2040_conventional_NDC').get('17D40CF28F3748DD8B56ED861593DA72')\n",
    "typ_aircraft_conv_kero_Base = Database(\"GENESIS_2040_conventional_Base\").get('17D40CF28F3748DD8B56ED861593DA72')\n",
    "typ_aircraft_conv_kero_PkBudg500 = Database(\"GENESIS_2040_conventional_PkBudg500\").get('17D40CF28F3748DD8B56ED861593DA72')\n",
    "\n",
    "#Gt-bat\n",
    "typ_aircraft_GT_bat_kero_NDC = Database(\"GENESIS_2040_GT-bat_NDC\").get('17D40CF28F3748DD8B56ED861593DA72')\n",
    "typ_aircraft_GT_bat_kero_Base = Database(\"GENESIS_2040_GT-bat_Base\").get('17D40CF28F3748DD8B56ED861593DA72')\n",
    "typ_aircraft_GT_bat_kero_PkBudg500 = Database(\"GENESIS_2040_GT-bat_PkBudg500\").get('17D40CF28F3748DD8B56ED861593DA72')\n",
    "\n",
    "#AAF FUELED AIRCRAFT\n",
    "#Conventional\n",
    "typ_aircraft_conv_AAF_NDC = Database(\"GENESIS_2040_conventional_NDC\").get('70E4280FBBC24DC09EB5512226D396F6')\n",
    "typ_aircraft_conv_AAF_Base = Database(\"GENESIS_2040_conventional_Base\").get('70E4280FBBC24DC09EB5512226D396F6')\n",
    "typ_aircraft_conv_AAF_PkBudg500 = Database(\"GENESIS_2040_conventional_PkBudg500\").get('70E4280FBBC24DC09EB5512226D396F6')\n",
    "typ_aircraft_conv_ILUC_NDC = Database(\"GENESIS_2040_conventional_NDC_ILUC\").get('70E4280FBBC24DC09EB5512226D396F6')\n",
    "\n",
    "#Gt-bat\n",
    "typ_aircraft_GT_bat_AAF_NDC = Database(\"GENESIS_2040_GT-bat_NDC\").get('70E4280FBBC24DC09EB5512226D396F6')\n",
    "typ_aircraft_GT_bat_AAF_Base = Database(\"GENESIS_2040_GT-bat_Base\").get('70E4280FBBC24DC09EB5512226D396F6')\n",
    "typ_aircraft_GT_bat_AAF_PkBudg500 = Database(\"GENESIS_2040_GT-bat_PkBudg500\").get('70E4280FBBC24DC09EB5512226D396F6')\n",
    "typ_aircraft_GT_bat_ILUC_NDC = Database(\"GENESIS_2040_GT-bat_NDC_ILUC\").get('70E4280FBBC24DC09EB5512226D396F6')\n",
    "\n",
    "#HYDROGEN FUELED AIRCRAFT\n",
    "#PEMFC-bat\n",
    "typ_aircraft_PEMFC_bat_NDC = Database('GENESIS_2040_PEMFC-bat_NDC').get('17D40CF28F3748DD8B56ED861593DA72')\n",
    "typ_aircraft_PEMFC_bat_Base = Database(\"GENESIS_2040_PEMFC-bat_Base\").get('17D40CF28F3748DD8B56ED861593DA72')\n",
    "typ_aircraft_PEMFC_bat_PkBudg500 = Database(\"GENESIS_2040_PEMFC-bat_PkBudg500\").get('17D40CF28F3748DD8B56ED861593DA72')"
   ]
  },
  {
   "cell_type": "code",
   "execution_count": null,
   "id": "17f83648-9dde-43c8-ba07-da13fb05a2ec",
   "metadata": {},
   "outputs": [],
   "source": [
    "#Aircraft use processes for the design mission (600 nmi)\n",
    "\n",
    "#KERSOSENE FUELED AIRCRAFT\n",
    "#Conventional\n",
    "des_aircraft_conv_kero_NDC = Database('GENESIS_2040_conventional_NDC').get('0808F060E0F94D1BB0380DFA4A9065F5')\n",
    "des_aircraft_conv_kero_Base = Database(\"GENESIS_2040_conventional_Base\").get('0808F060E0F94D1BB0380DFA4A9065F5')\n",
    "des_aircraft_conv_kero_PkBudg500 = Database(\"GENESIS_2040_conventional_PkBudg500\").get('0808F060E0F94D1BB0380DFA4A9065F5')\n",
    "\n",
    "#Gt-bat\n",
    "des_aircraft_GT_bat_kero_NDC = Database(\"GENESIS_2040_GT-bat_NDC\").get('0808F060E0F94D1BB0380DFA4A9065F5')\n",
    "des_aircraft_GT_bat_kero_Base = Database(\"GENESIS_2040_GT-bat_Base\").get('0808F060E0F94D1BB0380DFA4A9065F5')\n",
    "des_aircraft_GT_bat_kero_PkBudg500 = Database(\"GENESIS_2040_GT-bat_PkBudg500\").get('0808F060E0F94D1BB0380DFA4A9065F5')\n",
    "\n",
    "#AAF FUELED AIRCRAFT\n",
    "#Conventional\n",
    "des_aircraft_conv_AAF_NDC = Database(\"GENESIS_2040_conventional_NDC\").get('E60BCC7BBBB44E729CCC8156F32F7793')\n",
    "des_aircraft_conv_AAF_Base = Database(\"GENESIS_2040_conventional_Base\").get('E60BCC7BBBB44E729CCC8156F32F7793')\n",
    "des_aircraft_conv_AAF_PkBudg500 = Database(\"GENESIS_2040_conventional_PkBudg500\").get('E60BCC7BBBB44E729CCC8156F32F7793')\n",
    "des_aircraft_conv_ILUC_NDC = Database(\"GENESIS_2040_conventional_NDC_ILUC\").get('E60BCC7BBBB44E729CCC8156F32F7793')\n",
    "\n",
    "#Gt-bat\n",
    "des_aircraft_GT_bat_AAF_NDC = Database(\"GENESIS_2040_GT-bat_NDC\").get('E60BCC7BBBB44E729CCC8156F32F7793')\n",
    "des_aircraft_GT_bat_AAF_Base = Database(\"GENESIS_2040_GT-bat_Base\").get('E60BCC7BBBB44E729CCC8156F32F7793')\n",
    "des_aircraft_GT_bat_AAF_PkBudg500 = Database(\"GENESIS_2040_GT-bat_PkBudg500\").get('E60BCC7BBBB44E729CCC8156F32F7793')\n",
    "des_aircraft_GT_bat_ILUC_NDC = Database(\"GENESIS_2040_GT-bat_NDC_ILUC\").get('E60BCC7BBBB44E729CCC8156F32F7793')\n",
    "\n",
    "#HYDROGEN FUELED AIRCRAFT\n",
    "#PEMFC-bat\n",
    "des_aircraft_PEMFC_bat_NDC = Database('GENESIS_2040_PEMFC-bat_NDC').get('0808F060E0F94D1BB0380DFA4A9065F5')\n",
    "des_aircraft_PEMFC_bat_Base = Database(\"GENESIS_2040_PEMFC-bat_Base\").get('0808F060E0F94D1BB0380DFA4A9065F5')\n",
    "des_aircraft_PEMFC_bat_PkBudg500 = Database(\"GENESIS_2040_PEMFC-bat_PkBudg500\").get('0808F060E0F94D1BB0380DFA4A9065F5')\n",
    "\n",
    "\n"
   ]
  },
  {
   "cell_type": "markdown",
   "id": "f075e877-f74e-4f7f-a2a4-2ca7a1fe6dad",
   "metadata": {},
   "source": [
    "Setting up dictionary with all 2040 typical mission configurations and SSP scenarios"
   ]
  },
  {
   "cell_type": "code",
   "execution_count": null,
   "id": "52bad9a0-3850-4862-b776-6d620664b4fb",
   "metadata": {},
   "outputs": [],
   "source": [
    "configurations_typ = {\n",
    "     'typ_aircraft_conv_kero_Base': typ_aircraft_conv_kero_Base,\n",
    "     'typ_aircraft_conv_kero_NDC': typ_aircraft_conv_kero_NDC,\n",
    "     'typ_aircraft_conv_kero_PkBudg500': typ_aircraft_conv_kero_PkBudg500,\n",
    "     'typ_aircraft_GT_bat_kero_Base': typ_aircraft_GT_bat_kero_Base,\n",
    "     'typ_aircraft_GT_bat_kero_NDC': typ_aircraft_GT_bat_kero_NDC,\n",
    "     'typ_aircraft_GT_bat_kero_PkBudg500': typ_aircraft_GT_bat_kero_PkBudg500,\n",
    "     'typ_aircraft_conv_AAF_Base': typ_aircraft_conv_AAF_Base,\n",
    "     'typ_aircraft_conv_AAF_NDC': typ_aircraft_conv_AAF_NDC,\n",
    "     'typ_aircraft_conv_AAF_PkBudg500': typ_aircraft_conv_AAF_PkBudg500,\n",
    "     'typ_aircraft_GT_bat_AAF_Base': typ_aircraft_GT_bat_AAF_Base,\n",
    "     'typ_aircraft_GT_bat_AAF_NDC': typ_aircraft_GT_bat_AAF_NDC,\n",
    "     'typ_aircraft_GT_bat_AAF_PkBudg500': typ_aircraft_GT_bat_AAF_PkBudg500,\n",
    "     'typ_aircraft_PEMFC_bat_NDC':typ_aircraft_PEMFC_bat_NDC,\n",
    "     'typ_aircraft_PEMFC_bat_Base':typ_aircraft_PEMFC_bat_Base,\n",
    "     'typ_aircraft_PEMFC_bat_PkBudg500':typ_aircraft_PEMFC_bat_PkBudg500,\n",
    "     'typ_aircraft_GT_bat_ILUC_NDC':typ_aircraft_GT_bat_ILUC_NDC,\n",
    "     'typ_aircraft_conv_ILUC_NDC':typ_aircraft_conv_ILUC_NDC}"
   ]
  },
  {
   "cell_type": "markdown",
   "id": "509030a9-a809-4610-b331-e798cb555ec9",
   "metadata": {},
   "source": [
    "Setting up dictionary with all 2040 design mission configurations and SSP scenarios"
   ]
  },
  {
   "cell_type": "code",
   "execution_count": null,
   "id": "5603a07b-d2f5-4fbb-9a5d-5be4c96bf467",
   "metadata": {},
   "outputs": [],
   "source": [
    "configurations_des = {\n",
    "     'des_aircraft_conv_kero_Base': des_aircraft_conv_kero_Base,\n",
    "     'des_aircraft_conv_kero_NDC': des_aircraft_conv_kero_NDC,\n",
    "     'des_aircraft_conv_kero_PkBudg500': des_aircraft_conv_kero_PkBudg500,\n",
    "     'des_aircraft_GT_bat_kero_Base': des_aircraft_GT_bat_kero_Base,\n",
    "     'des_aircraft_GT_bat_kero_NDC': des_aircraft_GT_bat_kero_NDC,\n",
    "     'des_aircraft_GT_bat_kero_PkBudg500': des_aircraft_GT_bat_kero_PkBudg500,\n",
    "     'des_aircraft_conv_AAF_Base': des_aircraft_conv_AAF_Base,\n",
    "     'des_aircraft_conv_AAF_NDC': des_aircraft_conv_AAF_NDC,\n",
    "     'des_aircraft_conv_AAF_PkBudg500': des_aircraft_conv_AAF_PkBudg500,\n",
    "     'des_aircraft_GT_bat_AAF_Base': des_aircraft_GT_bat_AAF_Base,\n",
    "     'des_aircraft_GT_bat_AAF_NDC': des_aircraft_GT_bat_AAF_NDC,\n",
    "     'des_aircraft_GT_bat_AAF_PkBudg500': des_aircraft_GT_bat_AAF_PkBudg500,\n",
    "     'des_aircraft_PEMFC_bat_NDC':des_aircraft_PEMFC_bat_NDC,\n",
    "     'des_aircraft_PEMFC_bat_Base':des_aircraft_PEMFC_bat_Base,\n",
    "     'des_aircraft_PEMFC_bat_PkBudg500':des_aircraft_PEMFC_bat_PkBudg500,\n",
    "     'des_aircraft_GT_bat_ILUC_NDC':des_aircraft_GT_bat_ILUC_NDC,\n",
    "     'des_aircraft_conv_ILUC_NDC':des_aircraft_conv_ILUC_NDC}"
   ]
  },
  {
   "cell_type": "markdown",
   "id": "535c8731-03f5-4b96-9c97-5c8e6f45b988",
   "metadata": {
    "jp-MarkdownHeadingCollapsed": true,
    "tags": []
   },
   "source": [
    "## Deterministic results"
   ]
  },
  {
   "cell_type": "markdown",
   "id": "d1a21fa0-8d5a-4850-ba81-a2f1a433042c",
   "metadata": {
    "jp-MarkdownHeadingCollapsed": true,
    "tags": []
   },
   "source": [
    "### Midpoint"
   ]
  },
  {
   "cell_type": "markdown",
   "id": "244ad37c-da36-4e51-806c-5ccf35912e41",
   "metadata": {},
   "source": [
    "Setting up ImpactWorld+ as midpoint LCIA method"
   ]
  },
  {
   "cell_type": "code",
   "execution_count": null,
   "id": "b9a00039-9cfc-4410-99f2-e22b3ea65272",
   "metadata": {},
   "outputs": [],
   "source": [
    "IWP_mid = [m for m in methods if 'IMPACTWorld+ (Default_Recommended_Midpoint 1.28)' in m[0]]"
   ]
  },
  {
   "cell_type": "markdown",
   "id": "ac56cc03-000a-41c9-91e8-fb2421ea401c",
   "metadata": {
    "jp-MarkdownHeadingCollapsed": true,
    "tags": []
   },
   "source": [
    "#### Typical mission"
   ]
  },
  {
   "cell_type": "markdown",
   "id": "fb5b9762-3cc3-440e-a30d-dd488dfa0be9",
   "metadata": {},
   "source": [
    "Setting up empty dataframe for midpoint results"
   ]
  },
  {
   "cell_type": "code",
   "execution_count": null,
   "id": "a8563f23-4709-4718-b951-deeb5b4020cb",
   "metadata": {},
   "outputs": [],
   "source": [
    "deterministic_mid_typ = pd.DataFrame(columns=[col[1] for col in IWP_mid], index=list(configurations_typ.keys()))"
   ]
  },
  {
   "cell_type": "markdown",
   "id": "f4185411-211d-44b7-8a42-3db481c42bf7",
   "metadata": {},
   "source": [
    "Generating midpoint results for all configurations with the typical mission with ImpactWorld+ and saving them in a pickle format"
   ]
  },
  {
   "cell_type": "code",
   "execution_count": null,
   "id": "b679fd6d-4e32-49e5-ae4e-08fd3174de44",
   "metadata": {},
   "outputs": [],
   "source": [
    "# generating midpoint results for 18 categories, for all 17 configurations\n",
    "\n",
    "for j in range(18):\n",
    "    for i in range(17):\n",
    "        test=configurations_typ[deterministic_mid_typ.index[i]]\n",
    "        E=[test]\n",
    "        fu={E[0]:1}\n",
    "        lca = LCA(fu, IWP_mid[j])\n",
    "        lca.lci()\n",
    "        lca.lcia()\n",
    "\n",
    "        #storing the midpoints in a dataframe\n",
    "        deterministic_mid_typ.loc[deterministic_mid_typ.index[i],deterministic_mid_typ.columns[j]]=lca.score\n",
    "display(deterministic_mid_typ)\n",
    "\n",
    "#saving the dataframe as a pickle file \n",
    "with open(f\"deterministic_midpoint_typ_2040.pkl\", \"wb+\") as f:\n",
    "        pickle.dump(deterministic_mid_typ, f)        "
   ]
  },
  {
   "cell_type": "markdown",
   "id": "bd24a10f-d404-49d9-ac58-cde02061df06",
   "metadata": {
    "jp-MarkdownHeadingCollapsed": true,
    "tags": []
   },
   "source": [
    "#### Design mission"
   ]
  },
  {
   "cell_type": "markdown",
   "id": "4635a2c7-7cff-4aef-a79a-5c45ea361417",
   "metadata": {},
   "source": [
    "Setting up empty dataframe for midpoint results"
   ]
  },
  {
   "cell_type": "code",
   "execution_count": null,
   "id": "593113d1-7cf9-4907-bcb1-cd526e49a3b6",
   "metadata": {},
   "outputs": [],
   "source": [
    "deterministic_mid_des = pd.DataFrame(columns=[col[1] for col in IWP_mid], index=list(configurations_des.keys()))"
   ]
  },
  {
   "cell_type": "markdown",
   "id": "88425702-4b8e-456b-bb17-baeeef525cdc",
   "metadata": {},
   "source": [
    "Generating midpoint results for all configurations with the design mission with ImpactWorld+ and saving them in a pickle format"
   ]
  },
  {
   "cell_type": "code",
   "execution_count": null,
   "id": "277b8369-d5d2-45cb-a6ef-be3c945fb8aa",
   "metadata": {},
   "outputs": [],
   "source": [
    "# generating midpoint results for 18 categories, for all 17 configurations\n",
    "\n",
    "for j in range(18):\n",
    "    for i in range(17):\n",
    "        test=configurations_des[deterministic_mid_des.index[i]]\n",
    "        E=[test]\n",
    "        fu={E[0]:1}\n",
    "        lca = LCA(fu, IWP_mid[j])\n",
    "        lca.lci()\n",
    "        lca.lcia()\n",
    "\n",
    "        #storing the midpoints in a dataframe\n",
    "        deterministic_mid_des.loc[deterministic_mid_des.index[i],deterministic_mid_des.columns[j]]=lca.score\n",
    "display(deterministic_mid_des)\n",
    "\n",
    "#saving the dataframe as a pickle file \n",
    "with open(f\"deterministic_midpoint_des_2040.pkl\", \"wb+\") as f:\n",
    "        pickle.dump(deterministic_mid_des, f)        "
   ]
  },
  {
   "cell_type": "markdown",
   "id": "316d7dfc-a2fe-4e27-9e73-bf4569243d0a",
   "metadata": {
    "jp-MarkdownHeadingCollapsed": true,
    "tags": []
   },
   "source": [
    "### Endpoint"
   ]
  },
  {
   "cell_type": "markdown",
   "id": "c58eddf9-3fd6-4599-919b-525b6e0a0024",
   "metadata": {},
   "source": [
    "Setting up ImpactWorld+ as endpoint LCIA method"
   ]
  },
  {
   "cell_type": "code",
   "execution_count": null,
   "id": "101c5460-959f-4764-b2e4-0829df756d32",
   "metadata": {},
   "outputs": [],
   "source": [
    "IWP_end = [m for m in methods if 'IMPACTWorld+ (Default_Recommended_Damage 1.46)' in m[0]]"
   ]
  },
  {
   "cell_type": "markdown",
   "id": "547f2553-4b96-4b9d-b303-4d2fdbff4c5f",
   "metadata": {
    "jp-MarkdownHeadingCollapsed": true,
    "tags": []
   },
   "source": [
    "#### Typical mission"
   ]
  },
  {
   "cell_type": "markdown",
   "id": "7d0acb14-3e1d-45eb-b870-6be62ed70ccd",
   "metadata": {},
   "source": [
    "Setting up empty dataframe for endpoint results"
   ]
  },
  {
   "cell_type": "code",
   "execution_count": null,
   "id": "f713698b-ec4e-4ad1-9b55-01e3e789367d",
   "metadata": {},
   "outputs": [],
   "source": [
    "deterministic_end_typ = pd.DataFrame(columns=[col[1] for col in IWP_end], index=list(configurations_typ.keys()))\n"
   ]
  },
  {
   "cell_type": "markdown",
   "id": "e1282954-efe9-48dd-9ebe-158bd3378b4b",
   "metadata": {},
   "source": [
    "Generating midpoint results for all configurations with the typical mission with ImpactWorld+ and saving them in a pickle format"
   ]
  },
  {
   "cell_type": "code",
   "execution_count": null,
   "id": "44270dca-1bf2-43eb-a3a9-b2dd5df09c96",
   "metadata": {},
   "outputs": [],
   "source": [
    "# generating endpoint results for 27 categories, for all 17 configurations\n",
    "\n",
    "for j in range(27):\n",
    "    for i in range(17):\n",
    "        test=configurations_typ[deterministic_end_typ.index[i]]\n",
    "        E=[test]\n",
    "        fu={E[0]:1}\n",
    "        lca = LCA(fu, IWP_end[j])\n",
    "        lca.lci()\n",
    "        lca.lcia()\n",
    "        \n",
    "        #storing the endpoints in a dataframe\n",
    "        deterministic_end_typ.loc[deterministic_end_typ.index[i],deterministic_end_typ.columns[j]]=lca.score\n",
    "display(deterministic_end_typ)\n",
    "\n",
    "#saving the dataframe as a pickle file\n",
    "with open(f\"deterministic_endpoint_typ_2040.pkl\", \"wb+\") as f:\n",
    "        pickle.dump(deterministic_end_typ, f)"
   ]
  },
  {
   "cell_type": "markdown",
   "id": "98850e96-26f0-4f66-8ef6-45ebcfcc67bf",
   "metadata": {
    "jp-MarkdownHeadingCollapsed": true,
    "tags": []
   },
   "source": [
    "#### Design mission"
   ]
  },
  {
   "cell_type": "markdown",
   "id": "f3755783-7f6d-4e5b-afcb-18a0943fbf9d",
   "metadata": {},
   "source": [
    "Setting up empty dataframe for endpoint results"
   ]
  },
  {
   "cell_type": "code",
   "execution_count": null,
   "id": "53d41413-9716-4113-9685-b83a9c3c6753",
   "metadata": {},
   "outputs": [],
   "source": [
    "deterministic_end_des = pd.DataFrame(columns=[col[1] for col in IWP_end], index=list(configurations_des.keys()))\n"
   ]
  },
  {
   "cell_type": "markdown",
   "id": "df03e90c-edca-42fc-b28d-7422a364bdfa",
   "metadata": {},
   "source": [
    "Generating midpoint results for all configurations with the typical mission with ImpactWorld+ and saving them in a pickle format"
   ]
  },
  {
   "cell_type": "code",
   "execution_count": null,
   "id": "dd346358-83b1-4838-a233-b56f4590aac8",
   "metadata": {},
   "outputs": [],
   "source": [
    "# generating endpoint results for 27 categories, for all 17 configurations\n",
    "\n",
    "for j in range(27):\n",
    "    for i in range(17):\n",
    "        test=configurations_des[deterministic_end_des.index[i]]\n",
    "        E=[test]\n",
    "        fu={E[0]:1}\n",
    "        lca = LCA(fu, IWP_end[j])\n",
    "        lca.lci()\n",
    "        lca.lcia()\n",
    "        \n",
    "        #storing the endpoints in a dataframe\n",
    "        deterministic_end_des.loc[deterministic_end_des.index[i],deterministic_end_des.columns[j]]=lca.score\n",
    "display(deterministic_end_des)\n",
    "\n",
    "#saving the dataframe as a pickle file\n",
    "with open(f\"deterministic_endpoint_des_2040.pkl\", \"wb+\") as f:\n",
    "        pickle.dump(deterministic_end_des, f)"
   ]
  },
  {
   "cell_type": "markdown",
   "id": "9fdce9a9-3073-403a-95b0-1fc3d462b5b5",
   "metadata": {
    "jp-MarkdownHeadingCollapsed": true,
    "tags": []
   },
   "source": [
    "## Contribution of life cycle stages"
   ]
  },
  {
   "cell_type": "markdown",
   "id": "e3bd9ee2-bc21-457c-8642-d98388c44702",
   "metadata": {},
   "source": [
    "The contribution of life cycle stages is only performed within the NDC scenario for endpoint."
   ]
  },
  {
   "cell_type": "markdown",
   "id": "4e7b3f20-6844-4ef1-8290-1a59309a0ec7",
   "metadata": {},
   "source": [
    "Retrieving all 'aircraft usage' proces codes from the NDC databases"
   ]
  },
  {
   "cell_type": "code",
   "execution_count": null,
   "id": "76dfa591-c102-46d7-b51d-c7c98c181c29",
   "metadata": {},
   "outputs": [],
   "source": [
    "acts_conv_2040 = [act['code'] for act in Database('GENESIS_2040_conventional_NDC') if act['name'].startswith('aircraft usage')]\n",
    "acts_GT_bat_2040 = [act['code'] for act in Database('GENESIS_2040_GT-bat_NDC') if act['name'].startswith('aircraft usage')]\n",
    "acts_PEMFC_bat_2040 = [act['code'] for act in Database('GENESIS_2040_PEMFC-bat_NDC') if act['name'].startswith('aircraft usage')]"
   ]
  },
  {
   "cell_type": "markdown",
   "id": "7b0921f3-2a59-4286-9856-64eaaa582583",
   "metadata": {},
   "source": [
    "Set up function for contributiona analysis calculation"
   ]
  },
  {
   "cell_type": "code",
   "execution_count": null,
   "id": "dedb71fe-6592-4dab-bd12-b649cdd27485",
   "metadata": {},
   "outputs": [],
   "source": [
    "def ca_calc(act_list, database, method):\n",
    "    ca_dict = {}\n",
    "    for act in act_list:\n",
    "        test = database.get(act)\n",
    "        E = [test]\n",
    "        fu = {E[0]: 1}\n",
    "        lca = LCA(fu, method)\n",
    "        lca.lci()\n",
    "        lca.lcia()\n",
    "        ca_list = []\n",
    "        ca_list.append(('Combustion', lca.characterized_inventory[:,lca.activity_dict.get(test.key)].sum()))\n",
    "        for exc in test.technosphere():\n",
    "            lca.redo_lcia({exc.input: exc['amount']})\n",
    "            ca_list.append((exc.input['name'], lca.score))\n",
    "            ca_dict[test['name']] = ca_list\n",
    "    return ca_dict"
   ]
  },
  {
   "cell_type": "markdown",
   "id": "2d496eb4-be37-4faf-962d-ee3de3e52f78",
   "metadata": {},
   "source": [
    "Selection of relevant endpoint methods. For the climate change, human toxicity, marine acidification and freshwater ecotoxicicty damages, the impacts are only considered over the short-term time span (from t=0 to t=100 years). See world impact+ article from Bulle et al.(2019)"
   ]
  },
  {
   "cell_type": "code",
   "execution_count": null,
   "id": "191299ff-9ae1-4ed7-a544-ab16426db52e",
   "metadata": {},
   "outputs": [],
   "source": [
    "HH= [IWP_end[2], IWP_end[7], IWP_end[11],IWP_end[12],IWP_end[13],IWP_end[16],IWP_end[18],IWP_end[25]]\n",
    "EQ=[IWP_end[0], IWP_end[4], IWP_end[6],IWP_end[8],IWP_end[9],IWP_end[10],IWP_end[14],IWP_end[20],IWP_end[21],IWP_end[22],IWP_end[23],IWP_end[24],IWP_end[26]]"
   ]
  },
  {
   "cell_type": "markdown",
   "id": "fa0689a7-10e2-4e48-b4e5-b1b78c9eedc9",
   "metadata": {
    "jp-MarkdownHeadingCollapsed": true,
    "tags": []
   },
   "source": [
    "### Human Health"
   ]
  },
  {
   "cell_type": "code",
   "execution_count": null,
   "id": "4edfd310-2df8-485b-aaf3-268db2cd5b61",
   "metadata": {},
   "outputs": [],
   "source": [
    "#creating dataframe\n",
    "summed_df =pd.DataFrame()\n",
    "\n",
    "#running the life cycle stages contribution for all categories that contribute to the human health area of concern.\n",
    "for IC in HH:\n",
    "    ca = ca_calc(acts_GT_bat_2040, Database('GENESIS_2040_GT-bat_NDC'), IC) | ca_calc(acts_conv_2040, Database('GENESIS_2040_conventional_NDC'), IC) | ca_calc(acts_PEMFC_bat_2040,  Database('GENESIS_2040_PEMFC-bat_NDC'), IC)\n",
    "    ca_data = [[k, *v] for k, lst in ca.items() for v in lst]\n",
    "    \n",
    "    #setting up dataframe\n",
    "    df = pd.DataFrame(ca_data, columns=['Configuration', 'Stage', str(IC)])\n",
    "    df = df.groupby(['Configuration','Stage'])[str(IC)].sum().unstack().fillna(0)\n",
    "    df['production of aircraft, GT-bat'] = df['production of aircraft, GT-bat'] + df['production of aircraft, conventional'] + df['production of aircraft, PEMFC-bat']\n",
    "    df = df.drop(columns=['production of aircraft, conventional', 'production of aircraft, PEMFC-bat'])\n",
    "    df = df.rename(columns={'SAF production, medium-term, proxy': 'SAF production',\n",
    "                            'airport use': 'Airport use',\n",
    "                            'market for kerosene': 'Kerosene production',\n",
    "                            'market group for electricity, low voltage': 'Electricity production',\n",
    "                            'production of aircraft, GT-bat': 'Aircraft production',\n",
    "                            'hydrogen at airport': 'H2'})\n",
    "    df.index = pd.MultiIndex.from_tuples(df.index.str.split(', ').tolist())\n",
    "    df = df.reset_index(names=['LC', 'Mission', 'Configuration', 'Fuel']).drop(columns=['LC']).fillna(value='Kerosene')\n",
    "    df = df.rename_axis(None, axis=1)\n",
    "    df['Configuration'] = df['Configuration'].replace('conventional', 'Conventional')\n",
    "    if not summed_df.empty:\n",
    "          summed_df[['Combustion','SAF production', 'Airport use', 'Kerosene production', 'Electricity production', 'Aircraft production']] = summed_df[['Combustion','SAF production', 'Airport use', 'Kerosene production', 'Electricity production', 'Aircraft production']] + df[['Combustion','SAF production', 'Airport use', 'Kerosene production', 'Electricity production', 'Aircraft production']]\n",
    "    else:\n",
    "          summed_df = df\n",
    "\n",
    "display(summed_df)\n",
    "\n",
    "#saving dataframe as pickle file\n",
    "with open(f\"endpoint_stages_contribution_HH_2040.pkl\", \"wb+\") as f:\n",
    "        pickle.dump(summed_df, f)"
   ]
  },
  {
   "cell_type": "markdown",
   "id": "6a4d6183-1d37-4a88-bf67-82b4d9afd380",
   "metadata": {
    "jp-MarkdownHeadingCollapsed": true,
    "tags": []
   },
   "source": [
    "### Ecosystem Quality"
   ]
  },
  {
   "cell_type": "code",
   "execution_count": null,
   "id": "4f11cdd1-85a7-4eb9-bcab-3a4fe2152803",
   "metadata": {},
   "outputs": [],
   "source": [
    "#creating dataframe\n",
    "summed_df =pd.DataFrame()\n",
    "\n",
    "for IC in EQ:\n",
    "    ca = ca_calc(acts_GT_bat_2040, Database('GENESIS_2040_GT-bat_NDC'), IC) | ca_calc(acts_conv_2040, Database('GENESIS_2040_conventional_NDC'), IC) | ca_calc(acts_PEMFC_bat_2040,  Database('GENESIS_2040_PEMFC-bat_NDC'), IC)\n",
    "    ca_data = [[k, *v] for k, lst in ca.items() for v in lst]\n",
    "   \n",
    "    #setting up dataframe\n",
    "    df = pd.DataFrame(ca_data, columns=['Configuration', 'Stage', str(IC)])\n",
    "    df = df.groupby(['Configuration','Stage'])[str(IC)].sum().unstack().fillna(0)\n",
    "    df['production of aircraft, GT-bat'] = df['production of aircraft, GT-bat'] + df['production of aircraft, conventional'] + df['production of aircraft, PEMFC-bat']\n",
    "    df = df.drop(columns=['production of aircraft, conventional', 'production of aircraft, PEMFC-bat'])\n",
    "    df = df.rename(columns={'SAF production, medium-term, proxy': 'SAF production',\n",
    "                            'airport use': 'Airport use',\n",
    "                            'market for kerosene': 'Kerosene production',\n",
    "                            'market group for electricity, low voltage': 'Electricity production',\n",
    "                            'production of aircraft, GT-bat': 'Aircraft production',\n",
    "                            'hydrogen at airport': 'H2'})\n",
    "    df.index = pd.MultiIndex.from_tuples(df.index.str.split(', ').tolist())\n",
    "    df = df.reset_index(names=['LC', 'Mission', 'Configuration', 'Fuel']).drop(columns=['LC']).fillna(value='Kerosene')\n",
    "    df = df.rename_axis(None, axis=1)\n",
    "    df['Configuration'] = df['Configuration'].replace('conventional', 'Conventional')\n",
    "    if not summed_df.empty:\n",
    "          summed_df[['Combustion','SAF production', 'Airport use', 'Kerosene production', 'Electricity production', 'Aircraft production']] = summed_df[['Combustion','SAF production', 'Airport use', 'Kerosene production', 'Electricity production', 'Aircraft production']] + df[['Combustion','SAF production', 'Airport use', 'Kerosene production', 'Electricity production', 'Aircraft production']]\n",
    "    else:\n",
    "          summed_df = df\n",
    "display(summed_df)\n",
    "\n",
    "#saving dataframe as pickle file\n",
    "with open(f\"endpoint_stages_contribution_EQ_2040.pkl\", \"wb+\") as f:\n",
    "        pickle.dump(summed_df, f)          "
   ]
  }
 ],
 "metadata": {
  "kernelspec": {
   "display_name": "Python 3 (ipykernel)",
   "language": "python",
   "name": "python3"
  },
  "language_info": {
   "codemirror_mode": {
    "name": "ipython",
    "version": 3
   },
   "file_extension": ".py",
   "mimetype": "text/x-python",
   "name": "python",
   "nbconvert_exporter": "python",
   "pygments_lexer": "ipython3",
   "version": "3.10.9"
  }
 },
 "nbformat": 4,
 "nbformat_minor": 5
}
