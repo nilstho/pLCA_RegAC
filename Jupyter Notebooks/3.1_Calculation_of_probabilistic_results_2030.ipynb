{
 "cells": [
  {
   "cell_type": "markdown",
   "id": "927198b7-a513-4d19-a67a-a5b41722f9bd",
   "metadata": {},
   "source": [
    "# 3.1 Calculation of probabilistic results (2030)"
   ]
  },
  {
   "cell_type": "markdown",
   "id": "883b5ad6",
   "metadata": {
    "jp-MarkdownHeadingCollapsed": true,
    "tags": []
   },
   "source": [
    "## Importing libraries"
   ]
  },
  {
   "cell_type": "code",
   "execution_count": null,
   "id": "22f30af3",
   "metadata": {},
   "outputs": [],
   "source": [
    "from brightway2 import *\n",
    "import os               # to use \"operating system dependent functionality\"\n",
    "import numpy as np      # \"the fundamental package for scientific computing with Python\"\n",
    "import pandas as pd     # \"high-performance, easy-to-use data structures and data analysis tools\" for Python\n",
    "import numpy as np\n",
    "import matplotlib.pyplot as plt\n",
    "from scipy.stats import rankdata\n",
    "import string\n",
    "%matplotlib inline\n",
    "import pickle\n"
   ]
  },
  {
   "cell_type": "markdown",
   "id": "43d8020c-51c5-4a62-8b20-f2baf13748d5",
   "metadata": {
    "jp-MarkdownHeadingCollapsed": true,
    "tags": []
   },
   "source": [
    "## Projects setting"
   ]
  },
  {
   "cell_type": "code",
   "execution_count": null,
   "id": "1dc2fcc2-cbe2-44ee-8659-30fab2f94252",
   "metadata": {},
   "outputs": [],
   "source": [
    "projects.set_current('pLCA_RegAC_2030')"
   ]
  },
  {
   "cell_type": "markdown",
   "id": "629a7b42-ce41-4d74-931e-934aa1caa357",
   "metadata": {
    "jp-MarkdownHeadingCollapsed": true,
    "tags": []
   },
   "source": [
    "## ImpactWorld+ import"
   ]
  },
  {
   "cell_type": "code",
   "execution_count": null,
   "id": "4ceeba37-2b8f-457e-85fc-98d61417ff77",
   "metadata": {},
   "outputs": [],
   "source": [
    "# Import the specified BW2Package for the LCIA method IMPACTWorld+ file from the given path or import it to the same file location as this notebook\n",
    "BW2Package.import_file(\"Brightway_IW_damage_1_46_and_midpoint_1_28.bw2package\")\n",
    "\n",
    "# The water use method needs to be updated due to the fact that it was wrongly created.\n",
    "# Filter the methods list to find the desired method for 'IMPACTWorld+ (Default_Recommended_Midpoint 1.28)'.\n",
    "# Then, load the method and its characterization factors into the WS_lst variable.\n",
    "IWP_mid = [m for m in methods if 'IMPACTWorld+ (Default_Recommended_Midpoint 1.28)' in m[0]]\n",
    "WS = Method(IWP_mid[9])\n",
    "WS_lst = WS.load()\n",
    "\n",
    "# Define and remove certain characterization factors (CF) from the WS_lst.\n",
    "ex_CF = (('biosphere3', '2404b41a-2eed-4e9d-8ab6-783946fdf5d6'), -42.95353086694035)\n",
    "ex_CF_ocean = (('biosphere3', '4f0f15b3-b227-4cdc-b0b3-6412d55695d5'), 0)\n",
    "WS_lst.remove(ex_CF)\n",
    "WS_lst.remove(ex_CF_ocean)\n",
    "\n",
    "# Define a new characterization factor and add it to the WS_lst.\n",
    "new_CF = (('biosphere3', '8c1494a5-4987-4715-aa2d-1908c495f4eb'), 42.95353086694035)\n",
    "WS_lst.append(new_CF)\n",
    "\n",
    "# Create a new Method instance for the updated 'Water scarcity' method.\n",
    "# Register the new method and write the updated characterization factors to it.\n",
    "new_WS = Method(('IMPACTWorld+ (Default_Recommended_Midpoint 1.28)', 'Water scarcity'))\n",
    "new_WS.register()\n",
    "new_WS.write(WS_lst)"
   ]
  },
  {
   "cell_type": "markdown",
   "id": "4afb8678-af57-4eaf-8213-b94399277952",
   "metadata": {},
   "source": [
    "Assigning methods and units required for axis labels in visualisations"
   ]
  },
  {
   "cell_type": "code",
   "execution_count": null,
   "id": "8ed9752a-55ee-4bb4-9593-ad13df207f1e",
   "metadata": {
    "tags": []
   },
   "outputs": [],
   "source": [
    "IWP_mid = [m for m in methods if 'IMPACTWorld+ (Default_Recommended_Midpoint 1.28)' in m[0]]\n",
    "units_IWP_mid=['kg CO2eq.','kg CO2eq.','MJ dep.','kg dep.', 'kg NMVOCeq.','kg CFC-11eq.','CTUe','CTUh','CTUh','m3eq.','kg SO2eq.','kg SO2eq.','kg PO4eq.','kg Neq.', 'm2eq.', 'm2eq*yr.', 'kg PM2.5eq.', 'Bq C14eq.']"
   ]
  },
  {
   "cell_type": "code",
   "execution_count": null,
   "id": "64fc7a04-5bbe-4d87-ad1d-b1715f2e0b67",
   "metadata": {
    "tags": []
   },
   "outputs": [],
   "source": [
    "IWP_end = [m for m in methods if 'IMPACTWorld+ (Default_Recommended_Damage 1.46)' in m[0]]"
   ]
  },
  {
   "cell_type": "markdown",
   "id": "e7d41b12-4171-4f9b-b1cd-058d6b4306bd",
   "metadata": {
    "jp-MarkdownHeadingCollapsed": true,
    "tags": []
   },
   "source": [
    "## Selection of processes for the configurations"
   ]
  },
  {
   "cell_type": "markdown",
   "id": "0ee395af-c9ed-4954-b40e-7599423453c3",
   "metadata": {},
   "source": [
    "Defining the 'use of aircraft' processes for all configurations, SSP scenarios and fuels from the imported LCI databases"
   ]
  },
  {
   "cell_type": "code",
   "execution_count": null,
   "id": "4515c85a-3f78-4948-82e4-756a17db0334",
   "metadata": {
    "tags": []
   },
   "outputs": [],
   "source": [
    "#Aircraft use processes for the typical mission (200 nmi)\n",
    "\n",
    "#KERSOSENE FUELED AIRCRAFT\n",
    "#conventional \n",
    "typ_aircraft_conv_kero_NDC = Database('GENESIS_2030_conventional_NDC').get('F2FEAAE907F648A69BFB501E91366D35')\n",
    "typ_aircraft_conv_kero_Base = Database(\"GENESIS_2030_conventional_Base\").get('F2FEAAE907F648A69BFB501E91366D35')\n",
    "typ_aircraft_conv_kero_PkBudg500 = Database(\"GENESIS_2030_conventional_PkBudg500\").get('F2FEAAE907F648A69BFB501E91366D35')\n",
    "\n",
    "#Gt-bat \n",
    "typ_aircraft_GT_bat_kero_NDC = Database(\"GENESIS_2030_GT-bat_NDC\").get('6F97863F6BEF4DE383907C08DE912E6D')\n",
    "typ_aircraft_GT_bat_kero_Base = Database(\"GENESIS_2030_GT-bat_Base\").get('6F97863F6BEF4DE383907C08DE912E6D')\n",
    "typ_aircraft_GT_bat_kero_PkBudg500 = Database(\"GENESIS_2030_GT-bat_PkBudg500\").get('6F97863F6BEF4DE383907C08DE912E6D')\n",
    "\n",
    "\n",
    "#AAF FUELED AIRCRAFT\n",
    "#Conventional\n",
    "typ_aircraft_conv_AAF_NDC = Database(\"GENESIS_2030_conventional_NDC\").get('BE40C283116D46E986C246F2B77A86D7')\n",
    "typ_aircraft_conv_AAF_Base = Database(\"GENESIS_2030_conventional_Base\").get('BE40C283116D46E986C246F2B77A86D7')\n",
    "typ_aircraft_conv_AAF_PkBudg500 = Database(\"GENESIS_2030_conventional_PkBudg500\").get('BE40C283116D46E986C246F2B77A86D7')\n",
    "typ_aircraft_conv_ILUC_NDC = Database(\"GENESIS_2030_conventional_NDC_ILUC\").get('BE40C283116D46E986C246F2B77A86D7')\n",
    "\n",
    "#Gt-bat\n",
    "typ_aircraft_GT_bat_AAF_NDC = Database(\"GENESIS_2030_GT-bat_NDC\").get('DFDABF367DB344E4AFEF072D2A7634F3')\n",
    "typ_aircraft_GT_bat_AAF_Base = Database(\"GENESIS_2030_GT-bat_Base\").get('DFDABF367DB344E4AFEF072D2A7634F3')\n",
    "typ_aircraft_GT_bat_AAF_PkBudg500 = Database(\"GENESIS_2030_GT-bat_PkBudg500\").get('DFDABF367DB344E4AFEF072D2A7634F3'\n",
    "typ_aircraft_GT_bat_ILUC_NDC = Database(\"GENESIS_2030_GT-bat_NDC_ILUC\").get('DFDABF367DB344E4AFEF072D2A7634F3')\n"
   ]
  },
  {
   "cell_type": "code",
   "execution_count": null,
   "id": "3c8bc4d8-b58a-417b-8ef2-d31104c30b7d",
   "metadata": {},
   "outputs": [],
   "source": [
    "#Aircraft use processes for the design mission (600 nmi)\n",
    "\n",
    "#KERSOSENE FUELED AIRCRAFT\n",
    "#conventional\n",
    "des_aircraft_conv_kero_NDC = Database('GENESIS_2030_conventional_NDC').get('0808F060E0F94D1BB0380DFA4A9065F5')\n",
    "des_aircraft_conv_kero_Base = Database(\"GENESIS_2030_conventional_Base\").get('0808F060E0F94D1BB0380DFA4A9065F5')\n",
    "des_aircraft_conv_kero_PkBudg500 = Database(\"GENESIS_2030_conventional_PkBudg500\").get('0808F060E0F94D1BB0380DFA4A9065F5')\n",
    "\n",
    "#Gt-bat\n",
    "des_aircraft_GT_bat_kero_NDC = Database(\"GENESIS_2030_GT-bat_NDC\").get('3FCE85DD88EF4504A6F7D6326303F33D')\n",
    "des_aircraft_GT_bat_kero_Base = Database(\"GENESIS_2030_GT-bat_Base\").get('3FCE85DD88EF4504A6F7D6326303F33D')\n",
    "des_aircraft_GT_bat_kero_PkBudg500 = Database(\"GENESIS_2030_GT-bat_PkBudg500\").get('3FCE85DD88EF4504A6F7D6326303F33D')\n",
    "\n",
    "#AAF FUELED AIRCRAFT\n",
    "#Conventional\n",
    "des_aircraft_conv_AAF_NDC = Database(\"GENESIS_2030_conventional_NDC\").get('BA3B99FBFBDA4677867DD3202F1BD7CC')\n",
    "des_aircraft_conv_AAF_Base = Database(\"GENESIS_2030_conventional_Base\").get('BA3B99FBFBDA4677867DD3202F1BD7CC')\n",
    "des_aircraft_conv_AAF_PkBudg500 = Database(\"GENESIS_2030_conventional_PkBudg500\").get('BA3B99FBFBDA4677867DD3202F1BD7CC')\n",
    "des_aircraft_conv_ILUC_NDC = Database(\"GENESIS_2030_conventional_NDC_ILUC\").get('BA3B99FBFBDA4677867DD3202F1BD7CC')\n",
    "\n",
    "#Gt-bat\n",
    "des_aircraft_GT_bat_AAF_NDC = Database(\"GENESIS_2030_GT-bat_NDC\").get('8C441EC088644DCAA1FF915F3E9AF97F')\n",
    "des_aircraft_GT_bat_AAF_Base = Database(\"GENESIS_2030_GT-bat_Base\").get('8C441EC088644DCAA1FF915F3E9AF97F')\n",
    "des_aircraft_GT_bat_AAF_PkBudg500 = Database(\"GENESIS_2030_GT-bat_PkBudg500\").get('8C441EC088644DCAA1FF915F3E9AF97F')\n",
    "des_aircraft_GT_bat_ILUC_NDC = Database(\"GENESIS_2030_GT-bat_NDC_ILUC\").get('8C441EC088644DCAA1FF915F3E9AF97F')\n",
    "\n"
   ]
  },
  {
   "cell_type": "markdown",
   "id": "b9452e62-883f-4cf4-aa4c-58d61501e294",
   "metadata": {
    "jp-MarkdownHeadingCollapsed": true,
    "tags": []
   },
   "source": [
    "## Monte Carlo Calculation (500 runs, seed=35)"
   ]
  },
  {
   "cell_type": "markdown",
   "id": "0df46804-1a5b-43b2-a383-9f9282e40341",
   "metadata": {},
   "source": [
    "Definition of function for Monte Carlo simulations, with a seed number of 35. The code in the next cell is based on the work of Chris Mutel and Pascal Lesage https://github.com/PoutineAndRosti/Brightway-Seminar-2017/blob/master/Day%201%20PM/Brightway%20and%20uncertainty.ipynb"
   ]
  },
  {
   "cell_type": "code",
   "execution_count": null,
   "id": "18589323-7181-411a-81fc-b4646e6a4492",
   "metadata": {},
   "outputs": [],
   "source": [
    "def multiImpactMonteCarloLCA(functional_unit, list_methods, iterations):\n",
    "    \n",
    "    # Step 1 Create a MonteCarloLCA object with some functional unit but no method, set seed\n",
    "    MC_lca = MonteCarloLCA(functional_unit, seed=35)\n",
    "    #run .lci to build the A and B matrices \n",
    "    MC_lca.lci()\n",
    "    \n",
    "    # Step 2 Create an empty 'C_matrices' dictionary, that will collect characterization factor matrices (C matrices). \n",
    "    #Keys will be the tuple representing the method name, and the values will be the actual matrices.\n",
    "    C_matrices = {}\n",
    "    \n",
    "    # Step 3 for loop that iterates over a list of method names and stores the method_name:C_matrix in the dictionary\n",
    "    for method in list_methods:\n",
    "        MC_lca.switch_method(method)\n",
    "        #add the C matrix for the method in question to the C_matrices dictionary\n",
    "        C_matrices[method] = MC_lca.characterization_matrix \n",
    "\n",
    "    # Step 4 empty array (np.empty) of dimension equal to the number of methods that will be considered (rows) by the number of iterations required (columns).\n",
    "    results = np.empty((len(list_methods), iterations)) \n",
    "    \n",
    "    # Step 5 Populating the array using a for loop over the number of MonteCarlo iterations required (use next to rebuild the A and B matrices). \n",
    "    for iteration in range(iterations):\n",
    "        next(MC_lca)\n",
    "        for method_index, method in enumerate(list_methods):\n",
    "            results[method_index, iteration] = (C_matrices[method]*MC_lca.inventory).sum()\n",
    "    return results"
   ]
  },
  {
   "cell_type": "markdown",
   "id": "92ad6226-cd18-4b9f-ac7a-23ce2fa8bbc1",
   "metadata": {},
   "source": [
    "Setting up ImpactWorld+ for midpoint LCIA method "
   ]
  },
  {
   "cell_type": "code",
   "execution_count": null,
   "id": "744fc6ba-af04-49bd-be33-decf4aae1ad9",
   "metadata": {},
   "outputs": [],
   "source": [
    "IWP_mid = [m for m in methods if 'IMPACTWorld+ (Default_Recommended_Midpoint 1.28)' in m[0]]\n",
    "units_IWP_mid=['[kg CO2eq.]','[kg CO2eq.]','[MJ dep.]','[kg dep.]', '[kg NMVOCeq.]','[kg CFC-11eq.]','[CTUe]','[CTUh]','[CTUh]','[m3eq.]','[kg SO2eq.]','[kg SO2eq.]','[kg PO4eq.]','[kg Neq.]', '[m2eq.]', '[m2eq*yr.]', '[kg PM2.5eq.]', '[Bq C14eq.]']"
   ]
  },
  {
   "cell_type": "markdown",
   "id": "549d87e1-6df6-4ef3-9c40-2f5ed8e46f5b",
   "metadata": {},
   "source": [
    "Setting up ImpactWorld+ for endpoint LCIA method "
   ]
  },
  {
   "cell_type": "code",
   "execution_count": null,
   "id": "00e54258-788f-4f94-bd29-4e23adacf154",
   "metadata": {},
   "outputs": [],
   "source": [
    "IWP_end = [m for m in methods if 'IMPACTWorld+ (Default_Recommended_Damage 1.46)' in m[0]]"
   ]
  },
  {
   "cell_type": "markdown",
   "id": "403d391e-9730-430d-8de5-190199ea918d",
   "metadata": {
    "jp-MarkdownHeadingCollapsed": true,
    "tags": []
   },
   "source": [
    "### Design mission"
   ]
  },
  {
   "cell_type": "markdown",
   "id": "e401ba80-8c8d-41ce-9827-3fb6dd9d3828",
   "metadata": {
    "jp-MarkdownHeadingCollapsed": true,
    "tags": []
   },
   "source": [
    "#### Endpoint"
   ]
  },
  {
   "cell_type": "markdown",
   "id": "c30a97cd-a55f-4c06-b1da-1f8bc6ecd41a",
   "metadata": {},
   "source": [
    "Running the Monte Carlo simulations for the design mission configurations defined above (endpoint). Each configuration takes around 2.5 hours."
   ]
  },
  {
   "cell_type": "code",
   "execution_count": null,
   "id": "30fd8ce1-6f23-40cd-aed5-cadfd04c3df1",
   "metadata": {
    "tags": []
   },
   "outputs": [],
   "source": [
    "r_des_aircraft_conv_kero_NDC=multiImpactMonteCarloLCA({des_aircraft_conv_kero_NDC:1}, IWP_end, 500) \n",
    "r_des_aircraft_conv_kero_Base= multiImpactMonteCarloLCA({des_aircraft_conv_kero_Base:1}, IWP_end, 500) \n",
    "r_des_aircraft_conv_kero_PkBudg500=multiImpactMonteCarloLCA({des_aircraft_conv_kero_PkBudg500:1}, IWP_end, 500) \n",
    "r_des_aircraft_GT_bat_kero_NDC=multiImpactMonteCarloLCA({des_aircraft_GT_bat_kero_NDC:1}, IWP_end, 500) \n",
    "r_des_aircraft_GT_bat_kero_Base= multiImpactMonteCarloLCA({des_aircraft_GT_bat_kero_Base:1}, IWP_end, 500) \n",
    "r_des_aircraft_GT_bat_kero_PkBudg500=multiImpactMonteCarloLCA({des_aircraft_GT_bat_kero_PkBudg500:1}, IWP_end, 500)  \n",
    "r_des_aircraft_conv_AAF_NDC = multiImpactMonteCarloLCA({des_aircraft_conv_AAF_NDC:1}, IWP_end, 500) \n",
    "r_des_aircraft_conv_AAF_Base = multiImpactMonteCarloLCA({des_aircraft_conv_AAF_Base:1}, IWP_end, 500) \n",
    "r_des_aircraft_conv_AAF_PkBudg500 = multiImpactMonteCarloLCA({des_aircraft_conv_AAF_PkBudg500:1}, IWP_end, 500) \n",
    "r_des_aircraft_GT_bat_AAF_NDC =multiImpactMonteCarloLCA({des_aircraft_GT_bat_AAF_NDC:1}, IWP_end, 500) \n",
    "r_des_aircraft_GT_bat_AAF_Base =multiImpactMonteCarloLCA({des_aircraft_GT_bat_AAF_Base:1}, IWP_end, 500) \n",
    "r_des_aircraft_GT_bat_AAF_PkBudg500 =multiImpactMonteCarloLCA({des_aircraft_GT_bat_AAF_PkBudg500:1}, IWP_end, 500)\n",
    "r_des_aircraft_conv_ILUC_NDC = multiImpactMonteCarloLCA({des_aircraft_conv_ILUC_NDC:1}, IWP_end, 500) \n",
    "r_des_aircraft_GT_bat_ILUC_NDC =multiImpactMonteCarloLCA({des_aircraft_GT_bat_ILUC_NDC:1}, IWP_end, 500) \n",
    "\n",
    "#saving the results as a pickle\n",
    "var_endpoint = [r_des_aircraft_conv_kero_NDC,r_des_aircraft_conv_kero_Base,r_des_aircraft_conv_kero_PkBudg500,r_des_aircraft_GT_bat_kero_NDC, r_des_aircraft_GT_bat_kero_Base,r_des_aircraft_GT_bat_kero_PkBudg500,r_des_aircraft_conv_AAF_NDC,r_des_aircraft_conv_AAF_Base,r_des_aircraft_conv_AAF_PkBudg500,r_des_aircraft_GT_bat_AAF_NDC,r_des_aircraft_GT_bat_AAF_Base,r_des_aircraft_GT_bat_AAF_PkBudg500,r_des_aircraft_conv_ILUC_NDC,r_des_aircraft_GT_bat_ILUC_NDC] \n",
    "with open(f\"MC_design_endpoint_2030.pkl\", \"wb+\") as f:\n",
    "    pickle.dump(var_endpoint, f)\n"
   ]
  },
  {
   "cell_type": "markdown",
   "id": "d111b8a8-8135-4457-b56f-36fe755e3d8f",
   "metadata": {
    "jp-MarkdownHeadingCollapsed": true,
    "tags": []
   },
   "source": [
    "#### Midpoint"
   ]
  },
  {
   "cell_type": "markdown",
   "id": "5053dc19-db2b-4781-919e-4f1600695624",
   "metadata": {},
   "source": [
    "Running the Monte Carlo simulations for the design mission configurations defined above (midpoint). Each configuration takes around 2.5 hours."
   ]
  },
  {
   "cell_type": "code",
   "execution_count": null,
   "id": "6452b465-73bb-456c-8229-b78ee1432073",
   "metadata": {
    "collapsed": true,
    "jupyter": {
     "outputs_hidden": true
    },
    "tags": []
   },
   "outputs": [],
   "source": [
    "r_des_aircraft_conv_kero_NDC=multiImpactMonteCarloLCA({des_aircraft_conv_kero_NDC:1}, IWP_mid, 500) \n",
    "r_des_aircraft_conv_kero_Base= multiImpactMonteCarloLCA({des_aircraft_conv_kero_Base:1}, IWP_mid, 500) \n",
    "r_des_aircraft_conv_kero_PkBudg500=multiImpactMonteCarloLCA({des_aircraft_conv_kero_PkBudg500:1}, IWP_mid, 500) \n",
    "r_des_aircraft_GT_bat_kero_NDC=multiImpactMonteCarloLCA({des_aircraft_GT_bat_kero_NDC:1}, IWP_mid, 500) \n",
    "r_des_aircraft_GT_bat_kero_Base= multiImpactMonteCarloLCA({des_aircraft_GT_bat_kero_Base:1}, IWP_mid, 500) \n",
    "r_des_aircraft_GT_bat_kero_PkBudg500=multiImpactMonteCarloLCA({des_aircraft_GT_bat_kero_PkBudg500:1}, IWP_mid, 500)  \n",
    "r_des_aircraft_conv_AAF_NDC = multiImpactMonteCarloLCA({des_aircraft_conv_AAF_NDC:1}, IWP_mid, 500) \n",
    "r_des_aircraft_conv_AAF_Base = multiImpactMonteCarloLCA({des_aircraft_conv_AAF_Base:1}, IWP_mid, 500) \n",
    "r_des_aircraft_conv_AAF_PkBudg500 = multiImpactMonteCarloLCA({des_aircraft_conv_AAF_PkBudg500:1}, IWP_mid, 500) \n",
    "r_des_aircraft_GT_bat_AAF_NDC =multiImpactMonteCarloLCA({des_aircraft_GT_bat_AAF_NDC:1}, IWP_mid, 500) \n",
    "r_des_aircraft_GT_bat_AAF_Base =multiImpactMonteCarloLCA({des_aircraft_GT_bat_AAF_Base:1}, IWP_mid, 500) \n",
    "r_des_aircraft_GT_bat_AAF_PkBudg500 =multiImpactMonteCarloLCA({des_aircraft_GT_bat_AAF_PkBudg500:1}, IWP_mid, 500)\n",
    "r_des_aircraft_conv_ILUC_NDC = multiImpactMonteCarloLCA({des_aircraft_conv_ILUC_NDC:1}, IWP_mid, 500) \n",
    "r_des_aircraft_GT_bat_ILUC_NDC =multiImpactMonteCarloLCA({des_aircraft_GT_bat_ILUC_NDC:1}, IWP_mid, 500) \n",
    "\n",
    "var_midpoint = [r_des_aircraft_conv_kero_NDC,r_des_aircraft_conv_kero_Base,r_des_aircraft_conv_kero_PkBudg500,r_des_aircraft_GT_bat_kero_NDC, r_des_aircraft_GT_bat_kero_Base,r_des_aircraft_GT_bat_kero_PkBudg500,r_des_aircraft_conv_AAF_NDC,r_des_aircraft_conv_AAF_Base,r_des_aircraft_conv_AAF_PkBudg500,r_des_aircraft_GT_bat_AAF_NDC,r_des_aircraft_GT_bat_AAF_Base,r_des_aircraft_GT_bat_AAF_PkBudg500,r_des_aircraft_conv_ILUC_NDC,r_des_aircraft_GT_bat_ILUC_NDC]\n",
    "with open(f\"MC_design_midpoint_2030.pkl\", \"wb+\") as f:\n",
    "    pickle.dump(var_midpoint, f)"
   ]
  },
  {
   "cell_type": "markdown",
   "id": "ac0dc38e-0d35-4c9f-9a37-618e46a1c2d9",
   "metadata": {
    "jp-MarkdownHeadingCollapsed": true,
    "tags": []
   },
   "source": [
    "### Typical mission"
   ]
  },
  {
   "cell_type": "markdown",
   "id": "9ccf49c2-1d63-49de-98d5-b276276fe246",
   "metadata": {
    "jp-MarkdownHeadingCollapsed": true,
    "tags": []
   },
   "source": [
    "#### Endpoint"
   ]
  },
  {
   "cell_type": "markdown",
   "id": "55f587bd-c472-4939-88f4-44ad289b7ad7",
   "metadata": {},
   "source": [
    "Running the Monte Carlo simulations for the typical mission configurations (endpoint). Each configuration takes around 2.5 hours."
   ]
  },
  {
   "cell_type": "code",
   "execution_count": null,
   "id": "731d773e-b198-4ed3-ab96-e4057db9cb1c",
   "metadata": {
    "tags": []
   },
   "outputs": [],
   "source": [
    "r_typ_aircraft_conv_kero_NDC=multiImpactMonteCarloLCA({typ_aircraft_conv_kero_NDC:1}, IWP_end, 500) \n",
    "r_typ_aircraft_conv_kero_Base= multiImpactMonteCarloLCA({typ_aircraft_conv_kero_Base:1}, IWP_end, 500) \n",
    "r_typ_aircraft_conv_kero_PkBudg500=multiImpactMonteCarloLCA({typ_aircraft_conv_kero_PkBudg500:1}, IWP_end, 500) \n",
    "r_typ_aircraft_GT_bat_kero_NDC=multiImpactMonteCarloLCA({typ_aircraft_GT_bat_kero_NDC:1}, IWP_end, 500) \n",
    "r_typ_aircraft_GT_bat_kero_Base= multiImpactMonteCarloLCA({typ_aircraft_GT_bat_kero_Base:1}, IWP_end, 500) \n",
    "r_typ_aircraft_GT_bat_kero_PkBudg500=multiImpactMonteCarloLCA({typ_aircraft_GT_bat_kero_PkBudg500:1}, IWP_end, 500)  \n",
    "r_typ_aircraft_conv_AAF_NDC = multiImpactMonteCarloLCA({typ_aircraft_conv_AAF_NDC:1}, IWP_end, 500) \n",
    "r_typ_aircraft_conv_AAF_Base = multiImpactMonteCarloLCA({typ_aircraft_conv_AAF_Base:1}, IWP_end, 500) \n",
    "r_typ_aircraft_conv_AAF_PkBudg500 = multiImpactMonteCarloLCA({typ_aircraft_conv_AAF_PkBudg500:1}, IWP_end, 500) \n",
    "r_typ_aircraft_GT_bat_AAF_NDC =multiImpactMonteCarloLCA({typ_aircraft_GT_bat_AAF_NDC:1}, IWP_end, 500) \n",
    "r_typ_aircraft_GT_bat_AAF_Base =multiImpactMonteCarloLCA({typ_aircraft_GT_bat_AAF_Base:1}, IWP_end, 500) \n",
    "r_typ_aircraft_GT_bat_AAF_PkBudg500 =multiImpactMonteCarloLCA({typ_aircraft_GT_bat_AAF_PkBudg500:1}, IWP_end, 500)\n",
    "r_typ_aircraft_conv_ILUC_NDC = multiImpactMonteCarloLCA({typ_aircraft_conv_ILUC_NDC:1}, IWP_end, 500) \n",
    "r_typ_aircraft_GT_bat_ILUC_NDC =multiImpactMonteCarloLCA({typ_aircraft_GT_bat_ILUC_NDC:1}, IWP_end, 500) \n",
    "\n",
    "var_endpoint = [r_typ_aircraft_conv_kero_NDC,r_typ_aircraft_conv_kero_Base,r_typ_aircraft_conv_kero_PkBudg500,r_typ_aircraft_GT_bat_kero_NDC, r_typ_aircraft_GT_bat_kero_Base,r_typ_aircraft_GT_bat_kero_PkBudg500,r_typ_aircraft_conv_AAF_NDC,r_typ_aircraft_conv_AAF_Base,r_typ_aircraft_conv_AAF_PkBudg500,r_typ_aircraft_GT_bat_AAF_NDC,r_typ_aircraft_GT_bat_AAF_Base,r_typ_aircraft_GT_bat_AAF_PkBudg500,r_typ_aircraft_conv_ILUC_NDC,r_typ_aircraft_GT_bat_ILUC_NDC]\n",
    "with open(f\"MC_typical_endpoint_2030.pkl\", \"wb+\") as f:\n",
    "    pickle.dump(var_endpoint, f)\n"
   ]
  },
  {
   "cell_type": "markdown",
   "id": "518ccd14-4d88-4013-855c-302d230902fa",
   "metadata": {
    "jp-MarkdownHeadingCollapsed": true,
    "tags": []
   },
   "source": [
    "#### Midpoint"
   ]
  },
  {
   "cell_type": "markdown",
   "id": "309e75ba-661c-45ca-b541-9a006e3b51d4",
   "metadata": {},
   "source": [
    "Running the Monte Carlo simulations for the typical mission configurations (midpoint). Each configuration takes around 2.5 hours."
   ]
  },
  {
   "cell_type": "code",
   "execution_count": null,
   "id": "84e02239-04ac-4e69-baa0-779f0bd08a6f",
   "metadata": {
    "collapsed": true,
    "jupyter": {
     "outputs_hidden": true
    },
    "tags": []
   },
   "outputs": [],
   "source": [
    "r_typ_aircraft_conv_kero_NDC=multiImpactMonteCarloLCA({typ_aircraft_conv_kero_NDC:1}, IWP_mid, 500) \n",
    "r_typ_aircraft_conv_kero_Base= multiImpactMonteCarloLCA({typ_aircraft_conv_kero_Base:1}, IWP_mid, 500) \n",
    "r_typ_aircraft_conv_kero_PkBudg500=multiImpactMonteCarloLCA({typ_aircraft_conv_kero_PkBudg500:1}, IWP_mid, 500) \n",
    "r_typ_aircraft_GT_bat_kero_NDC=multiImpactMonteCarloLCA({typ_aircraft_GT_bat_kero_NDC:1}, IWP_mid, 500) \n",
    "r_typ_aircraft_GT_bat_kero_Base= multiImpactMonteCarloLCA({typ_aircraft_GT_bat_kero_Base:1}, IWP_mid, 500) \n",
    "r_typ_aircraft_GT_bat_kero_PkBudg500=multiImpactMonteCarloLCA({typ_aircraft_GT_bat_kero_PkBudg500:1}, IWP_mid, 500)  \n",
    "r_typ_aircraft_conv_AAF_NDC = multiImpactMonteCarloLCA({typ_aircraft_conv_AAF_NDC:1}, IWP_mid, 500) \n",
    "r_typ_aircraft_conv_AAF_Base = multiImpactMonteCarloLCA({typ_aircraft_conv_AAF_Base:1}, IWP_mid, 500) \n",
    "r_typ_aircraft_conv_AAF_PkBudg500 = multiImpactMonteCarloLCA({typ_aircraft_conv_AAF_PkBudg500:1}, IWP_mid, 500) \n",
    "r_typ_aircraft_GT_bat_AAF_NDC =multiImpactMonteCarloLCA({typ_aircraft_GT_bat_AAF_NDC:1}, IWP_mid, 500) \n",
    "r_typ_aircraft_GT_bat_AAF_Base =multiImpactMonteCarloLCA({typ_aircraft_GT_bat_AAF_Base:1}, IWP_mid, 500) \n",
    "r_typ_aircraft_GT_bat_AAF_PkBudg500 =multiImpactMonteCarloLCA({typ_aircraft_GT_bat_AAF_PkBudg500:1}, IWP_mid, 500)\n",
    "r_typ_aircraft_conv_ILUC_NDC = multiImpactMonteCarloLCA({typ_aircraft_conv_ILUC_NDC:1}, IWP_mid, 500) \n",
    "r_typ_aircraft_GT_bat_ILUC_NDC =multiImpactMonteCarloLCA({typ_aircraft_GT_bat_ILUC_NDC:1}, IWP_mid, 500) \n",
    "\n",
    "var_midpoint = [r_typ_aircraft_conv_kero_NDC,r_typ_aircraft_conv_kero_Base,r_typ_aircraft_conv_kero_PkBudg500,r_typ_aircraft_GT_bat_kero_NDC, r_typ_aircraft_GT_bat_kero_Base,r_typ_aircraft_GT_bat_kero_PkBudg500,r_typ_aircraft_conv_AAF_NDC,r_typ_aircraft_conv_AAF_Base,r_typ_aircraft_conv_AAF_PkBudg500,r_typ_aircraft_GT_bat_AAF_NDC,r_typ_aircraft_GT_bat_AAF_Base,r_typ_aircraft_GT_bat_AAF_PkBudg500,r_typ_aircraft_conv_ILUC_NDC,r_typ_aircraft_GT_bat_ILUC_NDC]\n",
    "with open(f\"MC_typical_midpoint_2030.pkl\", \"wb+\") as f:\n",
    "    pickle.dump(var_midpoint, f)\n"
   ]
  }
 ],
 "metadata": {
  "kernelspec": {
   "display_name": "Python 3 (ipykernel)",
   "language": "python",
   "name": "python3"
  },
  "language_info": {
   "codemirror_mode": {
    "name": "ipython",
    "version": 3
   },
   "file_extension": ".py",
   "mimetype": "text/x-python",
   "name": "python",
   "nbconvert_exporter": "python",
   "pygments_lexer": "ipython3",
   "version": "3.10.9"
  }
 },
 "nbformat": 4,
 "nbformat_minor": 5
}
