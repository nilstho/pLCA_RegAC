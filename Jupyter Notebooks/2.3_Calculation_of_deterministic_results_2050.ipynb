{
 "cells": [
  {
   "cell_type": "markdown",
   "id": "883b5ad6",
   "metadata": {
    "tags": []
   },
   "source": [
    "# 2.3 Calculation of deterministic results (2050)"
   ]
  },
  {
   "cell_type": "markdown",
   "id": "38dacd5c-5968-4d42-a396-1b1b9470b3db",
   "metadata": {
    "jp-MarkdownHeadingCollapsed": true,
    "tags": []
   },
   "source": [
    "## Importing libraries"
   ]
  },
  {
   "cell_type": "code",
   "execution_count": null,
   "id": "22f30af3",
   "metadata": {},
   "outputs": [],
   "source": [
    "from brightway2 import *\n",
    "import os               # to use \"operating system dependent functionality\"\n",
    "import numpy as np      # \"the fundamental package for scientific computing with Python\"\n",
    "import pandas as pd     # \"high-performance, easy-to-use data structures and data analysis tools\" for Python\n",
    "\n",
    "import matplotlib.pyplot as plt\n",
    "from scipy.stats import rankdata\n",
    "import string\n",
    "import pickle\n",
    "%matplotlib inline"
   ]
  },
  {
   "cell_type": "markdown",
   "id": "e8a9e3c3-f364-470f-95cd-3a2b7925d6ee",
   "metadata": {
    "jp-MarkdownHeadingCollapsed": true,
    "tags": []
   },
   "source": [
    "## Project setting"
   ]
  },
  {
   "cell_type": "code",
   "execution_count": null,
   "id": "bfa596d6",
   "metadata": {},
   "outputs": [],
   "source": [
    "projects.set_current('pLCA_RegAC_2050')"
   ]
  },
  {
   "cell_type": "markdown",
   "id": "63d6f9ba-08a3-49ce-b9ed-b04ae569b017",
   "metadata": {
    "jp-MarkdownHeadingCollapsed": true,
    "tags": []
   },
   "source": [
    "## ImpactWorld+ import"
   ]
  },
  {
   "cell_type": "code",
   "execution_count": null,
   "id": "e68a3266-6dab-429e-80d0-9dbb625455ba",
   "metadata": {},
   "outputs": [],
   "source": [
    "# Import the specified BW2Package for the LCIA method IMPACTWorld+ file from the given path or import it to the same file location as this notebook\n",
    "BW2Package.import_file(\"Brightway_IW_damage_1_46_and_midpoint_1_28.bw2package\")\n",
    "\n",
    "# The water use method needs to be updated due to the fact that it was wrongly created.\n",
    "# Filter the methods list to find the desired method for 'IMPACTWorld+ (Default_Recommended_Midpoint 1.28)'.\n",
    "# Then, load the method and its characterization factors into the WS_lst variable.\n",
    "IWP_mid = [m for m in methods if 'IMPACTWorld+ (Default_Recommended_Midpoint 1.28)' in m[0]]\n",
    "WS = Method(IWP_mid[9])\n",
    "WS_lst = WS.load()\n",
    "\n",
    "# Define and remove certain characterization factors (CF) from the WS_lst.\n",
    "ex_CF = (('biosphere3', '2404b41a-2eed-4e9d-8ab6-783946fdf5d6'), -42.95353086694035)\n",
    "ex_CF_ocean = (('biosphere3', '4f0f15b3-b227-4cdc-b0b3-6412d55695d5'), 0)\n",
    "WS_lst.remove(ex_CF)\n",
    "WS_lst.remove(ex_CF_ocean)\n",
    "\n",
    "# Define a new characterization factor and add it to the WS_lst.\n",
    "new_CF = (('biosphere3', '8c1494a5-4987-4715-aa2d-1908c495f4eb'), 42.95353086694035)\n",
    "WS_lst.append(new_CF)\n",
    "\n",
    "# Create a new Method instance for the updated 'Water scarcity' method.\n",
    "# Register the new method and write the updated characterization factors to it.\n",
    "new_WS = Method(('IMPACTWorld+ (Default_Recommended_Midpoint 1.28)', 'Water scarcity'))\n",
    "new_WS.register()\n",
    "new_WS.write(WS_lst)"
   ]
  },
  {
   "cell_type": "markdown",
   "id": "d567e642-2c9c-4418-8596-7a3267a6367f",
   "metadata": {},
   "source": [
    "Assigning methods and units required for axis labels in visualisations"
   ]
  },
  {
   "cell_type": "code",
   "execution_count": null,
   "id": "c16b2014-8753-48dd-a183-e2eb932b85d9",
   "metadata": {
    "tags": []
   },
   "outputs": [],
   "source": [
    "IWP_mid = [m for m in methods if 'IMPACTWorld+ (Default_Recommended_Midpoint 1.28)' in m[0]]\n",
    "units_IWP_mid=['kg CO2eq.','kg CO2eq.','MJ dep.','kg dep.', 'kg NMVOCeq.','kg CFC-11eq.','CTUe','CTUh','CTUh','m3eq.','kg SO2eq.','kg SO2eq.','kg PO4eq.','kg Neq.', 'm2eq.', 'm2eq*yr.', 'kg PM2.5eq.', 'Bq C14eq.']"
   ]
  },
  {
   "cell_type": "code",
   "execution_count": null,
   "id": "60cc8be9-21c3-41f4-b52e-5a2b90309fb7",
   "metadata": {
    "tags": []
   },
   "outputs": [],
   "source": [
    "IWP_end = [m for m in methods if 'IMPACTWorld+ (Default_Recommended_Damage 1.46)' in m[0]]"
   ]
  },
  {
   "cell_type": "markdown",
   "id": "b9452e62-883f-4cf4-aa4c-58d61501e294",
   "metadata": {
    "jp-MarkdownHeadingCollapsed": true,
    "tags": []
   },
   "source": [
    "## Selection of processes for the configurations"
   ]
  },
  {
   "cell_type": "code",
   "execution_count": null,
   "id": "a5d62240-6f16-422d-8332-7e8de77002fe",
   "metadata": {},
   "outputs": [],
   "source": [
    "#Aircraft use processes for the typical mission (200 nmi)\n",
    "\n",
    "#KERSOSENE FUELED AIRCRAFT\n",
    "#conventional \n",
    "typ_aircraft_conv_kero_NDC = Database('GENESIS_2050_conventional_NDC').get('17D40CF28F3748DD8B56ED861593DA72')\n",
    "typ_aircraft_conv_kero_Base = Database(\"GENESIS_2050_conventional_Base\").get('17D40CF28F3748DD8B56ED861593DA72')\n",
    "typ_aircraft_conv_kero_PkBudg500 = Database(\"GENESIS_2050_conventional_PkBudg500\").get('17D40CF28F3748DD8B56ED861593DA72')\n",
    "\n",
    "#AAF FUELED AIRCRAFT\n",
    "#Conventional\n",
    "typ_aircraft_conv_AAF_NDC = Database(\"GENESIS_2050_conventional_NDC\").get('70E4280FBBC24DC09EB5512226D396F6')\n",
    "typ_aircraft_conv_AAF_Base = Database(\"GENESIS_2050_conventional_Base\").get('70E4280FBBC24DC09EB5512226D396F6')\n",
    "typ_aircraft_conv_AAF_PkBudg500 = Database(\"GENESIS_2050_conventional_PkBudg500\").get('70E4280FBBC24DC09EB5512226D396F6')\n",
    "typ_aircraft_conv_ILUC_NDC = Database(\"GENESIS_2050_conventional_NDC_ILUC\").get('70E4280FBBC24DC09EB5512226D396F6')\n",
    "\n",
    "#HYDROGEN FUELED AIRCRAFT\n",
    "#SOFC-bat\n",
    "typ_aircraft_SOFC_bat_NDC = Database(\"GENESIS_2050_SOFC-bat_NDC\").get('17D40CF28F3748DD8B56ED861593DA72')\n",
    "typ_aircraft_SOFC_bat_Base = Database(\"GENESIS_2050_SOFC-bat_Base\").get('17D40CF28F3748DD8B56ED861593DA72')\n",
    "typ_aircraft_SOFC_bat_PkBudg500 = Database(\"GENESIS_2050_SOFC-bat_PkBudg500\").get('17D40CF28F3748DD8B56ED861593DA72')\n",
    "\n",
    "#PEMFC-BAT\n",
    "typ_aircraft_PEMFC_bat_NDC = Database('GENESIS_2050_PEMFC-bat_NDC').get('17D40CF28F3748DD8B56ED861593DA72')\n",
    "typ_aircraft_PEMFC_bat_Base = Database(\"GENESIS_2050_PEMFC-bat_Base\").get('17D40CF28F3748DD8B56ED861593DA72')\n",
    "typ_aircraft_PEMFC_bat_PkBudg500 = Database(\"GENESIS_2050_PEMFC-bat_PkBudg500\").get('17D40CF28F3748DD8B56ED861593DA72')"
   ]
  },
  {
   "cell_type": "code",
   "execution_count": null,
   "id": "a1e0122e-2042-4ee6-824d-beff92d55346",
   "metadata": {},
   "outputs": [],
   "source": [
    "#Aircraft use processes for the design mission (600 nmi)\n",
    "\n",
    "#KERSOSENE FUELED AIRCRAFT\n",
    "#Conventional\n",
    "des_aircraft_conv_kero_NDC = Database('GENESIS_2050_conventional_NDC').get('0808F060E0F94D1BB0380DFA4A9065F5')\n",
    "des_aircraft_conv_kero_Base = Database(\"GENESIS_2050_conventional_Base\").get('0808F060E0F94D1BB0380DFA4A9065F5')\n",
    "des_aircraft_conv_kero_PkBudg500 = Database(\"GENESIS_2050_conventional_PkBudg500\").get('0808F060E0F94D1BB0380DFA4A9065F5')\n",
    "\n",
    "#AAF FUELED AIRCRAFT\n",
    "#Conventional\n",
    "des_aircraft_conv_AAF_NDC = Database(\"GENESIS_2050_conventional_NDC\").get('E60BCC7BBBB44E729CCC8156F32F7793')\n",
    "des_aircraft_conv_AAF_Base = Database(\"GENESIS_2050_conventional_Base\").get('E60BCC7BBBB44E729CCC8156F32F7793')\n",
    "des_aircraft_conv_AAF_PkBudg500 = Database(\"GENESIS_2050_conventional_PkBudg500\").get('E60BCC7BBBB44E729CCC8156F32F7793')\n",
    "des_aircraft_conv_ILUC_NDC = Database(\"GENESIS_2050_conventional_NDC_ILUC\").get('E60BCC7BBBB44E729CCC8156F32F7793')\n",
    "\n",
    "#HYDROGEN FUELED AIRCRAFT\n",
    "#SOFC-bat\n",
    "des_aircraft_SOFC_bat_NDC = Database(\"GENESIS_2050_SOFC-bat_NDC\").get('0808F060E0F94D1BB0380DFA4A9065F5')\n",
    "des_aircraft_SOFC_bat_Base = Database(\"GENESIS_2050_SOFC-bat_Base\").get('0808F060E0F94D1BB0380DFA4A9065F5')\n",
    "des_aircraft_SOFC_bat_PkBudg500 = Database(\"GENESIS_2050_SOFC-bat_PkBudg500\").get('0808F060E0F94D1BB0380DFA4A9065F5')\n",
    "\n",
    "#PEMFC-BAT\n",
    "des_aircraft_PEMFC_bat_NDC = Database('GENESIS_2050_PEMFC-bat_NDC').get('0808F060E0F94D1BB0380DFA4A9065F5')\n",
    "des_aircraft_PEMFC_bat_Base = Database(\"GENESIS_2050_PEMFC-bat_Base\").get('0808F060E0F94D1BB0380DFA4A9065F5')\n",
    "des_aircraft_PEMFC_bat_PkBudg500 = Database(\"GENESIS_2050_PEMFC-bat_PkBudg500\").get('0808F060E0F94D1BB0380DFA4A9065F5')"
   ]
  },
  {
   "cell_type": "markdown",
   "id": "3a3971f7-7561-4a10-bae1-676e86f45cc1",
   "metadata": {},
   "source": [
    "Setting up dictionary with all 2030 typical mission configurations and SSP scenarios"
   ]
  },
  {
   "cell_type": "code",
   "execution_count": null,
   "id": "acadc14a-7b89-4626-bb31-590685839122",
   "metadata": {},
   "outputs": [],
   "source": [
    "configurations_typ = {\n",
    "     'typ_aircraft_conv_kero_Base': typ_aircraft_conv_kero_Base,\n",
    "     'typ_aircraft_conv_kero_NDC': typ_aircraft_conv_kero_NDC,\n",
    "     'typ_aircraft_conv_kero_PkBudg500': typ_aircraft_conv_kero_PkBudg500,\n",
    "     'typ_aircraft_conv_AAF_Base': typ_aircraft_conv_AAF_Base,\n",
    "     'typ_aircraft_conv_AAF_NDC': typ_aircraft_conv_AAF_NDC,\n",
    "     'typ_aircraft_conv_AAF_PkBudg500': typ_aircraft_conv_AAF_PkBudg500,\n",
    "     'typ_aircraft_SOFC_bat_Base': typ_aircraft_SOFC_bat_Base,\n",
    "     'typ_aircraft_SOFC_bat_NDC': typ_aircraft_SOFC_bat_NDC,\n",
    "     'typ_aircraft_SOFC_bat_PkBudg500': typ_aircraft_SOFC_bat_PkBudg500,\n",
    "     'typ_aircraft_PEMFC_bat_NDC':typ_aircraft_PEMFC_bat_NDC,\n",
    "     'typ_aircraft_PEMFC_bat_Base':typ_aircraft_PEMFC_bat_Base,\n",
    "     'typ_aircraft_PEMFC_bat_PkBudg500':typ_aircraft_PEMFC_bat_PkBudg500,\n",
    "     'typ_aircraft_conv_ILUC_NDC':typ_aircraft_conv_ILUC_NDC}"
   ]
  },
  {
   "cell_type": "code",
   "execution_count": null,
   "id": "fb70f0ad-03e6-4702-9d27-c1be445b506e",
   "metadata": {},
   "outputs": [],
   "source": [
    "configurations_des = {\n",
    "     'des_aircraft_conv_kero_Base': des_aircraft_conv_kero_Base,\n",
    "     'des_aircraft_conv_kero_NDC': des_aircraft_conv_kero_NDC,\n",
    "     'des_aircraft_conv_kero_PkBudg500': des_aircraft_conv_kero_PkBudg500,\n",
    "     'des_aircraft_conv_AAF_Base': des_aircraft_conv_AAF_Base,\n",
    "     'des_aircraft_conv_AAF_NDC': des_aircraft_conv_AAF_NDC,\n",
    "     'des_aircraft_conv_AAF_PkBudg500': des_aircraft_conv_AAF_PkBudg500,\n",
    "     'des_aircraft_SOFC_bat_Base': des_aircraft_SOFC_bat_Base,\n",
    "     'des_aircraft_SOFC_bat_NDC': des_aircraft_SOFC_bat_NDC,\n",
    "     'des_aircraft_SOFC_bat_PkBudg500': des_aircraft_SOFC_bat_PkBudg500,\n",
    "     'des_aircraft_PEMFC_bat_NDC':des_aircraft_PEMFC_bat_NDC,\n",
    "     'des_aircraft_PEMFC_bat_Base':des_aircraft_PEMFC_bat_Base,\n",
    "     'des_aircraft_PEMFC_bat_PkBudg500':des_aircraft_PEMFC_bat_PkBudg500,\n",
    "     'des_aircraft_conv_ILUC_NDC':des_aircraft_conv_ILUC_NDC}"
   ]
  },
  {
   "cell_type": "markdown",
   "id": "99469235-a75e-41d0-b9b4-fdc861377e3e",
   "metadata": {
    "jp-MarkdownHeadingCollapsed": true,
    "tags": []
   },
   "source": [
    "## Deterministic Results\n"
   ]
  },
  {
   "cell_type": "markdown",
   "id": "db424019-83d0-4972-984d-f9eb7edd11ce",
   "metadata": {
    "jp-MarkdownHeadingCollapsed": true,
    "tags": []
   },
   "source": [
    "### Midpoint"
   ]
  },
  {
   "cell_type": "markdown",
   "id": "672137b2-ee6d-4250-ae96-e802c7eb6a2a",
   "metadata": {},
   "source": [
    "Setting up ImpactWorld+ as midpoint LCIA method"
   ]
  },
  {
   "cell_type": "code",
   "execution_count": null,
   "id": "1bc0914e-4994-42f5-ac2c-a024b0cae496",
   "metadata": {},
   "outputs": [],
   "source": [
    "IWP_mid = [m for m in methods if 'IMPACTWorld+ (Default_Recommended_Midpoint 1.28)' in m[0]]"
   ]
  },
  {
   "cell_type": "markdown",
   "id": "202cc240-2bbb-44fb-9c3e-50903cac8591",
   "metadata": {},
   "source": [
    "#### Typical mission"
   ]
  },
  {
   "cell_type": "markdown",
   "id": "42378126-b5dc-48d4-8bbb-20723159d288",
   "metadata": {},
   "source": [
    "setting up empty dataframe for midpoint results"
   ]
  },
  {
   "cell_type": "code",
   "execution_count": null,
   "id": "896186b5-e990-4ae4-b796-188969a46f43",
   "metadata": {},
   "outputs": [],
   "source": [
    "deterministic_mid_typ = pd.DataFrame(columns=[col[1] for col in IWP_mid], index=list(configurations_typ.keys()))\n"
   ]
  },
  {
   "cell_type": "code",
   "execution_count": null,
   "id": "313fa4b4-9461-4df9-92ea-836e0e06ad31",
   "metadata": {},
   "outputs": [],
   "source": [
    "# generating midpoint results for 18 categories, for all 13 configurations\n",
    "\n",
    "for j in range(18):\n",
    "    for i in range(13):\n",
    "        test=configurations_typ[deterministic_mid_typ.index[i]]\n",
    "        E=[test]\n",
    "        fu={E[0]:1}\n",
    "        lca = LCA(fu, IWP_mid[j])\n",
    "        lca.lci()\n",
    "        lca.lcia()\n",
    "\n",
    "          #storing the midpoints in a dataframe\n",
    "        deterministic_mid_typ.loc[deterministic_mid_typ.index[i],deterministic_mid_typ.columns[j]]=lca.score\n",
    "display(deterministic_mid_typ)\n",
    "\n",
    "#saving the dataframe as a pickle file\n",
    "with open(f\"deterministic_midpoint_typ_2050.pkl\", \"wb+\") as f:\n",
    "        pickle.dump(deterministic_mid_typ, f)"
   ]
  },
  {
   "cell_type": "markdown",
   "id": "933d5552-9bcc-4d9a-8827-7096fc108a3e",
   "metadata": {},
   "source": [
    "#### Design mission"
   ]
  },
  {
   "cell_type": "markdown",
   "id": "94e2da91-702d-4806-b9f6-a8f2f81c51b5",
   "metadata": {},
   "source": [
    "setting up empty dataframe for midpoint results"
   ]
  },
  {
   "cell_type": "code",
   "execution_count": null,
   "id": "ca38d604-05c0-4fa3-a0a8-0c7c4ea58742",
   "metadata": {},
   "outputs": [],
   "source": [
    "deterministic_mid_des = pd.DataFrame(columns=[col[1] for col in IWP_mid], index=list(configurations_des.keys()))\n"
   ]
  },
  {
   "cell_type": "code",
   "execution_count": null,
   "id": "c38d8ee5-c814-41b9-812b-b466f54b5c0a",
   "metadata": {},
   "outputs": [],
   "source": [
    "# generating midpoint results for 18 categories, for all 13 configurations\n",
    "\n",
    "for j in range(18):\n",
    "    for i in range(13):\n",
    "        test=configurations_des[deterministic_mid_des.index[i]]\n",
    "        E=[test]\n",
    "        fu={E[0]:1}\n",
    "        lca = LCA(fu, IWP_mid[j])\n",
    "        lca.lci()\n",
    "        lca.lcia()\n",
    "\n",
    "          #storing the midpoints in a dataframe\n",
    "        deterministic_mid_des.loc[deterministic_mid_des.index[i],deterministic_mid_des.columns[j]]=lca.score\n",
    "display(deterministic_mid_des)\n",
    "\n",
    "#saving the dataframe as a pickle file\n",
    "with open(f\"deterministic_midpoint_des_2050.pkl\", \"wb+\") as f:\n",
    "        pickle.dump(deterministic_mid_des, f)"
   ]
  },
  {
   "cell_type": "markdown",
   "id": "b770583f-d64a-42f3-bc07-1493a521c249",
   "metadata": {
    "jp-MarkdownHeadingCollapsed": true,
    "tags": []
   },
   "source": [
    "### Endpoint"
   ]
  },
  {
   "cell_type": "markdown",
   "id": "f40995f1-6d55-49cb-a82d-d3b45775075a",
   "metadata": {},
   "source": [
    "Setting up ImpactWorld+ as endpoint LCIA method"
   ]
  },
  {
   "cell_type": "code",
   "execution_count": null,
   "id": "184e7886-dc2f-4cb1-b305-c140ff5103ab",
   "metadata": {},
   "outputs": [],
   "source": [
    "IWP_end = [m for m in methods if 'IMPACTWorld+ (Default_Recommended_Damage 1.46)' in m[0]]"
   ]
  },
  {
   "cell_type": "markdown",
   "id": "5a1ad273-734b-4b32-8038-4ca440c5f2e3",
   "metadata": {},
   "source": [
    "#### Typical mission"
   ]
  },
  {
   "cell_type": "markdown",
   "id": "61bcbb9b-62cc-47ef-b43e-a6bdd605a9c3",
   "metadata": {},
   "source": [
    "Setting up empty dataframe for endpoint results"
   ]
  },
  {
   "cell_type": "code",
   "execution_count": null,
   "id": "aa9796cc-9384-4633-b2e0-3b38f5831612",
   "metadata": {},
   "outputs": [],
   "source": [
    "deterministic_end_typ = pd.DataFrame(columns=[col[1] for col in IWP_end], index=list(configurations_typ.keys()))"
   ]
  },
  {
   "cell_type": "markdown",
   "id": "01a9b2cc-1182-44f2-8c61-bab242d3d586",
   "metadata": {},
   "source": [
    "Generating endpoint results for all configurations with ImpactWorld+ and saving them in a pickle format"
   ]
  },
  {
   "cell_type": "code",
   "execution_count": null,
   "id": "9ca3ea4a-de71-41f7-aaf3-635e42bfdce0",
   "metadata": {},
   "outputs": [],
   "source": [
    "# generating endpoint results for 27 categories, for all 13 configurations\n",
    "\n",
    "for j in range(27):\n",
    "    for i in range(13):\n",
    "        test=configurations_typ[deterministic_end_typ.index[i]]\n",
    "        E=[test]\n",
    "        fu={E[0]:1}\n",
    "        lca = LCA(fu, IWP_end[j])\n",
    "        lca.lci()\n",
    "        lca.lcia()\n",
    "\n",
    "        deterministic_end_typ.loc[deterministic_end_typ.index[i],deterministic_end_typ.columns[j]]=lca.score\n",
    "display(deterministic_end_typ)\n",
    "endpoint_2050=[deterministic_end_typ]\n",
    "with open(f\"deterministic_endpoint_typ_2050.pkl\", \"wb+\") as f:\n",
    "        pickle.dump(endpoint_2050, f)\n"
   ]
  },
  {
   "cell_type": "markdown",
   "id": "21f8df21-b9b6-4640-a297-c737533674f0",
   "metadata": {},
   "source": [
    "#### Design mission"
   ]
  },
  {
   "cell_type": "markdown",
   "id": "cf144d53-c816-402e-b7e6-0a34be0ca80f",
   "metadata": {},
   "source": [
    "Setting up empty dataframe for endpoint results"
   ]
  },
  {
   "cell_type": "code",
   "execution_count": null,
   "id": "c289f260-55c5-4cdd-9ceb-460093e7f9d0",
   "metadata": {},
   "outputs": [],
   "source": [
    "deterministic_end_des = pd.DataFrame(columns=[col[1] for col in IWP_end], index=list(configurations_des.keys()))"
   ]
  },
  {
   "cell_type": "markdown",
   "id": "983c601e-8d15-48c9-9241-ec031204e408",
   "metadata": {},
   "source": [
    "Generating endpoint results for all configurations with ImpactWorld+ and saving them in a pickle format"
   ]
  },
  {
   "cell_type": "code",
   "execution_count": null,
   "id": "87b16887-4abf-4b2c-8280-24faa03d97f7",
   "metadata": {},
   "outputs": [],
   "source": [
    "# generating endpoint results for 27 categories, for all 13 configurations\n",
    "\n",
    "for j in range(27):\n",
    "    for i in range(13):\n",
    "        test=configurations_des[deterministic_end_des.index[i]]\n",
    "        E=[test]\n",
    "        fu={E[0]:1}\n",
    "        lca = LCA(fu, IWP_end[j])\n",
    "        lca.lci()\n",
    "        lca.lcia()\n",
    "\n",
    "        deterministic_end_des.loc[deterministic_end_des.index[i],deterministic_end_des.columns[j]]=lca.score\n",
    "display(deterministic_end_des)\n",
    "endpoint_2050=[deterministic_end_des]\n",
    "with open(f\"deterministic_endpoint_des_2050.pkl\", \"wb+\") as f:\n",
    "        pickle.dump(endpoint_2050, f)\n"
   ]
  },
  {
   "cell_type": "markdown",
   "id": "8a1ef713-5ae6-4bd2-96d6-e42a083e2ab6",
   "metadata": {
    "jp-MarkdownHeadingCollapsed": true,
    "tags": []
   },
   "source": [
    "## Contribution of life cycle stages"
   ]
  },
  {
   "cell_type": "markdown",
   "id": "79e9e514-abc3-4770-818f-0afd871efd8c",
   "metadata": {},
   "source": [
    "The contribution of life cycle stages is only performed within the NDC scenario for endpoint."
   ]
  },
  {
   "cell_type": "markdown",
   "id": "711cf5bc-6987-47bb-8beb-7e5a3056e31e",
   "metadata": {},
   "source": [
    "Selecting all 'aircraft usage' proces codes from the NDC databases"
   ]
  },
  {
   "cell_type": "code",
   "execution_count": null,
   "id": "a7c8e336-6226-45b9-b70c-bb53e3353b34",
   "metadata": {},
   "outputs": [],
   "source": [
    "acts_conv_2050 = [act['code'] for act in Database('GENESIS_2050_conventional_NDC') if act['name'].startswith('aircraft usage')]\n",
    "acts_PEMFC_bat_2050=[act['code'] for act in Database('GENESIS_2050_PEMFC-bat_NDC') if act['name'].startswith('aircraft usage')]\n",
    "acts_SOFC_bat_2050=[act['code'] for act in Database('GENESIS_2050_SOFC-bat_NDC') if act['name'].startswith('aircraft usage')]"
   ]
  },
  {
   "cell_type": "markdown",
   "id": "6862c8fb-ed39-48a1-9cc6-b90dce164a34",
   "metadata": {},
   "source": [
    "Set up function for contributiona analysis calculation"
   ]
  },
  {
   "cell_type": "code",
   "execution_count": null,
   "id": "c683d5e9-4791-4786-8b3a-6f5cb4fbc753",
   "metadata": {},
   "outputs": [],
   "source": [
    "def ca_calc(act_list, database, method):\n",
    "    ca_dict = {}\n",
    "    for act in act_list:\n",
    "        test = database.get(act)\n",
    "        E = [test]\n",
    "        fu = {E[0]: 1}\n",
    "        lca = LCA(fu, method)\n",
    "        lca.lci()\n",
    "        lca.lcia()\n",
    "        ca_list = []\n",
    "        ca_list.append(('Combustion', lca.characterized_inventory[:,lca.activity_dict.get(test.key)].sum()))\n",
    "        for exc in test.technosphere():\n",
    "            lca.redo_lcia({exc.input: exc['amount']})\n",
    "            ca_list.append((exc.input['name'], lca.score))\n",
    "            ca_dict[test['name']] = ca_list\n",
    "    return ca_dict"
   ]
  },
  {
   "cell_type": "markdown",
   "id": "4d6b4c2d-f711-40d3-9af7-8687385c682f",
   "metadata": {},
   "source": [
    "Selection of relevant endpoint methods. For the climate change, human toxicity, marine acidification and freshwater ecotoxicicty damages, the impacts are only considered over the short-term time span (from t=0 to t=100 years). See world impact+ article from Bulle et al.(2019)"
   ]
  },
  {
   "cell_type": "code",
   "execution_count": null,
   "id": "23b5df89-106f-4eb5-9e48-ee3aea2a86f7",
   "metadata": {},
   "outputs": [],
   "source": [
    "HH=[IWP_end[2], IWP_end[7], IWP_end[11],IWP_end[12],IWP_end[13],IWP_end[16],IWP_end[18],IWP_end[25]]\n",
    "EQ=[IWP_end[0], IWP_end[4], IWP_end[6],IWP_end[8],IWP_end[9],IWP_end[10],IWP_end[14],IWP_end[20],IWP_end[21],IWP_end[22],IWP_end[23],IWP_end[24],IWP_end[26]]"
   ]
  },
  {
   "cell_type": "markdown",
   "id": "0f0907ee-d0d0-489e-a567-eb8ed68b9894",
   "metadata": {
    "jp-MarkdownHeadingCollapsed": true,
    "tags": []
   },
   "source": [
    "### Human Health"
   ]
  },
  {
   "cell_type": "code",
   "execution_count": null,
   "id": "188d3e33-fccd-487d-b7ea-c29ba0f437d5",
   "metadata": {},
   "outputs": [],
   "source": [
    "#creating dataframe\n",
    "summed_df =pd.DataFrame()\n",
    "\n",
    "#running the life cycle stages contribution for all categories that contribute to the human health area of concern. \n",
    "for IC in HH:\n",
    "    ca = ca_calc(acts_PEMFC_bat_2050, Database('GENESIS_2050_PEMFC-bat_NDC'), IC) | ca_calc(acts_conv_2050, Database('GENESIS_2050_conventional_NDC'), IC) | ca_calc(acts_SOFC_bat_2050, Database('GENESIS_2050_SOFC-bat_NDC'), IC)\n",
    "    ca_data = [[k, *v] for k, lst in ca.items() for v in lst]\n",
    "    \n",
    "    #setting up dataframe\n",
    "    df = pd.DataFrame(ca_data, columns=['Configuration', 'Stage', str(IC)])\n",
    "    df = df.groupby(['Configuration','Stage'])[str(IC)].sum().unstack().fillna(0)\n",
    "    df['production of aircraft, PEMFC-bat'] = df['production of aircraft, PEMFC-bat'] + df['production of aircraft, conventional'] + df['production of aircraft, SOFC-bat']\n",
    "    df = df.drop(columns=['production of aircraft, conventional', 'production of aircraft, SOFC-bat'])\n",
    "    df = df.rename(columns={'SAF production, long-term, proxy': 'SAF production',\n",
    "                            'airport use': 'Airport use',\n",
    "                            'market for kerosene': 'Kerosene production',\n",
    "                            'market group for electricity, low voltage': 'Electricity production',\n",
    "                            'production of aircraft, PEMFC-bat': 'Aircraft production',\n",
    "                            'hydrogen at airport': 'H2'})\n",
    "    df.index = pd.MultiIndex.from_tuples(df.index.str.split(', ').tolist())\n",
    "    df = df.reset_index(names=['LC', 'Mission', 'Configuration', 'Fuel']).drop(columns=['LC']).fillna(value='Kerosene')\n",
    "    df = df.rename_axis(None, axis=1)\n",
    "    df['Configuration'] = df['Configuration'].replace('conventional', 'Conventional')\n",
    "    if not summed_df.empty:\n",
    "          summed_df[['Combustion','SAF production', 'Airport use', 'Kerosene production', 'Electricity production', 'Aircraft production']] = summed_df[['Combustion','SAF production', 'Airport use', 'Kerosene production', 'Electricity production', 'Aircraft production']] + df[['Combustion','SAF production', 'Airport use', 'Kerosene production', 'Electricity production', 'Aircraft production']]\n",
    "    else:\n",
    "          summed_df = df\n",
    "display(summed_df)\n",
    "        \n",
    "#saving dataframe as pickle file\n",
    "with open(f\"endpoint_stages_contribution_HH_2050.pkl\", \"wb+\") as f:\n",
    "        pickle.dump(summed_df, f)  "
   ]
  },
  {
   "cell_type": "markdown",
   "id": "9f38ed01-8e84-4b14-a602-c5ab0f5a8723",
   "metadata": {
    "jp-MarkdownHeadingCollapsed": true,
    "tags": []
   },
   "source": [
    "### Ecosystem Quality"
   ]
  },
  {
   "cell_type": "code",
   "execution_count": null,
   "id": "a6f5d37a-e09f-4f05-bc48-a7b4d6a47a8e",
   "metadata": {},
   "outputs": [],
   "source": [
    "#creating dataframe\n",
    "summed_df =pd.DataFrame()\n",
    "\n",
    "#running the life cycle stages contribution for all categories that contribute to the human health area of concern. \n",
    "for IC in EQ:\n",
    "    ca = ca_calc(acts_PEMFC_bat_2050, Database('GENESIS_2050_PEMFC-bat_NDC'), IC) | ca_calc(acts_conv_2050, Database('GENESIS_2050_conventional_NDC'), IC) | ca_calc(acts_SOFC_bat_2050, Database('GENESIS_2050_SOFC-bat_NDC'), IC)\n",
    "    ca_data = [[k, *v] for k, lst in ca.items() for v in lst]\n",
    "    \n",
    "    #setting up dataframe\n",
    "    df = pd.DataFrame(ca_data, columns=['Configuration', 'Stage', str(IC)])\n",
    "    df = df.groupby(['Configuration','Stage'])[str(IC)].sum().unstack().fillna(0)\n",
    "    df['production of aircraft, PEMFC-bat'] = df['production of aircraft, PEMFC-bat'] + df['production of aircraft, conventional'] + df['production of aircraft, SOFC-bat']\n",
    "    df = df.drop(columns=['production of aircraft, conventional', 'production of aircraft, SOFC-bat'])\n",
    "    df = df.rename(columns={'SAF production, long-term, proxy': 'SAF production',\n",
    "                            'airport use': 'Airport use',\n",
    "                            'market for kerosene': 'Kerosene production',\n",
    "                            'market group for electricity, low voltage': 'Electricity production',\n",
    "                            'production of aircraft, PEMFC-bat': 'Aircraft production',\n",
    "                            'hydrogen at airport': 'H2'})\n",
    "    df.index = pd.MultiIndex.from_tuples(df.index.str.split(', ').tolist())\n",
    "    df = df.reset_index(names=['LC', 'Mission', 'Configuration', 'Fuel']).drop(columns=['LC']).fillna(value='Kerosene')\n",
    "    df = df.rename_axis(None, axis=1)\n",
    "    df['Configuration'] = df['Configuration'].replace('conventional', 'Conventional')\n",
    "    if not summed_df.empty:\n",
    "          summed_df[['Combustion','SAF production', 'Airport use', 'Kerosene production', 'Electricity production', 'Aircraft production']] = summed_df[['Combustion','SAF production', 'Airport use', 'Kerosene production', 'Electricity production', 'Aircraft production']] + df[['Combustion','SAF production', 'Airport use', 'Kerosene production', 'Electricity production', 'Aircraft production']]\n",
    "    else:\n",
    "          summed_df = df\n",
    "display(summed_df)\n",
    "\n",
    "with open(f\"endpoint_stages_contribution_EQ_2050.pkl\", \"wb+\") as f:\n",
    "        pickle.dump(summed_df, f)"
   ]
  }
 ],
 "metadata": {
  "kernelspec": {
   "display_name": "Python 3 (ipykernel)",
   "language": "python",
   "name": "python3"
  },
  "language_info": {
   "codemirror_mode": {
    "name": "ipython",
    "version": 3
   },
   "file_extension": ".py",
   "mimetype": "text/x-python",
   "name": "python",
   "nbconvert_exporter": "python",
   "pygments_lexer": "ipython3",
   "version": "3.10.9"
  }
 },
 "nbformat": 4,
 "nbformat_minor": 5
}
