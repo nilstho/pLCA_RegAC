{
 "cells": [
  {
   "cell_type": "markdown",
   "id": "883b5ad6",
   "metadata": {
    "tags": []
   },
   "source": [
    "# 3.2 Calculation of probabilistic results (2040)"
   ]
  },
  {
   "cell_type": "markdown",
   "id": "b4464f30-5a96-40b9-a6d4-8846c21fff54",
   "metadata": {
    "jp-MarkdownHeadingCollapsed": true,
    "tags": []
   },
   "source": [
    "## Importing libraries"
   ]
  },
  {
   "cell_type": "code",
   "execution_count": null,
   "id": "22f30af3",
   "metadata": {},
   "outputs": [],
   "source": [
    "from brightway2 import *\n",
    "import os               # to use \"operating system dependent functionality\"\n",
    "import numpy as np      # \"the fundamental package for scientific computing with Python\"\n",
    "import pandas as pd     # \"high-performance, easy-to-use data structures and data analysis tools\" for Python\n",
    "\n",
    "import matplotlib.pyplot as plt\n",
    "from scipy.stats import rankdata\n",
    "import string\n",
    "import pickle\n",
    "%matplotlib inline"
   ]
  },
  {
   "cell_type": "markdown",
   "id": "e8a9e3c3-f364-470f-95cd-3a2b7925d6ee",
   "metadata": {
    "jp-MarkdownHeadingCollapsed": true,
    "tags": []
   },
   "source": [
    "## Projects setting"
   ]
  },
  {
   "cell_type": "code",
   "execution_count": null,
   "id": "bfa596d6",
   "metadata": {},
   "outputs": [],
   "source": [
    "projects.set_current('pLCA_RegAC_2040')"
   ]
  },
  {
   "cell_type": "markdown",
   "id": "6aa4d2a7-b4be-4305-b646-0886a0a8b4e2",
   "metadata": {
    "jp-MarkdownHeadingCollapsed": true,
    "tags": []
   },
   "source": [
    "## ImpactWorld+ import"
   ]
  },
  {
   "cell_type": "code",
   "execution_count": null,
   "id": "bee0a132-c542-4c9e-be17-f020194a9595",
   "metadata": {},
   "outputs": [],
   "source": [
    "# Import the specified BW2Package for the LCIA method IMPACTWorld+ file from the given path or import it to the same file location as this notebook\n",
    "BW2Package.import_file(\"Brightway_IW_damage_1_46_and_midpoint_1_28.bw2package\")\n",
    "\n",
    "# The water use method needs to be updated due to the fact that it was wrongly created.\n",
    "# Filter the methods list to find the desired method for 'IMPACTWorld+ (Default_Recommended_Midpoint 1.28)'.\n",
    "# Then, load the method and its characterization factors into the WS_lst variable.\n",
    "IWP_mid = [m for m in methods if 'IMPACTWorld+ (Default_Recommended_Midpoint 1.28)' in m[0]]\n",
    "WS = Method(IWP_mid[9])\n",
    "WS_lst = WS.load()\n",
    "\n",
    "# Define and remove certain characterization factors (CF) from the WS_lst.\n",
    "ex_CF = (('biosphere3', '2404b41a-2eed-4e9d-8ab6-783946fdf5d6'), -42.95353086694035)\n",
    "ex_CF_ocean = (('biosphere3', '4f0f15b3-b227-4cdc-b0b3-6412d55695d5'), 0)\n",
    "WS_lst.remove(ex_CF)\n",
    "WS_lst.remove(ex_CF_ocean)\n",
    "\n",
    "# Define a new characterization factor and add it to the WS_lst.\n",
    "new_CF = (('biosphere3', '8c1494a5-4987-4715-aa2d-1908c495f4eb'), 42.95353086694035)\n",
    "WS_lst.append(new_CF)\n",
    "\n",
    "# Create a new Method instance for the updated 'Water scarcity' method.\n",
    "# Register the new method and write the updated characterization factors to it.\n",
    "new_WS = Method(('IMPACTWorld+ (Default_Recommended_Midpoint 1.28)', 'Water scarcity'))\n",
    "new_WS.register()\n",
    "new_WS.write(WS_lst)"
   ]
  },
  {
   "cell_type": "markdown",
   "id": "ca8e2a89-7c2d-490e-b873-a91b63b32a68",
   "metadata": {},
   "source": [
    "Assigning methods and units required for axis labels in visualisations"
   ]
  },
  {
   "cell_type": "code",
   "execution_count": null,
   "id": "ebf26eea-5add-4433-9586-1eabe5728f02",
   "metadata": {
    "tags": []
   },
   "outputs": [],
   "source": [
    "IWP_mid = [m for m in methods if 'IMPACTWorld+ (Default_Recommended_Midpoint 1.28)' in m[0]]\n",
    "units_IWP_mid=['kg CO2eq.','kg CO2eq.','MJ dep.','kg dep.', 'kg NMVOCeq.','kg CFC-11eq.','CTUe','CTUh','CTUh','m3eq.','kg SO2eq.','kg SO2eq.','kg PO4eq.','kg Neq.', 'm2eq.', 'm2eq*yr.', 'kg PM2.5eq.', 'Bq C14eq.']"
   ]
  },
  {
   "cell_type": "code",
   "execution_count": null,
   "id": "6e771288-162c-4e07-a6ee-c5f6b211dea9",
   "metadata": {
    "tags": []
   },
   "outputs": [],
   "source": [
    "IWP_end = [m for m in methods if 'IMPACTWorld+ (Default_Recommended_Damage 1.46)' in m[0]]"
   ]
  },
  {
   "cell_type": "markdown",
   "id": "bf7f0b0a-655f-40b9-8345-f30e3e13475d",
   "metadata": {
    "jp-MarkdownHeadingCollapsed": true,
    "tags": []
   },
   "source": [
    "## Selection of processes for the configurations"
   ]
  },
  {
   "cell_type": "markdown",
   "id": "c3f0c5fe-edd8-4630-a05c-0afce4b7dcaf",
   "metadata": {},
   "source": [
    "Defining the 'use of aircraft' processes for all configurations, SSP scenarios and fuels from the imported LCI databases"
   ]
  },
  {
   "cell_type": "code",
   "execution_count": null,
   "id": "296e3245-cc4a-4a7a-b253-8b35a078bb5e",
   "metadata": {},
   "outputs": [],
   "source": [
    "#Aircraft use processes for the typical mission (200 nmi)\n",
    "\n",
    "#KERSOSENE FUELED AIRCRAFT\n",
    "#conventional \n",
    "typ_aircraft_conv_kero_NDC = Database('GENESIS_2040_conventional_NDC').get('17D40CF28F3748DD8B56ED861593DA72')\n",
    "typ_aircraft_conv_kero_Base = Database(\"GENESIS_2040_conventional_Base\").get('17D40CF28F3748DD8B56ED861593DA72')\n",
    "typ_aircraft_conv_kero_PkBudg500 = Database(\"GENESIS_2040_conventional_PkBudg500\").get('17D40CF28F3748DD8B56ED861593DA72')\n",
    "\n",
    "#Gt-bat\n",
    "typ_aircraft_GT_bat_kero_NDC = Database(\"GENESIS_2040_GT-bat_NDC\").get('17D40CF28F3748DD8B56ED861593DA72')\n",
    "typ_aircraft_GT_bat_kero_Base = Database(\"GENESIS_2040_GT-bat_Base\").get('17D40CF28F3748DD8B56ED861593DA72')\n",
    "typ_aircraft_GT_bat_kero_PkBudg500 = Database(\"GENESIS_2040_GT-bat_PkBudg500\").get('17D40CF28F3748DD8B56ED861593DA72')\n",
    "\n",
    "#AAF FUELED AIRCRAFT\n",
    "#Conventional\n",
    "typ_aircraft_conv_AAF_NDC = Database(\"GENESIS_2040_conventional_NDC\").get('70E4280FBBC24DC09EB5512226D396F6')\n",
    "typ_aircraft_conv_AAF_Base = Database(\"GENESIS_2040_conventional_Base\").get('70E4280FBBC24DC09EB5512226D396F6')\n",
    "typ_aircraft_conv_AAF_PkBudg500 = Database(\"GENESIS_2040_conventional_PkBudg500\").get('70E4280FBBC24DC09EB5512226D396F6')\n",
    "typ_aircraft_conv_ILUC_NDC = Database(\"GENESIS_2040_conventional_NDC_ILUC\").get('70E4280FBBC24DC09EB5512226D396F6')\n",
    "\n",
    "#Gt-bat\n",
    "typ_aircraft_GT_bat_AAF_NDC = Database(\"GENESIS_2040_GT-bat_NDC\").get('70E4280FBBC24DC09EB5512226D396F6')\n",
    "typ_aircraft_GT_bat_AAF_Base = Database(\"GENESIS_2040_GT-bat_Base\").get('70E4280FBBC24DC09EB5512226D396F6')\n",
    "typ_aircraft_GT_bat_AAF_PkBudg500 = Database(\"GENESIS_2040_GT-bat_PkBudg500\").get('70E4280FBBC24DC09EB5512226D396F6')\n",
    "typ_aircraft_GT_bat_ILUC_NDC = Database(\"GENESIS_2040_GT-bat_NDC_ILUC\").get('70E4280FBBC24DC09EB5512226D396F6')\n",
    "\n",
    "#HYDROGEN FUELED AIRCRAFT\n",
    "#PEMFC-bat\n",
    "typ_aircraft_PEMFC_bat_NDC = Database('GENESIS_2040_PEMFC-bat_NDC').get('17D40CF28F3748DD8B56ED861593DA72')\n",
    "typ_aircraft_PEMFC_bat_Base = Database(\"GENESIS_2040_PEMFC-bat_Base\").get('17D40CF28F3748DD8B56ED861593DA72')\n",
    "typ_aircraft_PEMFC_bat_PkBudg500 = Database(\"GENESIS_2040_PEMFC-bat_PkBudg500\").get('17D40CF28F3748DD8B56ED861593DA72')"
   ]
  },
  {
   "cell_type": "code",
   "execution_count": null,
   "id": "76bca4fd-1317-4340-b671-83668832b832",
   "metadata": {},
   "outputs": [],
   "source": [
    "#Aircraft use processes for the design mission (600 nmi)\n",
    "\n",
    "#KERSOSENE FUELED AIRCRAFT\n",
    "#Conventional\n",
    "des_aircraft_conv_kero_NDC = Database('GENESIS_2040_conventional_NDC').get('0808F060E0F94D1BB0380DFA4A9065F5')\n",
    "des_aircraft_conv_kero_Base = Database(\"GENESIS_2040_conventional_Base\").get('0808F060E0F94D1BB0380DFA4A9065F5')\n",
    "des_aircraft_conv_kero_PkBudg500 = Database(\"GENESIS_2040_conventional_PkBudg500\").get('0808F060E0F94D1BB0380DFA4A9065F5')\n",
    "\n",
    "#Gt-bat\n",
    "des_aircraft_GT_bat_kero_NDC = Database(\"GENESIS_2040_GT-bat_NDC\").get('0808F060E0F94D1BB0380DFA4A9065F5')\n",
    "des_aircraft_GT_bat_kero_Base = Database(\"GENESIS_2040_GT-bat_Base\").get('0808F060E0F94D1BB0380DFA4A9065F5')\n",
    "des_aircraft_GT_bat_kero_PkBudg500 = Database(\"GENESIS_2040_GT-bat_PkBudg500\").get('0808F060E0F94D1BB0380DFA4A9065F5')\n",
    "\n",
    "#AAF FUELED AIRCRAFT\n",
    "#Conventional\n",
    "des_aircraft_conv_AAF_NDC = Database(\"GENESIS_2040_conventional_NDC\").get('E60BCC7BBBB44E729CCC8156F32F7793')\n",
    "des_aircraft_conv_AAF_Base = Database(\"GENESIS_2040_conventional_Base\").get('E60BCC7BBBB44E729CCC8156F32F7793')\n",
    "des_aircraft_conv_AAF_PkBudg500 = Database(\"GENESIS_2040_conventional_PkBudg500\").get('E60BCC7BBBB44E729CCC8156F32F7793')\n",
    "des_aircraft_conv_ILUC_NDC = Database(\"GENESIS_2040_conventional_NDC_ILUC\").get('E60BCC7BBBB44E729CCC8156F32F7793')\n",
    "\n",
    "#Gt-bat\n",
    "des_aircraft_GT_bat_AAF_NDC = Database(\"GENESIS_2040_GT-bat_NDC\").get('E60BCC7BBBB44E729CCC8156F32F7793')\n",
    "des_aircraft_GT_bat_AAF_Base = Database(\"GENESIS_2040_GT-bat_Base\").get('E60BCC7BBBB44E729CCC8156F32F7793')\n",
    "des_aircraft_GT_bat_AAF_PkBudg500 = Database(\"GENESIS_2040_GT-bat_PkBudg500\").get('E60BCC7BBBB44E729CCC8156F32F7793')\n",
    "des_aircraft_GT_bat_ILUC_NDC = Database(\"GENESIS_2040_GT-bat_NDC_ILUC\").get('E60BCC7BBBB44E729CCC8156F32F7793')\n",
    "\n",
    "#HYDROGEN FUELED AIRCRAFT\n",
    "#PEMFC-bat\n",
    "des_aircraft_PEMFC_bat_NDC = Database('GENESIS_2040_PEMFC-bat_NDC').get('0808F060E0F94D1BB0380DFA4A9065F5')\n",
    "des_aircraft_PEMFC_bat_Base = Database(\"GENESIS_2040_PEMFC-bat_Base\").get('0808F060E0F94D1BB0380DFA4A9065F5')\n",
    "des_aircraft_PEMFC_bat_PkBudg500 = Database(\"GENESIS_2040_PEMFC-bat_PkBudg500\").get('0808F060E0F94D1BB0380DFA4A9065F5')\n",
    "\n",
    "\n"
   ]
  },
  {
   "cell_type": "markdown",
   "id": "b9452e62-883f-4cf4-aa4c-58d61501e294",
   "metadata": {
    "jp-MarkdownHeadingCollapsed": true,
    "tags": []
   },
   "source": [
    "## Monte Carlo Calculation (500 runs, seed=35)"
   ]
  },
  {
   "cell_type": "markdown",
   "id": "e633b3fb-7433-4881-ac27-6b50a8dfb1f3",
   "metadata": {},
   "source": [
    "Definition of function for Monte Carlo simulations, with a seed number of 35. The code in the next cell is based on the work of Chris Mutel and Pascal Lesage https://github.com/PoutineAndRosti/Brightway-Seminar-2017/blob/master/Day%201%20PM/Brightway%20and%20uncertainty.ipynb"
   ]
  },
  {
   "cell_type": "code",
   "execution_count": null,
   "id": "18589323-7181-411a-81fc-b4646e6a4492",
   "metadata": {
    "tags": []
   },
   "outputs": [],
   "source": [
    "def multiImpactMonteCarloLCA(functional_unit, list_methods, iterations):\n",
    "    \n",
    "    # Step 1 Create a MonteCarloLCA object with some functional unit but no method, set seed\n",
    "    MC_lca = MonteCarloLCA(functional_unit, seed=35)\n",
    "    #run .lci to build the A and B matrices \n",
    "    MC_lca.lci()\n",
    "    \n",
    "    # Step 2 Create an empty 'C_matrices' dictionary, that will collect characterization factor matrices (C matrices). \n",
    "    #Keys will be the tuple representing the method name, and the values will be the actual matrices.\n",
    "    C_matrices = {}\n",
    "    \n",
    "    # Step 3 for loop that iterates over a list of method names and stores the method_name:C_matrix in the dictionary\n",
    "    for method in list_methods:\n",
    "        MC_lca.switch_method(method)\n",
    "        #add the C matrix for the method in question to the C_matrices dictionary\n",
    "        C_matrices[method] = MC_lca.characterization_matrix \n",
    "\n",
    "    # Step 4 empty array (np.empty) of dimension equal to the number of methods that will be considered (rows) by the number of iterations required (columns).\n",
    "    results = np.empty((len(list_methods), iterations)) \n",
    "    \n",
    "    # Step 5 Populating the array using a for loop over the number of MonteCarlo iterations required (use next to rebuild the A and B matrices). \n",
    "    for iteration in range(iterations):\n",
    "        next(MC_lca)\n",
    "        for method_index, method in enumerate(list_methods):\n",
    "            results[method_index, iteration] = (C_matrices[method]*MC_lca.inventory).sum()\n",
    "    return results"
   ]
  },
  {
   "cell_type": "markdown",
   "id": "5453f896-fa7d-4c0f-9688-356061baf2ce",
   "metadata": {},
   "source": [
    "Setting up ImpactWorld+ for midpoint LCIA method"
   ]
  },
  {
   "cell_type": "code",
   "execution_count": null,
   "id": "fafc0970-3350-4c80-aad0-8fda590a7598",
   "metadata": {
    "tags": []
   },
   "outputs": [],
   "source": [
    "IWP_mid = [m for m in methods if 'IMPACTWorld+ (Default_Recommended_Midpoint 1.28)' in m[0]]\n",
    "units_IWP_mid=['[kg CO2eq.]','[kg CO2eq.]','[MJ dep.]','[kg dep.]', '[kg NMVOCeq.]','[kg CFC-11eq.]','[CTUe]','[CTUh]','[CTUh]','[m3eq.]','[kg SO2eq.]','[kg SO2eq.]','[kg PO4eq.]','[kg Neq.]', '[m2eq.]', '[m2eq*yr.]', '[kg PM2.5eq.]', '[Bq C14eq.]']"
   ]
  },
  {
   "cell_type": "markdown",
   "id": "1a9cd045-58e3-419c-8499-8592fd4b6baa",
   "metadata": {},
   "source": [
    "Setting up ImpactWorld+ for endpoint LCIA method"
   ]
  },
  {
   "cell_type": "code",
   "execution_count": null,
   "id": "fea1cc97-b817-4e69-9e40-8d43a9354031",
   "metadata": {},
   "outputs": [],
   "source": [
    "IWP_end = [m for m in methods if 'IMPACTWorld+ (Default_Recommended_Damage 1.46)' in m[0]]"
   ]
  },
  {
   "cell_type": "markdown",
   "id": "436122c8-f538-4ef8-b0dd-74085c9fe6cf",
   "metadata": {
    "jp-MarkdownHeadingCollapsed": true,
    "tags": []
   },
   "source": [
    "### Design mission"
   ]
  },
  {
   "cell_type": "markdown",
   "id": "3f2aa987-8499-49d6-a40a-b2d332b765cc",
   "metadata": {
    "jp-MarkdownHeadingCollapsed": true,
    "tags": []
   },
   "source": [
    "#### Endpoint"
   ]
  },
  {
   "cell_type": "markdown",
   "id": "447e2066-deed-4e9a-af79-72bbaade3693",
   "metadata": {},
   "source": [
    "Running the Monte Carlo simulations for the design mission configurations defined above (endpoint). Each configuration takes around 2.5 hours."
   ]
  },
  {
   "cell_type": "code",
   "execution_count": null,
   "id": "d215d84d-3831-4495-a619-6b9d158d2cc9",
   "metadata": {
    "tags": []
   },
   "outputs": [],
   "source": [
    "r_des_aircraft_conv_kero_NDC=multiImpactMonteCarloLCA({des_aircraft_conv_kero_NDC:1}, IWP_end, 500) \n",
    "r_des_aircraft_conv_kero_Base= multiImpactMonteCarloLCA({des_aircraft_conv_kero_Base:1}, IWP_end, 500) \n",
    "r_des_aircraft_conv_kero_PkBudg500=multiImpactMonteCarloLCA({des_aircraft_conv_kero_PkBudg500:1}, IWP_end, 500)\n",
    "r_des_aircraft_GT_bat_kero_NDC=multiImpactMonteCarloLCA({des_aircraft_GT_bat_kero_NDC:1}, IWP_end, 500) \n",
    "r_des_aircraft_GT_bat_kero_Base= multiImpactMonteCarloLCA({des_aircraft_GT_bat_kero_Base:1}, IWP_end, 500) \n",
    "r_des_aircraft_GT_bat_kero_PkBudg500=multiImpactMonteCarloLCA({des_aircraft_GT_bat_kero_PkBudg500:1}, IWP_end, 500)  \n",
    "r_des_aircraft_conv_AAF_NDC = multiImpactMonteCarloLCA({des_aircraft_conv_AAF_NDC:1}, IWP_end, 500) \n",
    "r_des_aircraft_conv_AAF_Base = multiImpactMonteCarloLCA({des_aircraft_conv_AAF_Base:1}, IWP_end, 500) \n",
    "r_des_aircraft_conv_AAF_PkBudg500 = multiImpactMonteCarloLCA({des_aircraft_conv_AAF_PkBudg500:1}, IWP_end, 500) \n",
    "r_des_aircraft_GT_bat_AAF_NDC =multiImpactMonteCarloLCA({des_aircraft_GT_bat_AAF_NDC:1}, IWP_end, 500) \n",
    "r_des_aircraft_GT_bat_AAF_Base =multiImpactMonteCarloLCA({des_aircraft_GT_bat_AAF_Base:1}, IWP_end, 500) \n",
    "r_des_aircraft_GT_bat_AAF_PkBudg500=multiImpactMonteCarloLCA({des_aircraft_GT_bat_AAF_PkBudg500:1}, IWP_end, 500)\n",
    "r_des_aircraft_PEMFC_bat_NDC = multiImpactMonteCarloLCA({des_aircraft_PEMFC_bat_NDC:1}, IWP_end, 500) \n",
    "r_des_aircraft_PEMFC_bat_kero_Base = multiImpactMonteCarloLCA({des_aircraft_PEMFC_bat_Base:1}, IWP_end, 500) \n",
    "r_des_aircraft_PEMFC_bat_kero_PkBudg500 = multiImpactMonteCarloLCA({des_aircraft_PEMFC_bat_PkBudg500:1}, IWP_end, 500) \n",
    "r_des_aircraft_GT_bat_ILUC_NDC = multiImpactMonteCarloLCA({des_aircraft_GT_bat_ILUC_NDC:1}, IWP_end, 500)\n",
    "r_des_aircraft_conv_ILUC_NDC = multiImpactMonteCarloLCA({des_aircraft_conv_ILUC_NDC:1}, IWP_end, 500)\n",
    "\n",
    "var_design_endpoint_2040 = [r_des_aircraft_conv_kero_NDC,\n",
    "                       r_des_aircraft_conv_kero_Base,\n",
    "                       r_des_aircraft_conv_kero_PkBudg500,\n",
    "                       r_des_aircraft_GT_bat_kero_NDC,\n",
    "                       r_des_aircraft_GT_bat_kero_Base,\n",
    "                       r_des_aircraft_GT_bat_kero_PkBudg500,\n",
    "                       r_des_aircraft_conv_AAF_NDC,\n",
    "                       r_des_aircraft_conv_AAF_Base,\n",
    "                       r_des_aircraft_conv_AAF_PkBudg500,\n",
    "                       r_des_aircraft_GT_bat_AAF_NDC,\n",
    "                       r_des_aircraft_GT_bat_AAF_Base,\n",
    "                       r_des_aircraft_GT_bat_AAF_PkBudg500,\n",
    "                       r_des_aircraft_PEMFC_bat_NDC,\n",
    "                       r_des_aircraft_PEMFC_bat_kero_Base,\n",
    "                       r_des_aircraft_PEMFC_bat_kero_PkBudg500,\n",
    "                       r_des_aircraft_GT_bat_ILUC_NDC,\n",
    "                       r_des_aircraft_conv_ILUC_NDC]\n",
    "\n",
    "with open(f\"MC_design_endpoint_2040.pkl\", \"wb+\") as f:\n",
    "    pickle.dump(var_design_endpoint_2040, f)"
   ]
  },
  {
   "cell_type": "markdown",
   "id": "55f7d81d-3c5e-47ff-a4a5-21ed75254180",
   "metadata": {
    "jp-MarkdownHeadingCollapsed": true,
    "tags": []
   },
   "source": [
    "#### Midpoint"
   ]
  },
  {
   "cell_type": "markdown",
   "id": "100e8756-4bcc-4d23-a3d3-0d8220388836",
   "metadata": {},
   "source": [
    "Running the Monte Carlo simulations for the design mission configurations defined above (midpoint). Each configuration takes around 2.5 hours."
   ]
  },
  {
   "cell_type": "code",
   "execution_count": null,
   "id": "ad151837-c88d-43c5-a36b-bf30d3b592c4",
   "metadata": {
    "tags": []
   },
   "outputs": [],
   "source": [
    "r_des_aircraft_conv_kero_NDC=multiImpactMonteCarloLCA({des_aircraft_conv_kero_NDC:1}, IWP_mid, 500) \n",
    "r_des_aircraft_conv_kero_Base= multiImpactMonteCarloLCA({des_aircraft_conv_kero_Base:1}, IWP_mid, 500) \n",
    "r_des_aircraft_conv_kero_PkBudg500=multiImpactMonteCarloLCA({des_aircraft_conv_kero_PkBudg500:1}, IWP_mid, 500)\n",
    "r_des_aircraft_GT_bat_kero_NDC=multiImpactMonteCarloLCA({des_aircraft_GT_bat_kero_NDC:1}, IWP_mid, 500) \n",
    "r_des_aircraft_GT_bat_kero_Base= multiImpactMonteCarloLCA({des_aircraft_GT_bat_kero_Base:1}, IWP_mid, 500) \n",
    "r_des_aircraft_GT_bat_kero_PkBudg500=multiImpactMonteCarloLCA({des_aircraft_GT_bat_kero_PkBudg500:1}, IWP_mid, 500)  \n",
    "r_des_aircraft_conv_AAF_NDC = multiImpactMonteCarloLCA({des_aircraft_conv_AAF_NDC:1}, IWP_mid, 500) \n",
    "r_des_aircraft_conv_AAF_Base = multiImpactMonteCarloLCA({des_aircraft_conv_AAF_Base:1}, IWP_mid, 500) \n",
    "r_des_aircraft_conv_AAF_PkBudg500 = multiImpactMonteCarloLCA({des_aircraft_conv_AAF_PkBudg500:1}, IWP_mid, 500) \n",
    "r_des_aircraft_GT_bat_AAF_NDC =multiImpactMonteCarloLCA({des_aircraft_GT_bat_AAF_NDC:1}, IWP_mid, 500) \n",
    "r_des_aircraft_GT_bat_AAF_Base =multiImpactMonteCarloLCA({des_aircraft_GT_bat_AAF_Base:1}, IWP_mid, 500) \n",
    "r_des_aircraft_GT_bat_AAF_PkBudg500=multiImpactMonteCarloLCA({des_aircraft_GT_bat_AAF_PkBudg500:1}, IWP_mid, 500)\n",
    "r_des_aircraft_PEMFC_bat_NDC = multiImpactMonteCarloLCA({des_aircraft_PEMFC_bat_NDC:1}, IWP_mid, 500) \n",
    "r_des_aircraft_PEMFC_bat_kero_Base = multiImpactMonteCarloLCA({des_aircraft_PEMFC_bat_Base:1}, IWP_mid, 500) \n",
    "r_des_aircraft_PEMFC_bat_kero_PkBudg500 = multiImpactMonteCarloLCA({des_aircraft_PEMFC_bat_PkBudg500:1}, IWP_mid, 500) \n",
    "r_des_aircraft_GT_bat_ILUC_NDC = multiImpactMonteCarloLCA({des_aircraft_GT_bat_ILUC_NDC:1}, IWP_mid, 500)\n",
    "r_des_aircraft_conv_ILUC_NDC = multiImpactMonteCarloLCA({des_aircraft_conv_ILUC_NDC:1}, IWP_mid, 500)\n",
    "\n",
    "var_design_midpoint_2040 = [r_des_aircraft_conv_kero_NDC,\n",
    "                       r_des_aircraft_conv_kero_Base,\n",
    "                       r_des_aircraft_conv_kero_PkBudg500,\n",
    "                       r_des_aircraft_GT_bat_kero_NDC,\n",
    "                       r_des_aircraft_GT_bat_kero_Base,\n",
    "                       r_des_aircraft_GT_bat_kero_PkBudg500,\n",
    "                       r_des_aircraft_conv_AAF_NDC,\n",
    "                       r_des_aircraft_conv_AAF_Base,\n",
    "                       r_des_aircraft_conv_AAF_PkBudg500,\n",
    "                       r_des_aircraft_GT_bat_AAF_NDC,\n",
    "                       r_des_aircraft_GT_bat_AAF_Base,\n",
    "                       r_des_aircraft_GT_bat_AAF_PkBudg500,\n",
    "                       r_des_aircraft_PEMFC_bat_NDC,\n",
    "                       r_des_aircraft_PEMFC_bat_kero_Base,\n",
    "                       r_des_aircraft_PEMFC_bat_kero_PkBudg500,\n",
    "                       r_des_aircraft_GT_bat_ILUC_NDC,\n",
    "                       r_des_aircraft_conv_ILUC_NDC]\n",
    "\n",
    "with open(f\"MC_design_midpoint_2040.pkl\", \"wb+\") as f:\n",
    "    pickle.dump(var_design_midpoint_2040, f)"
   ]
  },
  {
   "cell_type": "markdown",
   "id": "face3f1e-8584-436e-885d-d8379897b01f",
   "metadata": {
    "jp-MarkdownHeadingCollapsed": true,
    "tags": []
   },
   "source": [
    "### Typical Mission"
   ]
  },
  {
   "cell_type": "markdown",
   "id": "072d099d-54ab-466f-b5ad-6b1eecfee070",
   "metadata": {
    "jp-MarkdownHeadingCollapsed": true,
    "tags": []
   },
   "source": [
    "#### Endpoint"
   ]
  },
  {
   "cell_type": "markdown",
   "id": "a7535b9f-b86d-4172-bb97-46fe41440b2d",
   "metadata": {},
   "source": [
    "Running the Monte Carlo simulations for the typical mission configurations defined above (endpoint). Each configuration takes around 2.5 hours."
   ]
  },
  {
   "cell_type": "code",
   "execution_count": null,
   "id": "30fd8ce1-6f23-40cd-aed5-cadfd04c3df1",
   "metadata": {
    "tags": []
   },
   "outputs": [],
   "source": [
    "r_typ_aircraft_conv_kero_NDC=multiImpactMonteCarloLCA({typ_aircraft_conv_kero_NDC:1}, IWP_end, 500) \n",
    "r_typ_aircraft_conv_kero_Base= multiImpactMonteCarloLCA({typ_aircraft_conv_kero_Base:1}, IWP_end, 500) \n",
    "r_typ_aircraft_conv_kero_PkBudg500=multiImpactMonteCarloLCA({typ_aircraft_conv_kero_PkBudg500:1}, IWP_end, 500)\n",
    "r_typ_aircraft_GT_bat_kero_NDC=multiImpactMonteCarloLCA({typ_aircraft_GT_bat_kero_NDC:1}, IWP_end, 500) \n",
    "r_typ_aircraft_GT_bat_kero_Base= multiImpactMonteCarloLCA({typ_aircraft_GT_bat_kero_Base:1}, IWP_end, 500) \n",
    "r_typ_aircraft_GT_bat_kero_PkBudg500=multiImpactMonteCarloLCA({typ_aircraft_GT_bat_kero_PkBudg500:1}, IWP_end, 500)  \n",
    "r_typ_aircraft_conv_AAF_NDC = multiImpactMonteCarloLCA({typ_aircraft_conv_AAF_NDC:1}, IWP_end, 500) \n",
    "r_typ_aircraft_conv_AAF_Base = multiImpactMonteCarloLCA({typ_aircraft_conv_AAF_Base:1}, IWP_end, 500) \n",
    "r_typ_aircraft_conv_AAF_PkBudg500 = multiImpactMonteCarloLCA({typ_aircraft_conv_AAF_PkBudg500:1}, IWP_end, 500) \n",
    "r_typ_aircraft_GT_bat_AAF_NDC =multiImpactMonteCarloLCA({typ_aircraft_GT_bat_AAF_NDC:1}, IWP_end, 500) \n",
    "r_typ_aircraft_GT_bat_AAF_Base =multiImpactMonteCarloLCA({typ_aircraft_GT_bat_AAF_Base:1}, IWP_end, 500) \n",
    "r_typ_aircraft_GT_bat_AAF_PkBudg500=multiImpactMonteCarloLCA({typ_aircraft_GT_bat_AAF_PkBudg500:1}, IWP_end, 500)\n",
    "r_typ_aircraft_PEMFC_bat_NDC = multiImpactMonteCarloLCA({typ_aircraft_PEMFC_bat_NDC:1}, IWP_end, 500) \n",
    "r_typ_aircraft_PEMFC_bat_kero_Base = multiImpactMonteCarloLCA({typ_aircraft_PEMFC_bat_Base:1}, IWP_end, 500) \n",
    "r_typ_aircraft_PEMFC_bat_kero_PkBudg500 = multiImpactMonteCarloLCA({typ_aircraft_PEMFC_bat_PkBudg500:1}, IWP_end, 500) \n",
    "r_typ_aircraft_GT_bat_ILUC_NDC = multiImpactMonteCarloLCA({typ_aircraft_GT_bat_ILUC_NDC:1}, IWP_end, 500)\n",
    "r_typ_aircraft_conv_ILUC_NDC = multiImpactMonteCarloLCA({typ_aircraft_conv_ILUC_NDC:1}, IWP_end, 500)\n",
    "\n",
    "var_typical_endpoint_2040 = [r_typ_aircraft_conv_kero_NDC,\n",
    "                       r_typ_aircraft_conv_kero_Base,\n",
    "                       r_typ_aircraft_conv_kero_PkBudg500,\n",
    "                       r_typ_aircraft_GT_bat_kero_NDC,\n",
    "                       r_typ_aircraft_GT_bat_kero_Base,\n",
    "                       r_typ_aircraft_GT_bat_kero_PkBudg500,\n",
    "                       r_typ_aircraft_conv_AAF_NDC,\n",
    "                       r_typ_aircraft_conv_AAF_Base,\n",
    "                       r_typ_aircraft_conv_AAF_PkBudg500,\n",
    "                       r_typ_aircraft_GT_bat_AAF_NDC,\n",
    "                       r_typ_aircraft_GT_bat_AAF_Base,\n",
    "                       r_typ_aircraft_GT_bat_AAF_PkBudg500,\n",
    "                       r_typ_aircraft_PEMFC_bat_NDC,\n",
    "                       r_typ_aircraft_PEMFC_bat_kero_Base,\n",
    "                       r_typ_aircraft_PEMFC_bat_kero_PkBudg500,\n",
    "                       r_typ_aircraft_GT_bat_ILUC_NDC,\n",
    "                       r_typ_aircraft_conv_ILUC_NDC]\n",
    "\n",
    "with open(f\"MC_typical_endpoint_2040.pkl\", \"wb+\") as f:\n",
    "    pickle.dump(var_typical_endpoint_2040, f)"
   ]
  },
  {
   "cell_type": "markdown",
   "id": "7f02e5b4-fc0f-44f4-8ef7-ef2b6495f9a1",
   "metadata": {
    "jp-MarkdownHeadingCollapsed": true,
    "tags": []
   },
   "source": [
    "#### Midpoint"
   ]
  },
  {
   "cell_type": "markdown",
   "id": "e04ae7b0-87fc-4675-bf19-ae5501ca0a92",
   "metadata": {},
   "source": [
    "Running the Monte Carlo simulations for the typical mission configurations defined above (midpoint). Each configuration takes around 2.5 hours."
   ]
  },
  {
   "cell_type": "code",
   "execution_count": null,
   "id": "f0637de1-1765-446b-87fc-7c8dc043117e",
   "metadata": {
    "tags": []
   },
   "outputs": [],
   "source": [
    "r_typ_aircraft_conv_kero_NDC=multiImpactMonteCarloLCA({typ_aircraft_conv_kero_NDC:1}, IWP_mid, 500) \n",
    "r_typ_aircraft_conv_kero_Base= multiImpactMonteCarloLCA({typ_aircraft_conv_kero_Base:1}, IWP_mid, 500) \n",
    "r_typ_aircraft_conv_kero_PkBudg500=multiImpactMonteCarloLCA({typ_aircraft_conv_kero_PkBudg500:1}, IWP_mid, 500)\n",
    "r_typ_aircraft_GT_bat_kero_NDC=multiImpactMonteCarloLCA({typ_aircraft_GT_bat_kero_NDC:1}, IWP_mid, 500) \n",
    "r_typ_aircraft_GT_bat_kero_Base= multiImpactMonteCarloLCA({typ_aircraft_GT_bat_kero_Base:1}, IWP_mid, 500) \n",
    "r_typ_aircraft_GT_bat_kero_PkBudg500=multiImpactMonteCarloLCA({typ_aircraft_GT_bat_kero_PkBudg500:1}, IWP_mid, 500)  \n",
    "r_typ_aircraft_conv_AAF_NDC = multiImpactMonteCarloLCA({typ_aircraft_conv_AAF_NDC:1}, IWP_mid, 500) \n",
    "r_typ_aircraft_conv_AAF_Base = multiImpactMonteCarloLCA({typ_aircraft_conv_AAF_Base:1}, IWP_mid, 500) \n",
    "r_typ_aircraft_conv_AAF_PkBudg500 = multiImpactMonteCarloLCA({typ_aircraft_conv_AAF_PkBudg500:1}, IWP_mid, 500) \n",
    "r_typ_aircraft_GT_bat_AAF_NDC =multiImpactMonteCarloLCA({typ_aircraft_GT_bat_AAF_NDC:1}, IWP_mid, 500) \n",
    "r_typ_aircraft_GT_bat_AAF_Base =multiImpactMonteCarloLCA({typ_aircraft_GT_bat_AAF_Base:1}, IWP_mid, 500) \n",
    "r_typ_aircraft_GT_bat_AAF_PkBudg500=multiImpactMonteCarloLCA({typ_aircraft_GT_bat_AAF_PkBudg500:1}, IWP_mid, 500)\n",
    "r_typ_aircraft_PEMFC_bat_NDC = multiImpactMonteCarloLCA({typ_aircraft_PEMFC_bat_NDC:1}, IWP_mid, 500) \n",
    "r_typ_aircraft_PEMFC_bat_kero_Base = multiImpactMonteCarloLCA({typ_aircraft_PEMFC_bat_Base:1}, IWP_mid, 500) \n",
    "r_typ_aircraft_PEMFC_bat_kero_PkBudg500 = multiImpactMonteCarloLCA({typ_aircraft_PEMFC_bat_PkBudg500:1}, IWP_mid, 500) \n",
    "r_typ_aircraft_GT_bat_ILUC_NDC = multiImpactMonteCarloLCA({typ_aircraft_GT_bat_ILUC_NDC:1}, IWP_mid, 500)\n",
    "r_typ_aircraft_conv_ILUC_NDC = multiImpactMonteCarloLCA({typ_aircraft_conv_ILUC_NDC:1}, IWP_mid, 500)\n",
    "\n",
    "var_typical_midpoint_2040 = [r_typ_aircraft_conv_kero_NDC,\n",
    "                       r_typ_aircraft_conv_kero_Base,\n",
    "                       r_typ_aircraft_conv_kero_PkBudg500,\n",
    "                       r_typ_aircraft_GT_bat_kero_NDC,\n",
    "                       r_typ_aircraft_GT_bat_kero_Base,\n",
    "                       r_typ_aircraft_GT_bat_kero_PkBudg500,\n",
    "                       r_typ_aircraft_conv_AAF_NDC,\n",
    "                       r_typ_aircraft_conv_AAF_Base,\n",
    "                       r_typ_aircraft_conv_AAF_PkBudg500,\n",
    "                       r_typ_aircraft_GT_bat_AAF_NDC,\n",
    "                       r_typ_aircraft_GT_bat_AAF_Base,\n",
    "                       r_typ_aircraft_GT_bat_AAF_PkBudg500,\n",
    "                       r_typ_aircraft_PEMFC_bat_NDC,\n",
    "                       r_typ_aircraft_PEMFC_bat_kero_Base,\n",
    "                       r_typ_aircraft_PEMFC_bat_kero_PkBudg500,\n",
    "                       r_typ_aircraft_GT_bat_ILUC_NDC,\n",
    "                       r_typ_aircraft_conv_ILUC_NDC]\n",
    "\n",
    "with open(f\"MC_typical_midpoint_2040.pkl\", \"wb+\") as f:\n",
    "    pickle.dump(var_typical_midpoint_2040, f)"
   ]
  }
 ],
 "metadata": {
  "kernelspec": {
   "display_name": "Python 3 (ipykernel)",
   "language": "python",
   "name": "python3"
  },
  "language_info": {
   "codemirror_mode": {
    "name": "ipython",
    "version": 3
   },
   "file_extension": ".py",
   "mimetype": "text/x-python",
   "name": "python",
   "nbconvert_exporter": "python",
   "pygments_lexer": "ipython3",
   "version": "3.10.9"
  }
 },
 "nbformat": 4,
 "nbformat_minor": 5
}
